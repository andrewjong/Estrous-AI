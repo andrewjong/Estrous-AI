{
 "cells": [
  {
   "cell_type": "code",
   "execution_count": 1,
   "metadata": {},
   "outputs": [],
   "source": [
    "from torchvision import models as tvm\n",
    "import pretrainedmodels as ptm\n",
    "models = (\n",
    "    tvm.resnet101, \n",
    "    tvm.resnet152, \n",
    "    \n",
    "    ptm.inceptionv4, \n",
    "    ptm.inceptionresnetv2\n",
    ")\n",
    "\n",
    "DATA_DIR = 'data/4_class_11'\n",
    "\n",
    "domain = [\n",
    "    {'name': 'model_num', 'type': 'discrete', 'domain': range(len(models))},\n",
    "    {'name': 'batch_size', 'type': 'discrete', 'domain': (1, 4, 16, 24, 32, 48, 64)},\n",
    "    {'name': 'adam_lr', 'type': 'continuous', 'domain': (0.001, 0.005, 0.01, 0.05, 0.1, 0.2)},\n",
    "    {'name': 'adam_beta1', 'type': 'continuous', 'domain': (0.8, 1.)},\n",
    "    {'name': 'adam_beta2', 'type': 'continuous', 'domain': (0.8, 1.)},\n",
    "    {'name': 'adam_wtdecay', 'type': 'continuous', 'domain': (0, 1)},\n",
    "    {'name': 'epochs', 'type': 'discrete', 'domain': (10, 20, 30, 40, 50)}\n",
    "]"
   ]
  },
  {
   "cell_type": "code",
   "execution_count": 2,
   "metadata": {},
   "outputs": [],
   "source": [
    "def f(x):\n",
    "    \"\"\" Value function to minimize for bayesian optimization \"\"\"\n",
    "    val_acc = train(\n",
    "        model_num=int(x[:,0]),\n",
    "        batch_size=int(x[:,1]),\n",
    "        adam_lr=float(x[:,2]),\n",
    "        adam_b1=float(x[:,3]),\n",
    "        adam_b2=float(x[:,4]),\n",
    "        adam_wtdecay=float(x[:,5]),\n",
    "        epochs=int(x[:,6])\n",
    "    )\n",
    "    \n",
    "    return -val_acc\n",
    "\n",
    "\n",
    "NUM_CLASSES = 4\n",
    "\n",
    "\n",
    "def prepare_model(model_num):\n",
    "    if model_num <= 1:\n",
    "        # torchvision models\n",
    "        pretrained = True\n",
    "        last = 'fc'\n",
    "        image_size = 224\n",
    "    else:\n",
    "        # pretrainedmodels package specific differences\n",
    "        pretrained = 'imagenet'\n",
    "        last = 'last_linear'\n",
    "        image_size = 299\n",
    "    \n",
    "    model = models[model_num](pretrained=pretrained)\n",
    "    num_in = getattr(model, last).in_features\n",
    "    setattr(model, last, torch.nn.Linear(num_in, NUM_CLASSES))\n",
    "    return model, image_size\n",
    "\n",
    "\n",
    "import torch\n",
    "from torch.optim import Adam\n",
    "from torch.nn import  CrossEntropyLoss\n",
    "from src.trainable import Trainable\n",
    "from src.utils import get_datasets_and_loaders\n",
    "\n",
    "def train(model_num, batch_size, adam_lr, adam_b1, adam_b2, adam_wtdecay, epochs):\n",
    "    print(model_num, batch_size, adam_lr, adam_b1, adam_b2, adam_wtdecay, epochs)\n",
    "    model, image_size = prepare_model(model_num)\n",
    "    \n",
    "    _, dataloaders = get_datasets_and_loaders(DATA_DIR, 'train', 'val', \n",
    "                                              image_size=image_size)\n",
    "    \n",
    "    optimizer = Adam(model.parameters(), adam_lr, (adam_b1, adam_b2), adam_wtdecay)\n",
    "    criterion = CrossEntropyLoss()\n",
    "    \n",
    "    trainable = Trainable(model, criterion, optimizer)\n",
    "    val_acc = trainable.train(dataloaders, epochs)\n",
    "    return val_acc\n",
    "    "
   ]
  },
  {
   "cell_type": "code",
   "execution_count": 3,
   "metadata": {},
   "outputs": [],
   "source": [
    "# # TEST CODE\n",
    "# train(model, 4, 1e-3, 0.9, 0.999, 0, 50)"
   ]
  },
  {
   "cell_type": "code",
   "execution_count": null,
   "metadata": {},
   "outputs": [
    {
     "name": "stdout",
     "output_type": "stream",
     "text": [
      "1 64 0.0019011072870856217 0.8442626950715736 0.9020642191186395 0.6851680793097175 40\n"
     ]
    },
    {
     "name": "stderr",
     "output_type": "stream",
     "text": [
      "\r",
      "Train:   0%|          | 0/988 [00:00<?, ?images/s]"
     ]
    },
    {
     "name": "stdout",
     "output_type": "stream",
     "text": [
      "Epoch 1/40\n",
      "----------\n"
     ]
    },
    {
     "name": "stderr",
     "output_type": "stream",
     "text": [
      "Train:   4%|▍         | 40/988 [00:52<21:29,  1.36s/images]"
     ]
    }
   ],
   "source": [
    "from GPyOpt.methods import BayesianOptimization\n",
    "\n",
    "problem = BayesianOptimization(\n",
    "    f=f,\n",
    "    domain=domain\n",
    ")\n",
    "problem.run_optimization(max_iter=10)\n",
    "problem.plot_acquisition()"
   ]
  },
  {
   "cell_type": "code",
   "execution_count": null,
   "metadata": {},
   "outputs": [],
   "source": [
    "problem.plot_convergence"
   ]
  },
  {
   "cell_type": "markdown",
   "metadata": {},
   "source": [
    "# tried given BO code, out of memory issues. chased this around for a long time\n",
    "\n",
    "\n",
    "# found pretrainedmodels package, want to use inceptionresnetv2\n",
    "\n",
    "\n",
    "# right now trying to implement in PyTorch\n",
    "\n"
   ]
  },
  {
   "cell_type": "code",
   "execution_count": null,
   "metadata": {},
   "outputs": [],
   "source": []
  }
 ],
 "metadata": {
  "kernelspec": {
   "display_name": "Python 3",
   "language": "python",
   "name": "python3"
  },
  "language_info": {
   "codemirror_mode": {
    "name": "ipython",
    "version": 3
   },
   "file_extension": ".py",
   "mimetype": "text/x-python",
   "name": "python",
   "nbconvert_exporter": "python",
   "pygments_lexer": "ipython3",
   "version": "3.6.6"
  }
 },
 "nbformat": 4,
 "nbformat_minor": 2
}
