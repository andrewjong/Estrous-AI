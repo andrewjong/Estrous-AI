{
 "cells": [
  {
   "cell_type": "code",
   "execution_count": 2,
   "metadata": {
    "scrolled": true
   },
   "outputs": [],
   "source": [
    "# show more than one output in cell\n",
    "from IPython.core.interactiveshell import InteractiveShell\n",
    "InteractiveShell.ast_node_interactivity = \"all\"\n",
    "\n",
    "%matplotlib inline"
   ]
  },
  {
   "cell_type": "code",
   "execution_count": 3,
   "metadata": {
    "scrolled": true
   },
   "outputs": [],
   "source": [
    "from torchvision import models as tvm\n",
    "import pretrainedmodels as ptm\n",
    "models = (\n",
    "#     ptm.alexnet, # gets maximum recursion limit exceeded exceptions\n",
    "#     ptm.nasnetalarge, # calculated output size is too small\n",
    "    ptm.se_resnet50,\n",
    "    ptm.se_resnet101,\n",
    "    ptm.inceptionresnetv2,\n",
    "    ptm.inceptionv4,\n",
    "    ptm.vgg16,\n",
    "    ptm.vgg19,\n",
    "    tvm.resnet101,\n",
    "    ptm.senet154,\n",
    ")\n",
    "\n",
    "DATA_DIR = 'data/4_class_11'\n",
    "\n",
    "domain = [\n",
    "#     {'name': 'model_num', 'type': 'discrete', 'domain': range(len(models))},\n",
    "    {'name': 'batch_size', 'type': 'discrete', 'domain': (16, 24, 32, 48, 64)},\n",
    "    {'name': 'adam_lr', 'type': 'continuous', 'domain': (0.001, 0.1)},\n",
    "    {'name': 'adam_beta1', 'type': 'continuous', 'domain': (0.8, .99)},\n",
    "    {'name': 'adam_beta2', 'type': 'continuous', 'domain': (0.95, .9999)},\n",
    "    {'name': 'adam_wtdecay', 'type': 'continuous', 'domain': (0, 1)},\n",
    "    {'name': 'epochs', 'type': 'discrete', 'domain': (10, 20, 30, 40)}\n",
    "]\n",
    "#default_input = [3, 32, 0.001, 0.9, 0.999, 0, 30] # TODO: have to figure out how to do this"
   ]
  },
  {
   "cell_type": "code",
   "execution_count": 4,
   "metadata": {
    "scrolled": true
   },
   "outputs": [],
   "source": [
    "model_num = 0\n",
    "\n",
    "def f(x):\n",
    "    \"\"\" Value function to minimize for bayesian optimization \"\"\"\n",
    "    val_acc = train(\n",
    "        model_num,\n",
    "        batch_size=int(x[:,0]),\n",
    "        adam_lr=float(x[:,1]),\n",
    "        adam_b1=float(x[:,2]),\n",
    "        adam_b2=float(x[:,3]),\n",
    "        adam_wtdecay=float(x[:,4]),\n",
    "        epochs=int(x[:,5])\n",
    "    )\n",
    "    \n",
    "    return -val_acc\n",
    "\n",
    "\n",
    "NUM_CLASSES = 4\n",
    "\n",
    "\n",
    "def prepare_model(model_num):\n",
    "    model_fn = models[model_num]\n",
    "    if model_fn is tvm.resnet101:\n",
    "        # torchvision models\n",
    "        pretrained = True\n",
    "        last = 'fc'\n",
    "    else:\n",
    "        # pretrainedmodels package specific differences\n",
    "        pretrained = 'imagenet'\n",
    "        last = 'last_linear'\n",
    "    image_size = 299 if 'inception' in str(model_fn).lower() else 224\n",
    "    \n",
    "    model = model_fn(num_classes=1000, pretrained=pretrained)\n",
    "    num_in = getattr(model, last).in_features\n",
    "    setattr(model, last, torch.nn.Linear(num_in, NUM_CLASSES))\n",
    "    return model, image_size\n",
    "\n",
    "\n",
    "import os\n",
    "from train import prepare_results_file\n",
    "import torch\n",
    "from torch.optim import Adam\n",
    "from torch.nn import  CrossEntropyLoss\n",
    "from src.trainable import Trainable\n",
    "from src.utils import get_datasets_and_loaders\n",
    "\n",
    "iteration = 0\n",
    "def train(model_num, batch_size, adam_lr, adam_b1, adam_b2, adam_wtdecay, epochs):\n",
    "    global iteration\n",
    "    iteration += 1\n",
    "    print(\"\\nITERATION\", iteration)\n",
    "    print(f'model: {str(models[model_num]).split()[1]}, batch_size: {batch_size}, epochs: {epochs}')\n",
    "    print(f'adam_lr: {adam_lr}, adam_b1: {adam_b1}, adam_b2: {adam_b2}, adam_wtdecay: {adam_wtdecay}')\n",
    "\n",
    "    model, image_size = prepare_model(model_num)\n",
    "    \n",
    "    _, dataloaders = get_datasets_and_loaders(DATA_DIR, 'train', 'val', \n",
    "                                              image_size=image_size)\n",
    "    \n",
    "    optimizer = Adam(model.parameters(), adam_lr, (adam_b1, adam_b2), adam_wtdecay)\n",
    "    criterion = CrossEntropyLoss()\n",
    "    \n",
    "    trainable = Trainable(model, criterion, optimizer)\n",
    "    \n",
    "    params = '_'.join([str(batch_size)] + [f'{param:4f}' for param in (adam_lr, adam_b1, adam_b2, adam_wtdecay)] + [str(epochs)])\n",
    "    results_fp = os.path.join(\"experiments\", \"bayes_opt\", f'model_{model_num}', DATA_DIR, params + '.csv')\n",
    "#     print(results_fp)\n",
    "    prepare_results_file(results_fp)\n",
    "    try:\n",
    "        val_acc = trainable.train(dataloaders, epochs, early_stop=5, results_filepath=results_fp, verbose=False)\n",
    "    except Exception as e:\n",
    "        if iteration > 1:\n",
    "            raise e\n",
    "        print(e)\n",
    "        val_acc = 0\n",
    "    return val_acc\n",
    "    "
   ]
  },
  {
   "cell_type": "code",
   "execution_count": 5,
   "metadata": {
    "scrolled": true
   },
   "outputs": [],
   "source": [
    "# # TEST CODE\n",
    "# train(model, 4, 1e-3, 0.9, 0.999, 0, 50)"
   ]
  },
  {
   "cell_type": "markdown",
   "metadata": {},
   "source": [
    "## Do BO on all models on both datasets. Git push at each stage"
   ]
  },
  {
   "cell_type": "code",
   "execution_count": 6,
   "metadata": {
    "scrolled": false
   },
   "outputs": [
    {
     "name": "stdout",
     "output_type": "stream",
     "text": [
      "DATA/DIE_VS_ALL_11\n",
      "\n",
      "ITERATION 1\n",
      "model: se_resnet50, batch_size: 24, epochs: 30\n",
      "adam_lr: 0.02370457526841632, adam_b1: 0.9450172252169783, adam_b2: 0.9646318888432945, adam_wtdecay: 0.1480112493010346\n"
     ]
    },
    {
     "name": "stderr",
     "output_type": "stream",
     "text": [
      "                                                                                         \r"
     ]
    },
    {
     "name": "stdout",
     "output_type": "stream",
     "text": [
      "Training stopped early at 16 epochs.\n",
      "Training completed in 5m 58s\n",
      "Best validation accuracy: 0.8821\n",
      "Associated train accuracy: 0.8856\n",
      "Associated train loss: 0.2620\n",
      "\n",
      "ITERATION 2\n",
      "model: se_resnet50, batch_size: 64, epochs: 20\n",
      "adam_lr: 0.09713396732844995, adam_b1: 0.8333262710582154, adam_b2: 0.9581273511298187, adam_wtdecay: 0.23089437900129883\n"
     ]
    },
    {
     "name": "stderr",
     "output_type": "stream",
     "text": [
      "                                                                                        \r"
     ]
    },
    {
     "name": "stdout",
     "output_type": "stream",
     "text": [
      "Training stopped early at 8 epochs.\n",
      "Training completed in 2m 57s\n",
      "Best validation accuracy: 0.8491\n",
      "Associated train accuracy: 0.7834\n",
      "Associated train loss: 0.4953\n",
      "\n",
      "ITERATION 3\n",
      "model: se_resnet50, batch_size: 64, epochs: 20\n",
      "adam_lr: 0.01774092181257922, adam_b1: 0.8023178236083797, adam_b2: 0.9550406961243072, adam_wtdecay: 0.20127970696910236\n"
     ]
    },
    {
     "name": "stderr",
     "output_type": "stream",
     "text": [
      "                                                                                        \r"
     ]
    },
    {
     "name": "stdout",
     "output_type": "stream",
     "text": [
      "Training stopped early at 8 epochs.\n",
      "Training completed in 2m 58s\n",
      "Best validation accuracy: 0.8774\n",
      "Associated train accuracy: 0.8573\n",
      "Associated train loss: 0.3611\n",
      "\n",
      "ITERATION 4\n",
      "model: se_resnet50, batch_size: 16, epochs: 10\n",
      "adam_lr: 0.0561829154872471, adam_b1: 0.8491116253623031, adam_b2: 0.9532750947044442, adam_wtdecay: 0.7074290693021308\n"
     ]
    },
    {
     "name": "stderr",
     "output_type": "stream",
     "text": [
      "                                                                                         \r"
     ]
    },
    {
     "name": "stdout",
     "output_type": "stream",
     "text": [
      "Training stopped early at 10 epochs.\n",
      "Training completed in 3m 41s\n",
      "Best validation accuracy: 0.8915\n",
      "Associated train accuracy: 0.8370\n",
      "Associated train loss: 0.3649\n",
      "\n",
      "ITERATION 5\n",
      "model: se_resnet50, batch_size: 16, epochs: 40\n",
      "adam_lr: 0.006393963352297463, adam_b1: 0.8864641571767667, adam_b2: 0.9836196033850413, adam_wtdecay: 0.0761978585078058\n"
     ]
    },
    {
     "name": "stderr",
     "output_type": "stream",
     "text": [
      "                                                                                         \r"
     ]
    },
    {
     "name": "stdout",
     "output_type": "stream",
     "text": [
      "Training stopped early at 16 epochs.\n",
      "Training completed in 5m 54s\n",
      "Best validation accuracy: 0.9151\n",
      "Associated train accuracy: 0.8927\n",
      "Associated train loss: 0.2502\n",
      "\n",
      "ITERATION 6\n",
      "model: se_resnet50, batch_size: 16, epochs: 40\n",
      "adam_lr: 0.0016188818009900672, adam_b1: 0.8915598067028814, adam_b2: 0.9779573832352425, adam_wtdecay: 0.05057473653784478\n"
     ]
    },
    {
     "name": "stderr",
     "output_type": "stream",
     "text": [
      "                                                                                         \r"
     ]
    },
    {
     "name": "stdout",
     "output_type": "stream",
     "text": [
      "Training stopped early at 20 epochs.\n",
      "Training completed in 7m 27s\n",
      "Best validation accuracy: 0.9104\n",
      "Associated train accuracy: 0.9079\n",
      "Associated train loss: 0.2324\n",
      "\n",
      "ITERATION 7\n",
      "model: se_resnet50, batch_size: 16, epochs: 40\n",
      "adam_lr: 0.03917286973282196, adam_b1: 0.9097726158025985, adam_b2: 0.971048637779205, adam_wtdecay: 0.11614836788716693\n"
     ]
    },
    {
     "name": "stderr",
     "output_type": "stream",
     "text": [
      "                                                                                        \r"
     ]
    },
    {
     "name": "stdout",
     "output_type": "stream",
     "text": [
      "Training stopped early at 8 epochs.\n",
      "Training completed in 2m 58s\n",
      "Best validation accuracy: 0.8396\n",
      "Associated train accuracy: 0.8249\n",
      "Associated train loss: 0.4268\n",
      "\n",
      "ITERATION 8\n",
      "model: se_resnet50, batch_size: 16, epochs: 40\n",
      "adam_lr: 0.001, adam_b1: 0.8806180312730623, adam_b2: 0.9866419270540859, adam_wtdecay: 0.06463697055370814\n"
     ]
    },
    {
     "name": "stderr",
     "output_type": "stream",
     "text": [
      "                                                                                         \r"
     ]
    },
    {
     "name": "stdout",
     "output_type": "stream",
     "text": [
      "Training stopped early at 19 epochs.\n",
      "Training completed in 7m 2s\n",
      "Best validation accuracy: 0.9245\n",
      "Associated train accuracy: 0.9130\n",
      "Associated train loss: 0.2136\n",
      "\n",
      "ITERATION 9\n",
      "model: se_resnet50, batch_size: 16, epochs: 40\n",
      "adam_lr: 0.001, adam_b1: 0.8611614688082462, adam_b2: 0.9941934119793356, adam_wtdecay: 0.06650862048810066\n"
     ]
    },
    {
     "name": "stderr",
     "output_type": "stream",
     "text": [
      "                                                                                         \r"
     ]
    },
    {
     "name": "stdout",
     "output_type": "stream",
     "text": [
      "Training stopped early at 15 epochs.\n",
      "Training completed in 5m 33s\n",
      "Best validation accuracy: 0.9104\n",
      "Associated train accuracy: 0.9160\n",
      "Associated train loss: 0.2200\n",
      "\n",
      "ITERATION 10\n",
      "model: se_resnet50, batch_size: 16, epochs: 40\n",
      "adam_lr: 0.001, adam_b1: 0.8876474027672132, adam_b2: 0.9999, adam_wtdecay: 0.06332236518843304\n"
     ]
    },
    {
     "name": "stderr",
     "output_type": "stream",
     "text": [
      "                                                                                         \r"
     ]
    },
    {
     "name": "stdout",
     "output_type": "stream",
     "text": [
      "Training stopped early at 15 epochs.\n",
      "Training completed in 5m 32s\n",
      "Best validation accuracy: 0.9340\n",
      "Associated train accuracy: 0.8775\n",
      "Associated train loss: 0.2856\n",
      "\n",
      "ITERATION 11\n",
      "model: se_resnet50, batch_size: 16, epochs: 40\n",
      "adam_lr: 0.01937561501102677, adam_b1: 0.8061291871595038, adam_b2: 0.9644453829954942, adam_wtdecay: 0.8639472503584147\n"
     ]
    },
    {
     "name": "stderr",
     "output_type": "stream",
     "text": [
      "                                                                                         \r"
     ]
    },
    {
     "name": "stdout",
     "output_type": "stream",
     "text": [
      "Training stopped early at 17 epochs.\n",
      "Training completed in 6m 19s\n",
      "Best validation accuracy: 0.9198\n",
      "Associated train accuracy: 0.9140\n",
      "Associated train loss: 0.2091\n",
      "\n",
      "ITERATION 12\n",
      "model: se_resnet50, batch_size: 16, epochs: 40\n",
      "adam_lr: 0.013816889184445276, adam_b1: 0.8019619456281147, adam_b2: 0.9657609550749573, adam_wtdecay: 0.820223092997577\n"
     ]
    },
    {
     "name": "stderr",
     "output_type": "stream",
     "text": [
      "                                                                                        \r"
     ]
    },
    {
     "name": "stdout",
     "output_type": "stream",
     "text": [
      "Training stopped early at 8 epochs.\n",
      "Training completed in 2m 57s\n",
      "Best validation accuracy: 0.8915\n",
      "Associated train accuracy: 0.8664\n",
      "Associated train loss: 0.3518\n",
      "\n",
      "ITERATION 13\n",
      "model: se_resnet50, batch_size: 16, epochs: 40\n",
      "adam_lr: 0.02425502100108852, adam_b1: 0.8097873965657443, adam_b2: 0.9632906101590146, adam_wtdecay: 0.9023266446418438\n"
     ]
    },
    {
     "name": "stderr",
     "output_type": "stream",
     "text": [
      "                                                                                         \r"
     ]
    },
    {
     "name": "stdout",
     "output_type": "stream",
     "text": [
      "Training stopped early at 13 epochs.\n",
      "Training completed in 4m 48s\n",
      "Best validation accuracy: 0.9198\n",
      "Associated train accuracy: 0.9038\n",
      "Associated train loss: 0.2434\n",
      "\n",
      "ITERATION 14\n",
      "model: se_resnet50, batch_size: 16, epochs: 40\n",
      "adam_lr: 0.05701985964686189, adam_b1: 0.8248912878374502, adam_b2: 0.9689751212905939, adam_wtdecay: 0.87854874826773\n"
     ]
    },
    {
     "name": "stderr",
     "output_type": "stream",
     "text": [
      "                                                                                        \r"
     ]
    },
    {
     "name": "stdout",
     "output_type": "stream",
     "text": [
      "Training stopped early at 9 epochs.\n",
      "Training completed in 3m 19s\n",
      "Best validation accuracy: 0.8774\n",
      "Associated train accuracy: 0.8391\n",
      "Associated train loss: 0.3785\n",
      "\n",
      "ITERATION 15\n",
      "model: se_resnet50, batch_size: 16, epochs: 40\n",
      "adam_lr: 0.001, adam_b1: 0.8, adam_b2: 0.9537860180313703, adam_wtdecay: 0.887126361741187\n"
     ]
    },
    {
     "name": "stderr",
     "output_type": "stream",
     "text": [
      "                                                                                        \r"
     ]
    },
    {
     "name": "stdout",
     "output_type": "stream",
     "text": [
      "Training stopped early at 8 epochs.\n",
      "Training completed in 2m 56s\n",
      "Best validation accuracy: 0.8868\n",
      "Associated train accuracy: 0.8401\n",
      "Associated train loss: 0.3661\n"
     ]
    },
    {
     "data": {
      "image/png": "[encoded data removed]",
      "text/plain": [
       "<Figure size 720x360 with 2 Axes>"
      ]
     },
     "metadata": {},
     "output_type": "display_data"
    },
    {
     "data": {
      "text/plain": [
       "0"
      ]
     },
     "execution_count": 6,
     "metadata": {},
     "output_type": "execute_result"
    },
    {
     "data": {
      "text/plain": [
       "0"
      ]
     },
     "execution_count": 6,
     "metadata": {},
     "output_type": "execute_result"
    },
    {
     "data": {
      "text/plain": [
       "0"
      ]
     },
     "execution_count": 6,
     "metadata": {},
     "output_type": "execute_result"
    },
    {
     "name": "stdout",
     "output_type": "stream",
     "text": [
      "DATA/4_CLASS_11\n",
      "\n",
      "ITERATION 1\n",
      "model: se_resnet50, batch_size: 16, epochs: 20\n",
      "adam_lr: 0.03134003577804291, adam_b1: 0.9257053529683192, adam_b2: 0.9715294653194095, adam_wtdecay: 0.1606630701880286\n"
     ]
    },
    {
     "name": "stderr",
     "output_type": "stream",
     "text": [
      "                                                                                         \r"
     ]
    },
    {
     "name": "stdout",
     "output_type": "stream",
     "text": [
      "Training stopped early at 12 epochs.\n",
      "Training completed in 4m 26s\n",
      "Best validation accuracy: 0.6840\n",
      "Associated train accuracy: 0.6852\n",
      "Associated train loss: 0.7833\n",
      "\n",
      "ITERATION 2\n",
      "model: se_resnet50, batch_size: 64, epochs: 10\n",
      "adam_lr: 0.012810275522489499, adam_b1: 0.8483672906709249, adam_b2: 0.960700105723644, adam_wtdecay: 0.2714938855271771\n"
     ]
    },
    {
     "name": "stderr",
     "output_type": "stream",
     "text": [
      "                                                                                         \r"
     ]
    },
    {
     "name": "stdout",
     "output_type": "stream",
     "text": [
      "Training stopped early at 10 epochs.\n",
      "Training completed in 3m 41s\n",
      "Best validation accuracy: 0.7500\n",
      "Associated train accuracy: 0.7460\n",
      "Associated train loss: 0.6613\n",
      "\n",
      "ITERATION 3\n",
      "model: se_resnet50, batch_size: 16, epochs: 30\n",
      "adam_lr: 0.09215406669592614, adam_b1: 0.8829699480907108, adam_b2: 0.97694401833676, adam_wtdecay: 0.30428581357227924\n"
     ]
    },
    {
     "name": "stderr",
     "output_type": "stream",
     "text": [
      "                                                                                         \r"
     ]
    },
    {
     "name": "stdout",
     "output_type": "stream",
     "text": [
      "Training stopped early at 10 epochs.\n",
      "Training completed in 3m 42s\n",
      "Best validation accuracy: 0.6698\n",
      "Associated train accuracy: 0.6630\n",
      "Associated train loss: 0.8062\n",
      "\n",
      "ITERATION 4\n",
      "model: se_resnet50, batch_size: 24, epochs: 10\n",
      "adam_lr: 0.07196810837398945, adam_b1: 0.8901245558428804, adam_b2: 0.9574685840384451, adam_wtdecay: 0.4166674905832167\n"
     ]
    },
    {
     "name": "stderr",
     "output_type": "stream",
     "text": [
      "                                                                                         \r"
     ]
    },
    {
     "name": "stdout",
     "output_type": "stream",
     "text": [
      "Training completed in 3m 42s\n",
      "Best validation accuracy: 0.6651\n",
      "Associated train accuracy: 0.7136\n",
      "Associated train loss: 0.6969\n",
      "\n",
      "ITERATION 5\n",
      "model: se_resnet50, batch_size: 32, epochs: 20\n",
      "adam_lr: 0.050892744131914185, adam_b1: 0.9140274773369648, adam_b2: 0.9552245769446481, adam_wtdecay: 0.12014617182415632\n"
     ]
    },
    {
     "name": "stderr",
     "output_type": "stream",
     "text": [
      "                                                                                         \r"
     ]
    },
    {
     "name": "stdout",
     "output_type": "stream",
     "text": [
      "Training stopped early at 13 epochs.\n",
      "Training completed in 4m 49s\n",
      "Best validation accuracy: 0.6415\n",
      "Associated train accuracy: 0.6589\n",
      "Associated train loss: 0.8551\n",
      "\n",
      "ITERATION 6\n",
      "model: se_resnet50, batch_size: 64, epochs: 20\n",
      "adam_lr: 0.001, adam_b1: 0.8, adam_b2: 0.9999, adam_wtdecay: 1.0\n"
     ]
    },
    {
     "name": "stderr",
     "output_type": "stream",
     "text": [
      "                                                                                         \r"
     ]
    },
    {
     "name": "stdout",
     "output_type": "stream",
     "text": [
      "Training completed in 7m 25s\n",
      "Best validation accuracy: 0.7594\n",
      "Associated train accuracy: 0.7611\n",
      "Associated train loss: 0.6592\n",
      "\n",
      "ITERATION 7\n",
      "model: se_resnet50, batch_size: 64, epochs: 30\n",
      "adam_lr: 0.1, adam_b1: 0.99, adam_b2: 0.95, adam_wtdecay: 0.0\n"
     ]
    },
    {
     "name": "stderr",
     "output_type": "stream",
     "text": [
      "                                                                                        \r"
     ]
    },
    {
     "name": "stdout",
     "output_type": "stream",
     "text": [
      "Training stopped early at 6 epochs.\n",
      "Training completed in 2m 13s\n",
      "Best validation accuracy: 0.5660\n",
      "Associated train accuracy: 0.5658\n",
      "Associated train loss: 1.1795\n",
      "\n",
      "ITERATION 8\n",
      "model: se_resnet50, batch_size: 64, epochs: 20\n",
      "adam_lr: 0.06361209332887433, adam_b1: 0.8845873128508754, adam_b2: 0.972737161805271, adam_wtdecay: 0.9177133733658958\n"
     ]
    },
    {
     "name": "stderr",
     "output_type": "stream",
     "text": [
      "                                                                                         \r"
     ]
    },
    {
     "name": "stdout",
     "output_type": "stream",
     "text": [
      "Training stopped early at 20 epochs.\n",
      "Training completed in 7m 22s\n",
      "Best validation accuracy: 0.7594\n",
      "Associated train accuracy: 0.7955\n",
      "Associated train loss: 0.5065\n",
      "\n",
      "ITERATION 9\n",
      "model: se_resnet50, batch_size: 64, epochs: 20\n",
      "adam_lr: 0.08257640506154587, adam_b1: 0.9061686121495848, adam_b2: 0.9589409652847748, adam_wtdecay: 0.9125257304632051\n"
     ]
    },
    {
     "name": "stderr",
     "output_type": "stream",
     "text": [
      "                                                                                         \r"
     ]
    },
    {
     "name": "stdout",
     "output_type": "stream",
     "text": [
      "Training stopped early at 15 epochs.\n",
      "Training completed in 5m 32s\n",
      "Best validation accuracy: 0.6981\n",
      "Associated train accuracy: 0.7470\n",
      "Associated train loss: 0.6726\n",
      "\n",
      "ITERATION 10\n",
      "model: se_resnet50, batch_size: 64, epochs: 10\n",
      "adam_lr: 0.012792804877507894, adam_b1: 0.848341356852886, adam_b2: 0.9607198874179977, adam_wtdecay: 0.27180448213265723\n"
     ]
    },
    {
     "name": "stderr",
     "output_type": "stream",
     "text": [
      "                                                                                        \r"
     ]
    },
    {
     "name": "stdout",
     "output_type": "stream",
     "text": [
      "Training stopped early at 7 epochs.\n",
      "Training completed in 2m 36s\n",
      "Best validation accuracy: 0.6934\n",
      "Associated train accuracy: 0.6872\n",
      "Associated train loss: 0.7770\n",
      "\n",
      "ITERATION 11\n",
      "model: se_resnet50, batch_size: 64, epochs: 20\n",
      "adam_lr: 0.001, adam_b1: 0.8, adam_b2: 0.9999, adam_wtdecay: 1.0\n"
     ]
    },
    {
     "name": "stderr",
     "output_type": "stream",
     "text": [
      "                                                                                         \r"
     ]
    },
    {
     "name": "stdout",
     "output_type": "stream",
     "text": [
      "Training completed in 7m 25s\n",
      "Best validation accuracy: 0.7264\n",
      "Associated train accuracy: 0.7621\n",
      "Associated train loss: 0.6367\n",
      "\n",
      "ITERATION 12\n",
      "model: se_resnet50, batch_size: 64, epochs: 20\n",
      "adam_lr: 0.001, adam_b1: 0.8, adam_b2: 0.9999, adam_wtdecay: 1.0\n"
     ]
    },
    {
     "name": "stderr",
     "output_type": "stream",
     "text": [
      "                                                                                         \r"
     ]
    },
    {
     "name": "stdout",
     "output_type": "stream",
     "text": [
      "Training stopped early at 15 epochs.\n",
      "Training completed in 5m 32s\n",
      "Best validation accuracy: 0.6981\n",
      "Associated train accuracy: 0.7217\n",
      "Associated train loss: 0.7535\n"
     ]
    },
    {
     "data": {
      "image/png": "[encoded data removed]",
      "text/plain": [
       "<Figure size 720x360 with 2 Axes>"
      ]
     },
     "metadata": {},
     "output_type": "display_data"
    },
    {
     "data": {
      "text/plain": [
       "0"
      ]
     },
     "execution_count": 6,
     "metadata": {},
     "output_type": "execute_result"
    },
    {
     "data": {
      "text/plain": [
       "0"
      ]
     },
     "execution_count": 6,
     "metadata": {},
     "output_type": "execute_result"
    },
    {
     "data": {
      "text/plain": [
       "0"
      ]
     },
     "execution_count": 6,
     "metadata": {},
     "output_type": "execute_result"
    },
    {
     "name": "stdout",
     "output_type": "stream",
     "text": [
      "DATA/DIE_VS_ALL_11\n",
      "\n",
      "ITERATION 1\n",
      "model: se_resnet101, batch_size: 32, epochs: 10\n",
      "adam_lr: 0.0011478904239854884, adam_b1: 0.807488746923899, adam_b2: 0.9669524564050281, adam_wtdecay: 0.9588098824225273\n"
     ]
    },
    {
     "name": "stderr",
     "output_type": "stream",
     "text": [
      "                                                                                         \r"
     ]
    },
    {
     "name": "stdout",
     "output_type": "stream",
     "text": [
      "Training completed in 6m 10s\n",
      "Best validation accuracy: 0.8679\n",
      "Associated train accuracy: 0.8634\n",
      "Associated train loss: 0.3018\n",
      "\n",
      "ITERATION 2\n",
      "model: se_resnet101, batch_size: 64, epochs: 30\n",
      "adam_lr: 0.0964835685916092, adam_b1: 0.8406568916243178, adam_b2: 0.9910084372333914, adam_wtdecay: 0.4008924262803629\n"
     ]
    },
    {
     "name": "stderr",
     "output_type": "stream",
     "text": [
      "                                                                                         \r"
     ]
    },
    {
     "name": "stdout",
     "output_type": "stream",
     "text": [
      "Training stopped early at 12 epochs.\n",
      "Training completed in 7m 24s\n",
      "Best validation accuracy: 0.7972\n",
      "Associated train accuracy: 0.8117\n",
      "Associated train loss: 0.4224\n",
      "\n",
      "ITERATION 3\n",
      "model: se_resnet101, batch_size: 16, epochs: 20\n",
      "adam_lr: 0.06834198059902405, adam_b1: 0.9029222039788186, adam_b2: 0.9677066299336771, adam_wtdecay: 0.14022506106233468\n"
     ]
    },
    {
     "name": "stderr",
     "output_type": "stream",
     "text": [
      "                                                                                         \r"
     ]
    },
    {
     "name": "stdout",
     "output_type": "stream",
     "text": [
      "Training stopped early at 11 epochs.\n",
      "Training completed in 6m 48s\n",
      "Best validation accuracy: 0.8443\n",
      "Associated train accuracy: 0.7642\n",
      "Associated train loss: 0.4971\n",
      "\n",
      "ITERATION 4\n",
      "model: se_resnet101, batch_size: 48, epochs: 20\n",
      "adam_lr: 0.05070622688977613, adam_b1: 0.9292091308346884, adam_b2: 0.9522257958917144, adam_wtdecay: 0.04645452311742282\n"
     ]
    },
    {
     "name": "stderr",
     "output_type": "stream",
     "text": [
      "                                                                                         \r"
     ]
    },
    {
     "name": "stdout",
     "output_type": "stream",
     "text": [
      "Training stopped early at 13 epochs.\n",
      "Training completed in 8m 2s\n",
      "Best validation accuracy: 0.8066\n",
      "Associated train accuracy: 0.7773\n",
      "Associated train loss: 0.4817\n",
      "\n",
      "ITERATION 5\n",
      "model: se_resnet101, batch_size: 24, epochs: 40\n",
      "adam_lr: 0.07536944086839517, adam_b1: 0.8475831507630359, adam_b2: 0.9665087284736231, adam_wtdecay: 0.7461036509205962\n"
     ]
    },
    {
     "name": "stderr",
     "output_type": "stream",
     "text": [
      "                                                                                        \r"
     ]
    },
    {
     "name": "stdout",
     "output_type": "stream",
     "text": [
      "Training stopped early at 9 epochs.\n",
      "Training completed in 5m 34s\n",
      "Best validation accuracy: 0.8491\n",
      "Associated train accuracy: 0.8289\n",
      "Associated train loss: 0.3958\n",
      "\n",
      "ITERATION 6\n",
      "model: se_resnet101, batch_size: 32, epochs: 10\n",
      "adam_lr: 0.027662688094614824, adam_b1: 0.9621923818671718, adam_b2: 0.9632016939235427, adam_wtdecay: 0.3713567121253793\n"
     ]
    },
    {
     "name": "stderr",
     "output_type": "stream",
     "text": [
      "                                                                                        \r"
     ]
    },
    {
     "name": "stdout",
     "output_type": "stream",
     "text": [
      "Training stopped early at 9 epochs.\n",
      "Training completed in 5m 34s\n",
      "Best validation accuracy: 0.8443\n",
      "Associated train accuracy: 0.8421\n",
      "Associated train loss: 0.3454\n",
      "\n",
      "ITERATION 7\n",
      "model: se_resnet101, batch_size: 32, epochs: 10\n",
      "adam_lr: 0.001, adam_b1: 0.8, adam_b2: 0.9729241006011393, adam_wtdecay: 1.0\n"
     ]
    },
    {
     "name": "stderr",
     "output_type": "stream",
     "text": [
      "                                                                                         \r"
     ]
    },
    {
     "name": "stdout",
     "output_type": "stream",
     "text": [
      "Training completed in 6m 11s\n",
      "Best validation accuracy: 0.9057\n",
      "Associated train accuracy: 0.8664\n",
      "Associated train loss: 0.3288\n",
      "\n",
      "ITERATION 8\n",
      "model: se_resnet101, batch_size: 32, epochs: 10\n",
      "adam_lr: 0.001, adam_b1: 0.8, adam_b2: 0.9925889214137212, adam_wtdecay: 1.0\n"
     ]
    },
    {
     "name": "stderr",
     "output_type": "stream",
     "text": [
      "                                                                                         \r"
     ]
    },
    {
     "name": "stdout",
     "output_type": "stream",
     "text": [
      "Training completed in 6m 11s\n",
      "Best validation accuracy: 0.8726\n",
      "Associated train accuracy: 0.8482\n",
      "Associated train loss: 0.3408\n",
      "\n",
      "ITERATION 9\n",
      "model: se_resnet101, batch_size: 32, epochs: 10\n",
      "adam_lr: 0.001, adam_b1: 0.8, adam_b2: 0.9598618809533873, adam_wtdecay: 1.0\n"
     ]
    },
    {
     "name": "stderr",
     "output_type": "stream",
     "text": [
      "                                                                                        \r"
     ]
    },
    {
     "name": "stdout",
     "output_type": "stream",
     "text": [
      "Training stopped early at 9 epochs.\n",
      "Training completed in 5m 34s\n",
      "Best validation accuracy: 0.8774\n",
      "Associated train accuracy: 0.8310\n",
      "Associated train loss: 0.3676\n",
      "\n",
      "ITERATION 10\n",
      "model: se_resnet101, batch_size: 32, epochs: 10\n",
      "adam_lr: 0.001, adam_b1: 0.8, adam_b2: 0.95, adam_wtdecay: 1.0\n"
     ]
    },
    {
     "name": "stderr",
     "output_type": "stream",
     "text": [
      "                                                                                         \r"
     ]
    },
    {
     "name": "stdout",
     "output_type": "stream",
     "text": [
      "Training completed in 6m 11s\n",
      "Best validation accuracy: 0.8868\n",
      "Associated train accuracy: 0.8462\n",
      "Associated train loss: 0.3452\n",
      "\n",
      "ITERATION 11\n",
      "model: se_resnet101, batch_size: 32, epochs: 10\n",
      "adam_lr: 0.1, adam_b1: 0.8, adam_b2: 0.95, adam_wtdecay: 1.0\n"
     ]
    },
    {
     "name": "stderr",
     "output_type": "stream",
     "text": [
      "                                                                                         \r"
     ]
    },
    {
     "name": "stdout",
     "output_type": "stream",
     "text": [
      "Training completed in 6m 10s\n",
      "Best validation accuracy: 0.8585\n",
      "Associated train accuracy: 0.8593\n",
      "Associated train loss: 0.3333\n",
      "\n",
      "ITERATION 12\n",
      "model: se_resnet101, batch_size: 32, epochs: 10\n",
      "adam_lr: 0.001, adam_b1: 0.8, adam_b2: 0.95, adam_wtdecay: 1.0\n"
     ]
    },
    {
     "name": "stderr",
     "output_type": "stream",
     "text": [
      "                                                                                         \r"
     ]
    },
    {
     "name": "stdout",
     "output_type": "stream",
     "text": [
      "Training completed in 6m 11s\n",
      "Best validation accuracy: 0.8915\n",
      "Associated train accuracy: 0.8674\n",
      "Associated train loss: 0.3081\n",
      "\n",
      "ITERATION 13\n",
      "model: se_resnet101, batch_size: 32, epochs: 20\n",
      "adam_lr: 0.029122549239746786, adam_b1: 0.9289208857212068, adam_b2: 0.9748711428004773, adam_wtdecay: 0.5753297890641187\n"
     ]
    },
    {
     "name": "stderr",
     "output_type": "stream",
     "text": [
      "                                                                                         \r"
     ]
    },
    {
     "name": "stdout",
     "output_type": "stream",
     "text": [
      "Training stopped early at 10 epochs.\n",
      "Training completed in 6m 10s\n",
      "Best validation accuracy: 0.9009\n",
      "Associated train accuracy: 0.8765\n",
      "Associated train loss: 0.3011\n",
      "\n",
      "ITERATION 14\n",
      "model: se_resnet101, batch_size: 32, epochs: 20\n",
      "adam_lr: 0.05176515791530253, adam_b1: 0.9567578339911735, adam_b2: 0.9854176353967465, adam_wtdecay: 0.5139072115956059\n"
     ]
    },
    {
     "name": "stderr",
     "output_type": "stream",
     "text": [
      "                                                                                         \r"
     ]
    },
    {
     "name": "stdout",
     "output_type": "stream",
     "text": [
      "Training stopped early at 10 epochs.\n",
      "Training completed in 6m 11s\n",
      "Best validation accuracy: 0.8349\n",
      "Associated train accuracy: 0.8279\n",
      "Associated train loss: 0.3936\n",
      "\n",
      "ITERATION 15\n",
      "model: se_resnet101, batch_size: 32, epochs: 20\n",
      "adam_lr: 0.02506737257496753, adam_b1: 0.9239354591729669, adam_b2: 0.9729823266194697, adam_wtdecay: 0.5863303354948975\n"
     ]
    },
    {
     "name": "stderr",
     "output_type": "stream",
     "text": [
      "                                                                                        \r"
     ]
    },
    {
     "name": "stdout",
     "output_type": "stream",
     "text": [
      "Training stopped early at 7 epochs.\n",
      "Training completed in 4m 19s\n",
      "Best validation accuracy: 0.8821\n",
      "Associated train accuracy: 0.8097\n",
      "Associated train loss: 0.4362\n"
     ]
    },
    {
     "data": {
      "image/png": "[encoded data removed]",
      "text/plain": [
       "<Figure size 720x360 with 2 Axes>"
      ]
     },
     "metadata": {},
     "output_type": "display_data"
    },
    {
     "data": {
      "text/plain": [
       "0"
      ]
     },
     "execution_count": 6,
     "metadata": {},
     "output_type": "execute_result"
    },
    {
     "data": {
      "text/plain": [
       "0"
      ]
     },
     "execution_count": 6,
     "metadata": {},
     "output_type": "execute_result"
    },
    {
     "data": {
      "text/plain": [
       "0"
      ]
     },
     "execution_count": 6,
     "metadata": {},
     "output_type": "execute_result"
    },
    {
     "name": "stdout",
     "output_type": "stream",
     "text": [
      "DATA/4_CLASS_11\n",
      "\n",
      "ITERATION 1\n",
      "model: se_resnet101, batch_size: 24, epochs: 30\n",
      "adam_lr: 0.0728657070099844, adam_b1: 0.8915283063256044, adam_b2: 0.9549067742585232, adam_wtdecay: 0.5541144174621468\n"
     ]
    },
    {
     "name": "stderr",
     "output_type": "stream",
     "text": [
      "                                                                                         \r"
     ]
    },
    {
     "name": "stdout",
     "output_type": "stream",
     "text": [
      "Training stopped early at 12 epochs.\n",
      "Training completed in 7m 25s\n",
      "Best validation accuracy: 0.6792\n",
      "Associated train accuracy: 0.6599\n",
      "Associated train loss: 0.8163\n",
      "\n",
      "ITERATION 2\n",
      "model: se_resnet101, batch_size: 32, epochs: 30\n",
      "adam_lr: 0.09432816868269862, adam_b1: 0.987791527935207, adam_b2: 0.9751699624246525, adam_wtdecay: 0.5794592883131451\n"
     ]
    },
    {
     "name": "stderr",
     "output_type": "stream",
     "text": [
      "                                                                                         \r"
     ]
    },
    {
     "name": "stdout",
     "output_type": "stream",
     "text": [
      "Training stopped early at 18 epochs.\n",
      "Training completed in 11m 8s\n",
      "Best validation accuracy: 0.6415\n",
      "Associated train accuracy: 0.6721\n",
      "Associated train loss: 0.8133\n",
      "\n",
      "ITERATION 3\n",
      "model: se_resnet101, batch_size: 32, epochs: 20\n",
      "adam_lr: 0.09574379983199348, adam_b1: 0.9676862459552019, adam_b2: 0.9633860549937782, adam_wtdecay: 0.7396317145294993\n"
     ]
    },
    {
     "name": "stderr",
     "output_type": "stream",
     "text": [
      "                                                                                        \r"
     ]
    },
    {
     "name": "stdout",
     "output_type": "stream",
     "text": [
      "Training stopped early at 6 epochs.\n",
      "Training completed in 3m 42s\n",
      "Best validation accuracy: 0.6368\n",
      "Associated train accuracy: 0.5729\n",
      "Associated train loss: 1.1635\n",
      "\n",
      "ITERATION 4\n",
      "model: se_resnet101, batch_size: 48, epochs: 40\n",
      "adam_lr: 0.01810277184583686, adam_b1: 0.8521542551418814, adam_b2: 0.9615621769986998, adam_wtdecay: 0.5136950157141051\n"
     ]
    },
    {
     "name": "stderr",
     "output_type": "stream",
     "text": [
      "                                                                                         \r"
     ]
    },
    {
     "name": "stdout",
     "output_type": "stream",
     "text": [
      "Training stopped early at 16 epochs.\n",
      "Training completed in 9m 54s\n",
      "Best validation accuracy: 0.7500\n",
      "Associated train accuracy: 0.7834\n",
      "Associated train loss: 0.5326\n",
      "\n",
      "ITERATION 5\n",
      "model: se_resnet101, batch_size: 64, epochs: 20\n",
      "adam_lr: 0.07655101815020561, adam_b1: 0.9139984110341827, adam_b2: 0.9965116589822453, adam_wtdecay: 0.5014723259184499\n"
     ]
    },
    {
     "name": "stderr",
     "output_type": "stream",
     "text": [
      "                                                                                         \r"
     ]
    },
    {
     "name": "stdout",
     "output_type": "stream",
     "text": [
      "Training stopped early at 14 epochs.\n",
      "Training completed in 8m 39s\n",
      "Best validation accuracy: 0.6981\n",
      "Associated train accuracy: 0.7105\n",
      "Associated train loss: 0.7086\n",
      "\n",
      "ITERATION 6\n",
      "model: se_resnet101, batch_size: 48, epochs: 40\n",
      "adam_lr: 0.08585212374700091, adam_b1: 0.9366122160530047, adam_b2: 0.9721538136815646, adam_wtdecay: 0.9957402187684151\n"
     ]
    },
    {
     "name": "stderr",
     "output_type": "stream",
     "text": [
      "                                                                                         \r"
     ]
    },
    {
     "name": "stdout",
     "output_type": "stream",
     "text": [
      "Training stopped early at 16 epochs.\n",
      "Training completed in 9m 54s\n",
      "Best validation accuracy: 0.7028\n",
      "Associated train accuracy: 0.7227\n",
      "Associated train loss: 0.7596\n",
      "\n",
      "ITERATION 7\n",
      "model: se_resnet101, batch_size: 48, epochs: 40\n",
      "adam_lr: 0.04974318073273282, adam_b1: 0.9222528826881969, adam_b2: 0.9755814229961037, adam_wtdecay: 0.3235170876643622\n"
     ]
    },
    {
     "name": "stderr",
     "output_type": "stream",
     "text": [
      "                                                                                         \r"
     ]
    },
    {
     "name": "stdout",
     "output_type": "stream",
     "text": [
      "Training stopped early at 17 epochs.\n",
      "Training completed in 10m 31s\n",
      "Best validation accuracy: 0.7075\n",
      "Associated train accuracy: 0.7227\n",
      "Associated train loss: 0.6879\n",
      "\n",
      "ITERATION 8\n",
      "model: se_resnet101, batch_size: 48, epochs: 40\n",
      "adam_lr: 0.001, adam_b1: 0.8, adam_b2: 0.95, adam_wtdecay: 0.0\n"
     ]
    },
    {
     "name": "stderr",
     "output_type": "stream",
     "text": [
      "                                                                                        \r"
     ]
    },
    {
     "name": "stdout",
     "output_type": "stream",
     "text": [
      "Training stopped early at 6 epochs.\n",
      "Training completed in 3m 41s\n",
      "Best validation accuracy: 0.5660\n",
      "Associated train accuracy: 0.5658\n",
      "Associated train loss: 1.3353\n",
      "\n",
      "ITERATION 9\n",
      "model: se_resnet101, batch_size: 48, epochs: 40\n",
      "adam_lr: 0.06255556227334333, adam_b1: 0.9427077849496668, adam_b2: 0.9788535829698799, adam_wtdecay: 0.5469411919034773\n"
     ]
    },
    {
     "name": "stderr",
     "output_type": "stream",
     "text": [
      "                                                                                         \r"
     ]
    },
    {
     "name": "stdout",
     "output_type": "stream",
     "text": [
      "Training stopped early at 12 epochs.\n",
      "Training completed in 7m 25s\n",
      "Best validation accuracy: 0.6934\n",
      "Associated train accuracy: 0.7085\n",
      "Associated train loss: 0.7409\n",
      "\n",
      "ITERATION 10\n",
      "model: se_resnet101, batch_size: 48, epochs: 40\n",
      "adam_lr: 0.008232432357585329, adam_b1: 0.832705111906079, adam_b2: 0.9579196525799388, adam_wtdecay: 0.4898043602315808\n"
     ]
    },
    {
     "name": "stderr",
     "output_type": "stream",
     "text": [
      "                                                                                        \r"
     ]
    },
    {
     "name": "stdout",
     "output_type": "stream",
     "text": [
      "Training stopped early at 8 epochs.\n",
      "Training completed in 4m 57s\n",
      "Best validation accuracy: 0.7500\n",
      "Associated train accuracy: 0.7379\n",
      "Associated train loss: 0.6974\n",
      "\n",
      "ITERATION 11\n",
      "model: se_resnet101, batch_size: 48, epochs: 40\n",
      "adam_lr: 0.001, adam_b1: 0.8, adam_b2: 0.95, adam_wtdecay: 0.5615658518360889\n"
     ]
    },
    {
     "name": "stderr",
     "output_type": "stream",
     "text": [
      "                                                                                         \r"
     ]
    },
    {
     "name": "stdout",
     "output_type": "stream",
     "text": [
      "Training stopped early at 18 epochs.\n",
      "Training completed in 11m 8s\n",
      "Best validation accuracy: 0.7736\n",
      "Associated train accuracy: 0.8016\n",
      "Associated train loss: 0.5143\n",
      "\n",
      "ITERATION 12\n",
      "model: se_resnet101, batch_size: 48, epochs: 40\n",
      "adam_lr: 0.001, adam_b1: 0.8, adam_b2: 0.95, adam_wtdecay: 0.6681545190143229\n"
     ]
    },
    {
     "name": "stderr",
     "output_type": "stream",
     "text": [
      "                                                                                         \r"
     ]
    },
    {
     "name": "stdout",
     "output_type": "stream",
     "text": [
      "Training stopped early at 16 epochs.\n",
      "Training completed in 9m 54s\n",
      "Best validation accuracy: 0.7642\n",
      "Associated train accuracy: 0.7723\n",
      "Associated train loss: 0.5955\n",
      "\n",
      "ITERATION 13\n",
      "model: se_resnet101, batch_size: 16, epochs: 30\n",
      "adam_lr: 0.010160440339099117, adam_b1: 0.8508390473521176, adam_b2: 0.9739853150100248, adam_wtdecay: 0.14615800998637973\n"
     ]
    },
    {
     "name": "stderr",
     "output_type": "stream",
     "text": [
      "                                                                                         \r"
     ]
    },
    {
     "name": "stdout",
     "output_type": "stream",
     "text": [
      "Training stopped early at 10 epochs.\n",
      "Training completed in 6m 11s\n",
      "Best validation accuracy: 0.7170\n",
      "Associated train accuracy: 0.7045\n",
      "Associated train loss: 0.6933\n",
      "\n",
      "ITERATION 14\n",
      "model: se_resnet101, batch_size: 16, epochs: 30\n",
      "adam_lr: 0.05355196324777384, adam_b1: 0.8808328977332714, adam_b2: 0.9565724401033294, adam_wtdecay: 0.5087357664466983\n"
     ]
    },
    {
     "name": "stderr",
     "output_type": "stream",
     "text": [
      "                                                                                         \r"
     ]
    },
    {
     "name": "stdout",
     "output_type": "stream",
     "text": [
      "Training stopped early at 17 epochs.\n",
      "Training completed in 10m 32s\n",
      "Best validation accuracy: 0.7123\n",
      "Associated train accuracy: 0.7561\n",
      "Associated train loss: 0.6258\n",
      "\n",
      "ITERATION 15\n",
      "model: se_resnet101, batch_size: 48, epochs: 40\n",
      "adam_lr: 0.001, adam_b1: 0.8, adam_b2: 0.9999, adam_wtdecay: 0.590926041117976\n"
     ]
    },
    {
     "name": "stderr",
     "output_type": "stream",
     "text": [
      "                                                                                        \r"
     ]
    },
    {
     "name": "stdout",
     "output_type": "stream",
     "text": [
      "Training stopped early at 8 epochs.\n",
      "Training completed in 4m 57s\n",
      "Best validation accuracy: 0.6509\n",
      "Associated train accuracy: 0.5810\n",
      "Associated train loss: 0.9199\n"
     ]
    },
    {
     "data": {
      "image/png": "[encoded data removed]",
      "text/plain": [
       "<Figure size 720x360 with 2 Axes>"
      ]
     },
     "metadata": {},
     "output_type": "display_data"
    },
    {
     "data": {
      "text/plain": [
       "0"
      ]
     },
     "execution_count": 6,
     "metadata": {},
     "output_type": "execute_result"
    },
    {
     "data": {
      "text/plain": [
       "0"
      ]
     },
     "execution_count": 6,
     "metadata": {},
     "output_type": "execute_result"
    },
    {
     "data": {
      "text/plain": [
       "0"
      ]
     },
     "execution_count": 6,
     "metadata": {},
     "output_type": "execute_result"
    },
    {
     "name": "stdout",
     "output_type": "stream",
     "text": [
      "DATA/DIE_VS_ALL_11\n",
      "\n",
      "ITERATION 1\n",
      "model: inceptionresnetv2, batch_size: 24, epochs: 40\n",
      "adam_lr: 0.05119690290268496, adam_b1: 0.8760400093949886, adam_b2: 0.9501448574636374, adam_wtdecay: 0.8805537412313693\n"
     ]
    },
    {
     "name": "stderr",
     "output_type": "stream",
     "text": [
      "                                                                                        \r"
     ]
    },
    {
     "name": "stdout",
     "output_type": "stream",
     "text": [
      "Training stopped early at 8 epochs.\n",
      "Training completed in 7m 5s\n",
      "Best validation accuracy: 0.9104\n",
      "Associated train accuracy: 0.8451\n",
      "Associated train loss: 0.3676\n",
      "\n",
      "ITERATION 2\n",
      "model: inceptionresnetv2, batch_size: 32, epochs: 10\n",
      "adam_lr: 0.0530442968849185, adam_b1: 0.9410972231865821, adam_b2: 0.9705097310946302, adam_wtdecay: 0.451958884181649\n"
     ]
    },
    {
     "name": "stderr",
     "output_type": "stream",
     "text": [
      "                                                                                        \r"
     ]
    },
    {
     "name": "stdout",
     "output_type": "stream",
     "text": [
      "Training stopped early at 9 epochs.\n",
      "Training completed in 7m 57s\n",
      "Best validation accuracy: 0.9245\n",
      "Associated train accuracy: 0.8289\n",
      "Associated train loss: 0.3755\n",
      "\n",
      "ITERATION 3\n",
      "model: inceptionresnetv2, batch_size: 32, epochs: 40\n",
      "adam_lr: 0.09990361609994171, adam_b1: 0.9850237805202123, adam_b2: 0.996037972329819, adam_wtdecay: 0.8272845239924828\n"
     ]
    },
    {
     "name": "stderr",
     "output_type": "stream",
     "text": [
      "                                                                                         \r"
     ]
    },
    {
     "name": "stdout",
     "output_type": "stream",
     "text": [
      "Training stopped early at 14 epochs.\n",
      "Training completed in 12m 24s\n",
      "Best validation accuracy: 0.8962\n",
      "Associated train accuracy: 0.8836\n",
      "Associated train loss: 0.2883\n",
      "\n",
      "ITERATION 4\n",
      "model: inceptionresnetv2, batch_size: 24, epochs: 10\n",
      "adam_lr: 0.03457570096354684, adam_b1: 0.8917447329191283, adam_b2: 0.9899510780717672, adam_wtdecay: 0.15227559406320368\n"
     ]
    },
    {
     "name": "stderr",
     "output_type": "stream",
     "text": [
      "                                                                                        \r"
     ]
    },
    {
     "name": "stdout",
     "output_type": "stream",
     "text": [
      "Training stopped early at 9 epochs.\n",
      "Training completed in 7m 58s\n",
      "Best validation accuracy: 0.8774\n",
      "Associated train accuracy: 0.8522\n",
      "Associated train loss: 0.3540\n",
      "\n",
      "ITERATION 5\n",
      "model: inceptionresnetv2, batch_size: 64, epochs: 20\n",
      "adam_lr: 0.06729723809090102, adam_b1: 0.9822186091193483, adam_b2: 0.980119702398021, adam_wtdecay: 0.18067368804205486\n"
     ]
    },
    {
     "name": "stderr",
     "output_type": "stream",
     "text": [
      "                                                                                         \r"
     ]
    },
    {
     "name": "stdout",
     "output_type": "stream",
     "text": [
      "Training stopped early at 16 epochs.\n",
      "Training completed in 14m 9s\n",
      "Best validation accuracy: 0.8868\n",
      "Associated train accuracy: 0.8482\n",
      "Associated train loss: 0.3545\n",
      "\n",
      "ITERATION 6\n",
      "model: inceptionresnetv2, batch_size: 32, epochs: 10\n",
      "adam_lr: 0.04797915914970079, adam_b1: 0.8942704237380239, adam_b2: 0.9660404859752961, adam_wtdecay: 0.7629140131917258\n"
     ]
    },
    {
     "name": "stderr",
     "output_type": "stream",
     "text": [
      "                                                                                         \r"
     ]
    },
    {
     "name": "stdout",
     "output_type": "stream",
     "text": [
      "Training completed in 8m 53s\n",
      "Best validation accuracy: 0.8962\n",
      "Associated train accuracy: 0.8684\n",
      "Associated train loss: 0.2978\n",
      "\n",
      "ITERATION 7\n",
      "model: inceptionresnetv2, batch_size: 32, epochs: 10\n",
      "adam_lr: 0.05028113217845894, adam_b1: 0.9444638540447918, adam_b2: 0.9702230217513361, adam_wtdecay: 0.4489889165298878\n"
     ]
    },
    {
     "name": "stderr",
     "output_type": "stream",
     "text": [
      "                                                                                        \r"
     ]
    },
    {
     "name": "stdout",
     "output_type": "stream",
     "text": [
      "Training stopped early at 7 epochs.\n",
      "Training completed in 6m 11s\n",
      "Best validation accuracy: 0.9151\n",
      "Associated train accuracy: 0.8097\n",
      "Associated train loss: 0.4514\n",
      "\n",
      "ITERATION 8\n",
      "model: inceptionresnetv2, batch_size: 32, epochs: 10\n",
      "adam_lr: 0.05576267456000716, adam_b1: 0.9377850202324866, adam_b2: 0.970791722993605, adam_wtdecay: 0.45488094880497704\n"
     ]
    },
    {
     "name": "stderr",
     "output_type": "stream",
     "text": [
      "                                                                                        \r"
     ]
    },
    {
     "name": "stdout",
     "output_type": "stream",
     "text": [
      "Training stopped early at 9 epochs.\n",
      "Training completed in 7m 57s\n",
      "Best validation accuracy: 0.8915\n",
      "Associated train accuracy: 0.8249\n",
      "Associated train loss: 0.4406\n",
      "\n",
      "ITERATION 9\n",
      "model: inceptionresnetv2, batch_size: 24, epochs: 40\n",
      "adam_lr: 0.05111434038011615, adam_b1: 0.8783982487946284, adam_b2: 0.9523528949229584, adam_wtdecay: 0.878305193284238\n"
     ]
    },
    {
     "name": "stderr",
     "output_type": "stream",
     "text": [
      "                                                                                         \r"
     ]
    },
    {
     "name": "stdout",
     "output_type": "stream",
     "text": [
      "Training stopped early at 11 epochs.\n",
      "Training completed in 9m 45s\n",
      "Best validation accuracy: 0.9009\n",
      "Associated train accuracy: 0.8877\n",
      "Associated train loss: 0.2750\n",
      "\n",
      "ITERATION 10\n",
      "model: inceptionresnetv2, batch_size: 32, epochs: 10\n",
      "adam_lr: 0.024321301763487874, adam_b1: 0.8483852551176914, adam_b2: 0.9507901705482772, adam_wtdecay: 0.7423776307053896\n"
     ]
    },
    {
     "name": "stderr",
     "output_type": "stream",
     "text": [
      "                                                                                         \r"
     ]
    },
    {
     "name": "stdout",
     "output_type": "stream",
     "text": [
      "Training completed in 8m 52s\n",
      "Best validation accuracy: 0.9245\n",
      "Associated train accuracy: 0.8785\n",
      "Associated train loss: 0.2826\n",
      "\n",
      "ITERATION 11\n",
      "model: inceptionresnetv2, batch_size: 32, epochs: 10\n",
      "adam_lr: 0.03301374188045651, adam_b1: 0.8944764847711774, adam_b2: 0.958241212355089, adam_wtdecay: 0.5598553464387548\n"
     ]
    },
    {
     "name": "stderr",
     "output_type": "stream",
     "text": [
      "                                                                                        \r"
     ]
    },
    {
     "name": "stdout",
     "output_type": "stream",
     "text": [
      "Training stopped early at 7 epochs.\n",
      "Training completed in 6m 11s\n",
      "Best validation accuracy: 0.9057\n",
      "Associated train accuracy: 0.8340\n",
      "Associated train loss: 0.3773\n",
      "\n",
      "ITERATION 12\n",
      "model: inceptionresnetv2, batch_size: 32, epochs: 10\n",
      "adam_lr: 0.03133641211105683, adam_b1: 0.8920041285526202, adam_b2: 0.9573490395704585, adam_wtdecay: 0.5584038933216652\n"
     ]
    },
    {
     "name": "stderr",
     "output_type": "stream",
     "text": [
      "                                                                                        \r"
     ]
    },
    {
     "name": "stdout",
     "output_type": "stream",
     "text": [
      "Training stopped early at 7 epochs.\n",
      "Training completed in 6m 11s\n",
      "Best validation accuracy: 0.8726\n",
      "Associated train accuracy: 0.8320\n",
      "Associated train loss: 0.3991\n",
      "\n",
      "ITERATION 13\n",
      "model: inceptionresnetv2, batch_size: 48, epochs: 40\n",
      "adam_lr: 0.06014587311289612, adam_b1: 0.851982862432135, adam_b2: 0.9813764878076904, adam_wtdecay: 0.47131707623581\n"
     ]
    },
    {
     "name": "stderr",
     "output_type": "stream",
     "text": [
      "                                                                                         \r"
     ]
    },
    {
     "name": "stdout",
     "output_type": "stream",
     "text": [
      "Training stopped early at 15 epochs.\n",
      "Training completed in 13m 17s\n",
      "Best validation accuracy: 0.8962\n",
      "Associated train accuracy: 0.8279\n",
      "Associated train loss: 0.4388\n",
      "\n",
      "ITERATION 14\n",
      "model: inceptionresnetv2, batch_size: 24, epochs: 20\n",
      "adam_lr: 0.0038719007237404623, adam_b1: 0.8160758620237317, adam_b2: 0.9958570318298734, adam_wtdecay: 0.8704875920505629\n"
     ]
    },
    {
     "name": "stderr",
     "output_type": "stream",
     "text": [
      "                                                                                        \r"
     ]
    },
    {
     "name": "stdout",
     "output_type": "stream",
     "text": [
      "Training stopped early at 6 epochs.\n",
      "Training completed in 5m 18s\n",
      "Best validation accuracy: 0.8915\n",
      "Associated train accuracy: 0.7500\n",
      "Associated train loss: 0.5229\n",
      "\n",
      "ITERATION 15\n",
      "model: inceptionresnetv2, batch_size: 24, epochs: 30\n",
      "adam_lr: 0.06512722272910529, adam_b1: 0.8584899601736203, adam_b2: 0.9507147138261073, adam_wtdecay: 0.6929541816171834\n"
     ]
    },
    {
     "name": "stderr",
     "output_type": "stream",
     "text": [
      "                                                                                         \r"
     ]
    },
    {
     "name": "stdout",
     "output_type": "stream",
     "text": [
      "Training stopped early at 18 epochs.\n",
      "Training completed in 15m 55s\n",
      "Best validation accuracy: 0.8868\n",
      "Associated train accuracy: 0.8937\n",
      "Associated train loss: 0.2821\n"
     ]
    },
    {
     "data": {
      "image/png": "[encoded data removed]",
      "text/plain": [
       "<Figure size 720x360 with 2 Axes>"
      ]
     },
     "metadata": {},
     "output_type": "display_data"
    },
    {
     "data": {
      "text/plain": [
       "0"
      ]
     },
     "execution_count": 6,
     "metadata": {},
     "output_type": "execute_result"
    },
    {
     "data": {
      "text/plain": [
       "0"
      ]
     },
     "execution_count": 6,
     "metadata": {},
     "output_type": "execute_result"
    },
    {
     "data": {
      "text/plain": [
       "0"
      ]
     },
     "execution_count": 6,
     "metadata": {},
     "output_type": "execute_result"
    },
    {
     "name": "stdout",
     "output_type": "stream",
     "text": [
      "DATA/4_CLASS_11\n",
      "\n",
      "ITERATION 1\n",
      "model: inceptionresnetv2, batch_size: 16, epochs: 40\n",
      "adam_lr: 0.0249294188829282, adam_b1: 0.9674968250553616, adam_b2: 0.9534218205789066, adam_wtdecay: 0.18646025076029382\n"
     ]
    },
    {
     "name": "stderr",
     "output_type": "stream",
     "text": [
      "                                                                                         \r"
     ]
    },
    {
     "name": "stdout",
     "output_type": "stream",
     "text": [
      "Training stopped early at 14 epochs.\n",
      "Training completed in 12m 25s\n",
      "Best validation accuracy: 0.7075\n",
      "Associated train accuracy: 0.7591\n",
      "Associated train loss: 0.6286\n",
      "\n",
      "ITERATION 2\n",
      "model: inceptionresnetv2, batch_size: 32, epochs: 20\n",
      "adam_lr: 0.08901977167493777, adam_b1: 0.8338036374207654, adam_b2: 0.9695351284244209, adam_wtdecay: 0.4400741120674446\n"
     ]
    },
    {
     "name": "stderr",
     "output_type": "stream",
     "text": [
      "                                                                                         \r"
     ]
    },
    {
     "name": "stdout",
     "output_type": "stream",
     "text": [
      "Training stopped early at 11 epochs.\n",
      "Training completed in 9m 44s\n",
      "Best validation accuracy: 0.7358\n",
      "Associated train accuracy: 0.7156\n",
      "Associated train loss: 0.7159\n",
      "\n",
      "ITERATION 3\n",
      "model: inceptionresnetv2, batch_size: 24, epochs: 30\n",
      "adam_lr: 0.06348116327578644, adam_b1: 0.8946745853871428, adam_b2: 0.9674105348070742, adam_wtdecay: 0.808285062809854\n"
     ]
    },
    {
     "name": "stderr",
     "output_type": "stream",
     "text": [
      "                                                                                        \r"
     ]
    },
    {
     "name": "stdout",
     "output_type": "stream",
     "text": [
      "Training stopped early at 9 epochs.\n",
      "Training completed in 7m 59s\n",
      "Best validation accuracy: 0.7736\n",
      "Associated train accuracy: 0.7065\n",
      "Associated train loss: 0.7349\n",
      "\n",
      "ITERATION 4\n",
      "model: inceptionresnetv2, batch_size: 24, epochs: 20\n",
      "adam_lr: 0.022813876031660258, adam_b1: 0.8835939675026405, adam_b2: 0.9852625147250562, adam_wtdecay: 0.8291464058620052\n"
     ]
    },
    {
     "name": "stderr",
     "output_type": "stream",
     "text": [
      "                                                                                         \r"
     ]
    },
    {
     "name": "stdout",
     "output_type": "stream",
     "text": [
      "Training stopped early at 14 epochs.\n",
      "Training completed in 12m 25s\n",
      "Best validation accuracy: 0.7689\n",
      "Associated train accuracy: 0.8057\n",
      "Associated train loss: 0.5016\n",
      "\n",
      "ITERATION 5\n",
      "model: inceptionresnetv2, batch_size: 48, epochs: 30\n",
      "adam_lr: 0.004663923665542391, adam_b1: 0.9679910256911377, adam_b2: 0.9636266652690124, adam_wtdecay: 0.5883259282146668\n"
     ]
    },
    {
     "name": "stderr",
     "output_type": "stream",
     "text": [
      "                                                                                         \r"
     ]
    },
    {
     "name": "stdout",
     "output_type": "stream",
     "text": [
      "Training completed in 26m 37s\n",
      "Best validation accuracy: 0.8349\n",
      "Associated train accuracy: 0.8381\n",
      "Associated train loss: 0.4152\n",
      "\n",
      "ITERATION 6\n",
      "model: inceptionresnetv2, batch_size: 48, epochs: 30\n",
      "adam_lr: 0.019186705516050475, adam_b1: 0.8111847696840773, adam_b2: 0.9510984217438094, adam_wtdecay: 0.7462416394688\n"
     ]
    },
    {
     "name": "stderr",
     "output_type": "stream",
     "text": [
      "                                                                                         \r"
     ]
    },
    {
     "name": "stdout",
     "output_type": "stream",
     "text": [
      "Training stopped early at 10 epochs.\n",
      "Training completed in 8m 51s\n",
      "Best validation accuracy: 0.7547\n",
      "Associated train accuracy: 0.7662\n",
      "Associated train loss: 0.6330\n",
      "\n",
      "ITERATION 7\n",
      "model: inceptionresnetv2, batch_size: 24, epochs: 30\n",
      "adam_lr: 0.06328793204618016, adam_b1: 0.904827369082985, adam_b2: 0.9742066718693887, adam_wtdecay: 0.7865833860184317\n"
     ]
    },
    {
     "name": "stderr",
     "output_type": "stream",
     "text": [
      "                                                                                         \r"
     ]
    },
    {
     "name": "stdout",
     "output_type": "stream",
     "text": [
      "Training stopped early at 17 epochs.\n",
      "Training completed in 15m 3s\n",
      "Best validation accuracy: 0.7877\n",
      "Associated train accuracy: 0.7854\n",
      "Associated train loss: 0.5474\n",
      "\n",
      "ITERATION 8\n",
      "model: inceptionresnetv2, batch_size: 48, epochs: 30\n",
      "adam_lr: 0.0017032167672457034, adam_b1: 0.99, adam_b2: 0.9661652446962389, adam_wtdecay: 0.5561327548863267\n"
     ]
    },
    {
     "name": "stderr",
     "output_type": "stream",
     "text": [
      "                                                                                         \r"
     ]
    },
    {
     "name": "stdout",
     "output_type": "stream",
     "text": [
      "Training stopped early at 11 epochs.\n",
      "Training completed in 9m 46s\n",
      "Best validation accuracy: 0.7311\n",
      "Associated train accuracy: 0.7186\n",
      "Associated train loss: 0.7450\n",
      "\n",
      "ITERATION 9\n",
      "model: inceptionresnetv2, batch_size: 48, epochs: 30\n",
      "adam_lr: 0.005019395210870736, adam_b1: 0.9654877833229243, adam_b2: 0.9633386050827943, adam_wtdecay: 0.5920225532456626\n"
     ]
    },
    {
     "name": "stderr",
     "output_type": "stream",
     "text": [
      "                                                                                         \r"
     ]
    },
    {
     "name": "stdout",
     "output_type": "stream",
     "text": [
      "Training stopped early at 24 epochs.\n",
      "Training completed in 21m 17s\n",
      "Best validation accuracy: 0.7925\n",
      "Associated train accuracy: 0.8047\n",
      "Associated train loss: 0.4823\n",
      "\n",
      "ITERATION 10\n",
      "model: inceptionresnetv2, batch_size: 24, epochs: 30\n",
      "adam_lr: 0.06334690089552088, adam_b1: 0.9017292597850757, adam_b2: 0.972132837129224, adam_wtdecay: 0.7932056342493438\n"
     ]
    },
    {
     "name": "stderr",
     "output_type": "stream",
     "text": [
      "                                                                                        \r"
     ]
    },
    {
     "name": "stdout",
     "output_type": "stream",
     "text": [
      "Training stopped early at 9 epochs.\n",
      "Training completed in 7m 58s\n",
      "Best validation accuracy: 0.7547\n",
      "Associated train accuracy: 0.7449\n",
      "Associated train loss: 0.6881\n",
      "\n",
      "ITERATION 11\n",
      "model: inceptionresnetv2, batch_size: 48, epochs: 30\n",
      "adam_lr: 0.0037729794089585234, adam_b1: 0.9688114239778054, adam_b2: 0.9624604561759492, adam_wtdecay: 0.5877833233957103\n"
     ]
    },
    {
     "name": "stderr",
     "output_type": "stream",
     "text": [
      "                                                                                         \r"
     ]
    },
    {
     "name": "stdout",
     "output_type": "stream",
     "text": [
      "Training stopped early at 10 epochs.\n",
      "Training completed in 8m 52s\n",
      "Best validation accuracy: 0.7642\n",
      "Associated train accuracy: 0.7500\n",
      "Associated train loss: 0.6749\n",
      "\n",
      "ITERATION 12\n",
      "model: inceptionresnetv2, batch_size: 48, epochs: 30\n",
      "adam_lr: 0.06776751677477463, adam_b1: 0.9509384062004875, adam_b2: 0.9687931408979739, adam_wtdecay: 0.6260507327691922\n"
     ]
    },
    {
     "name": "stderr",
     "output_type": "stream",
     "text": [
      "                                                                                         \r"
     ]
    },
    {
     "name": "stdout",
     "output_type": "stream",
     "text": [
      "Training stopped early at 14 epochs.\n",
      "Training completed in 12m 26s\n",
      "Best validation accuracy: 0.7642\n",
      "Associated train accuracy: 0.7794\n",
      "Associated train loss: 0.5953\n",
      "\n",
      "ITERATION 13\n",
      "model: inceptionresnetv2, batch_size: 48, epochs: 30\n",
      "adam_lr: 0.03973667882910586, adam_b1: 0.9689890869405293, adam_b2: 0.9858379977298171, adam_wtdecay: 0.6060374393363555\n"
     ]
    },
    {
     "name": "stderr",
     "output_type": "stream",
     "text": [
      "                                                                                         \r"
     ]
    },
    {
     "name": "stdout",
     "output_type": "stream",
     "text": [
      "Training stopped early at 11 epochs.\n",
      "Training completed in 9m 45s\n",
      "Best validation accuracy: 0.7642\n",
      "Associated train accuracy: 0.7652\n",
      "Associated train loss: 0.6199\n",
      "\n",
      "ITERATION 14\n",
      "model: inceptionresnetv2, batch_size: 48, epochs: 30\n",
      "adam_lr: 0.07822501976054543, adam_b1: 0.9322636539781184, adam_b2: 0.9651918303846057, adam_wtdecay: 0.5828945570114952\n"
     ]
    },
    {
     "name": "stderr",
     "output_type": "stream",
     "text": [
      "                                                                                        \r"
     ]
    },
    {
     "name": "stdout",
     "output_type": "stream",
     "text": [
      "Training stopped early at 9 epochs.\n",
      "Training completed in 7m 58s\n",
      "Best validation accuracy: 0.7311\n",
      "Associated train accuracy: 0.7034\n",
      "Associated train loss: 0.7307\n",
      "\n",
      "ITERATION 15\n",
      "model: inceptionresnetv2, batch_size: 24, epochs: 30\n",
      "adam_lr: 0.0644158485658775, adam_b1: 0.9192157442019431, adam_b2: 0.9730212767173319, adam_wtdecay: 0.7534348960696492\n"
     ]
    },
    {
     "name": "stderr",
     "output_type": "stream",
     "text": [
      "                                                                                         \r"
     ]
    },
    {
     "name": "stdout",
     "output_type": "stream",
     "text": [
      "Training stopped early at 11 epochs.\n",
      "Training completed in 9m 45s\n",
      "Best validation accuracy: 0.7877\n",
      "Associated train accuracy: 0.7419\n",
      "Associated train loss: 0.6268\n"
     ]
    },
    {
     "data": {
      "image/png": "[encoded data removed]",
      "text/plain": [
       "<Figure size 720x360 with 2 Axes>"
      ]
     },
     "metadata": {},
     "output_type": "display_data"
    },
    {
     "data": {
      "text/plain": [
       "0"
      ]
     },
     "execution_count": 6,
     "metadata": {},
     "output_type": "execute_result"
    },
    {
     "data": {
      "text/plain": [
       "0"
      ]
     },
     "execution_count": 6,
     "metadata": {},
     "output_type": "execute_result"
    },
    {
     "data": {
      "text/plain": [
       "0"
      ]
     },
     "execution_count": 6,
     "metadata": {},
     "output_type": "execute_result"
    },
    {
     "name": "stdout",
     "output_type": "stream",
     "text": [
      "DATA/DIE_VS_ALL_11\n",
      "\n",
      "ITERATION 1\n",
      "model: inceptionv4, batch_size: 24, epochs: 10\n",
      "adam_lr: 0.04295217442839262, adam_b1: 0.9783069282682264, adam_b2: 0.9884163197646163, adam_wtdecay: 0.18897045439890336\n"
     ]
    },
    {
     "name": "stderr",
     "output_type": "stream",
     "text": [
      "                                                                                         \r"
     ]
    },
    {
     "name": "stdout",
     "output_type": "stream",
     "text": [
      "Training completed in 6m 48s\n",
      "Best validation accuracy: 0.6132\n",
      "Associated train accuracy: 0.5678\n",
      "Associated train loss: 0.6832\n",
      "\n",
      "ITERATION 2\n",
      "model: inceptionv4, batch_size: 64, epochs: 30\n",
      "adam_lr: 0.07543295023752711, adam_b1: 0.9065199056036012, adam_b2: 0.9926986300286966, adam_wtdecay: 0.5439105247243402\n"
     ]
    },
    {
     "name": "stderr",
     "output_type": "stream",
     "text": [
      "                                                                                        \r"
     ]
    },
    {
     "name": "stdout",
     "output_type": "stream",
     "text": [
      "Training stopped early at 7 epochs.\n",
      "Training completed in 4m 46s\n",
      "Best validation accuracy: 0.8208\n",
      "Associated train accuracy: 0.7379\n",
      "Associated train loss: 0.5553\n",
      "\n",
      "ITERATION 3\n",
      "model: inceptionv4, batch_size: 24, epochs: 10\n",
      "adam_lr: 0.007228393557022989, adam_b1: 0.981031855414426, adam_b2: 0.9599656239336398, adam_wtdecay: 0.6447146736983627\n"
     ]
    },
    {
     "name": "stderr",
     "output_type": "stream",
     "text": [
      "                                                                                         \r"
     ]
    },
    {
     "name": "stdout",
     "output_type": "stream",
     "text": [
      "Training stopped early at 10 epochs.\n",
      "Training completed in 6m 49s\n",
      "Best validation accuracy: 0.9292\n",
      "Associated train accuracy: 0.8502\n",
      "Associated train loss: 0.3805\n",
      "\n",
      "ITERATION 4\n",
      "model: inceptionv4, batch_size: 32, epochs: 20\n",
      "adam_lr: 0.09201381010604846, adam_b1: 0.8013176965300637, adam_b2: 0.9697744712159898, adam_wtdecay: 0.6447645067160899\n"
     ]
    },
    {
     "name": "stderr",
     "output_type": "stream",
     "text": [
      "                                                                                        \r"
     ]
    },
    {
     "name": "stdout",
     "output_type": "stream",
     "text": [
      "Training stopped early at 8 epochs.\n",
      "Training completed in 5m 26s\n",
      "Best validation accuracy: 0.7877\n",
      "Associated train accuracy: 0.7095\n",
      "Associated train loss: 0.5596\n",
      "\n",
      "ITERATION 5\n",
      "model: inceptionv4, batch_size: 32, epochs: 40\n",
      "adam_lr: 0.08796155604764103, adam_b1: 0.9373370599930796, adam_b2: 0.996693890300428, adam_wtdecay: 0.49613921643542536\n"
     ]
    },
    {
     "name": "stderr",
     "output_type": "stream",
     "text": [
      "                                                                                        \r"
     ]
    },
    {
     "name": "stdout",
     "output_type": "stream",
     "text": [
      "Training stopped early at 9 epochs.\n",
      "Training completed in 6m 8s\n",
      "Best validation accuracy: 0.8538\n",
      "Associated train accuracy: 0.7834\n",
      "Associated train loss: 0.4970\n",
      "\n",
      "ITERATION 6\n",
      "model: inceptionv4, batch_size: 32, epochs: 40\n",
      "adam_lr: 0.07011366899789614, adam_b1: 0.920422969182871, adam_b2: 0.9887633032770548, adam_wtdecay: 0.501742509593521\n"
     ]
    },
    {
     "name": "stderr",
     "output_type": "stream",
     "text": [
      "                                                                                         \r"
     ]
    },
    {
     "name": "stdout",
     "output_type": "stream",
     "text": [
      "Training stopped early at 19 epochs.\n",
      "Training completed in 12m 57s\n",
      "Best validation accuracy: 0.8538\n",
      "Associated train accuracy: 0.8107\n",
      "Associated train loss: 0.4243\n",
      "\n",
      "ITERATION 7\n",
      "model: inceptionv4, batch_size: 24, epochs: 10\n",
      "adam_lr: 0.001, adam_b1: 0.9817952489989232, adam_b2: 0.9519948055399416, adam_wtdecay: 0.7723975333249243\n"
     ]
    },
    {
     "name": "stderr",
     "output_type": "stream",
     "text": [
      "                                                                                         \r"
     ]
    },
    {
     "name": "stdout",
     "output_type": "stream",
     "text": [
      "Training completed in 6m 49s\n",
      "Best validation accuracy: 0.8679\n",
      "Associated train accuracy: 0.8391\n",
      "Associated train loss: 0.3725\n",
      "\n",
      "ITERATION 8\n",
      "model: inceptionv4, batch_size: 24, epochs: 10\n",
      "adam_lr: 0.001, adam_b1: 0.8661783053751337, adam_b2: 0.9542038200929791, adam_wtdecay: 0.6229940690190373\n"
     ]
    },
    {
     "name": "stderr",
     "output_type": "stream",
     "text": [
      "                                                                                        \r"
     ]
    },
    {
     "name": "stdout",
     "output_type": "stream",
     "text": [
      "Training stopped early at 9 epochs.\n",
      "Training completed in 6m 8s\n",
      "Best validation accuracy: 0.8538\n",
      "Associated train accuracy: 0.8350\n",
      "Associated train loss: 0.3806\n",
      "\n",
      "ITERATION 9\n",
      "model: inceptionv4, batch_size: 24, epochs: 10\n",
      "adam_lr: 0.1, adam_b1: 0.99, adam_b2: 0.9999, adam_wtdecay: 0.6381498676921691\n"
     ]
    },
    {
     "name": "stderr",
     "output_type": "stream",
     "text": [
      "                                                                                        \r"
     ]
    },
    {
     "name": "stdout",
     "output_type": "stream",
     "text": [
      "Training stopped early at 6 epochs.\n",
      "Training completed in 4m 5s\n",
      "Best validation accuracy: 0.8726\n",
      "Associated train accuracy: 0.7551\n",
      "Associated train loss: 0.5879\n",
      "\n",
      "ITERATION 10\n",
      "model: inceptionv4, batch_size: 32, epochs: 40\n",
      "adam_lr: 0.06627006184957195, adam_b1: 0.8460566886752743, adam_b2: 0.9756717314838622, adam_wtdecay: 0.18412211894180425\n"
     ]
    },
    {
     "name": "stderr",
     "output_type": "stream",
     "text": [
      "                                                                                        \r"
     ]
    },
    {
     "name": "stdout",
     "output_type": "stream",
     "text": [
      "Training stopped early at 8 epochs.\n",
      "Training completed in 5m 27s\n",
      "Best validation accuracy: 0.7877\n",
      "Associated train accuracy: 0.7257\n",
      "Associated train loss: 0.5648\n",
      "\n",
      "ITERATION 11\n",
      "model: inceptionv4, batch_size: 32, epochs: 40\n",
      "adam_lr: 0.1, adam_b1: 0.99, adam_b2: 0.9999, adam_wtdecay: 0.7684563234738149\n"
     ]
    },
    {
     "name": "stderr",
     "output_type": "stream",
     "text": [
      "                                                                                        \r"
     ]
    },
    {
     "name": "stdout",
     "output_type": "stream",
     "text": [
      "Training stopped early at 7 epochs.\n",
      "Training completed in 4m 46s\n",
      "Best validation accuracy: 0.8679\n",
      "Associated train accuracy: 0.8026\n",
      "Associated train loss: 0.4429\n",
      "\n",
      "ITERATION 12\n",
      "model: inceptionv4, batch_size: 32, epochs: 40\n",
      "adam_lr: 0.001, adam_b1: 0.8, adam_b2: 0.95, adam_wtdecay: 0.855657629885037\n"
     ]
    },
    {
     "name": "stderr",
     "output_type": "stream",
     "text": [
      "                                                                                         \r"
     ]
    },
    {
     "name": "stdout",
     "output_type": "stream",
     "text": [
      "Training stopped early at 18 epochs.\n",
      "Training completed in 12m 17s\n",
      "Best validation accuracy: 0.9104\n",
      "Associated train accuracy: 0.8502\n",
      "Associated train loss: 0.3459\n",
      "\n",
      "ITERATION 13\n",
      "model: inceptionv4, batch_size: 32, epochs: 40\n",
      "adam_lr: 0.1, adam_b1: 0.8, adam_b2: 0.95, adam_wtdecay: 0.989355294572553\n"
     ]
    },
    {
     "name": "stderr",
     "output_type": "stream",
     "text": [
      "                                                                                         \r"
     ]
    },
    {
     "name": "stdout",
     "output_type": "stream",
     "text": [
      "Training stopped early at 14 epochs.\n",
      "Training completed in 9m 32s\n",
      "Best validation accuracy: 0.8491\n",
      "Associated train accuracy: 0.7885\n",
      "Associated train loss: 0.4781\n",
      "\n",
      "ITERATION 14\n",
      "model: inceptionv4, batch_size: 32, epochs: 40\n",
      "adam_lr: 0.001, adam_b1: 0.8, adam_b2: 0.9999, adam_wtdecay: 0.7287043591781217\n"
     ]
    },
    {
     "name": "stderr",
     "output_type": "stream",
     "text": [
      "                                                                                        \r"
     ]
    },
    {
     "name": "stdout",
     "output_type": "stream",
     "text": [
      "Training stopped early at 8 epochs.\n",
      "Training completed in 5m 27s\n",
      "Best validation accuracy: 0.8066\n",
      "Associated train accuracy: 0.7328\n",
      "Associated train loss: 0.5804\n",
      "\n",
      "ITERATION 15\n",
      "model: inceptionv4, batch_size: 32, epochs: 40\n",
      "adam_lr: 0.001, adam_b1: 0.9031597627313194, adam_b2: 0.95, adam_wtdecay: 0.8983477563586729\n"
     ]
    },
    {
     "name": "stderr",
     "output_type": "stream",
     "text": [
      "                                                                                        \r"
     ]
    },
    {
     "name": "stdout",
     "output_type": "stream",
     "text": [
      "Training stopped early at 7 epochs.\n",
      "Training completed in 4m 47s\n",
      "Best validation accuracy: 0.8821\n",
      "Associated train accuracy: 0.7986\n",
      "Associated train loss: 0.4785\n"
     ]
    },
    {
     "data": {
      "image/png": "[encoded data removed]",
      "text/plain": [
       "<Figure size 720x360 with 2 Axes>"
      ]
     },
     "metadata": {},
     "output_type": "display_data"
    },
    {
     "data": {
      "text/plain": [
       "0"
      ]
     },
     "execution_count": 6,
     "metadata": {},
     "output_type": "execute_result"
    },
    {
     "data": {
      "text/plain": [
       "0"
      ]
     },
     "execution_count": 6,
     "metadata": {},
     "output_type": "execute_result"
    },
    {
     "data": {
      "text/plain": [
       "0"
      ]
     },
     "execution_count": 6,
     "metadata": {},
     "output_type": "execute_result"
    },
    {
     "name": "stdout",
     "output_type": "stream",
     "text": [
      "DATA/4_CLASS_11\n",
      "\n",
      "ITERATION 1\n",
      "model: inceptionv4, batch_size: 48, epochs: 20\n",
      "adam_lr: 0.05592162977023996, adam_b1: 0.8952018343145519, adam_b2: 0.9702117805581048, adam_wtdecay: 0.8209366422617229\n"
     ]
    },
    {
     "name": "stderr",
     "output_type": "stream",
     "text": [
      "                                                                                         \r"
     ]
    },
    {
     "name": "stdout",
     "output_type": "stream",
     "text": [
      "Training stopped early at 14 epochs.\n",
      "Training completed in 9m 33s\n",
      "Best validation accuracy: 0.6604\n",
      "Associated train accuracy: 0.6518\n",
      "Associated train loss: 0.8541\n",
      "\n",
      "ITERATION 2\n",
      "model: inceptionv4, batch_size: 32, epochs: 10\n",
      "adam_lr: 0.009328270907887019, adam_b1: 0.9743699639467758, adam_b2: 0.9519629954675246, adam_wtdecay: 0.6759008676316072\n"
     ]
    },
    {
     "name": "stderr",
     "output_type": "stream",
     "text": [
      "                                                                                         \r"
     ]
    },
    {
     "name": "stdout",
     "output_type": "stream",
     "text": [
      "Training completed in 6m 49s\n",
      "Best validation accuracy: 0.7500\n",
      "Associated train accuracy: 0.7783\n",
      "Associated train loss: 0.6546\n",
      "\n",
      "ITERATION 3\n",
      "model: inceptionv4, batch_size: 16, epochs: 20\n",
      "adam_lr: 0.03226030100871093, adam_b1: 0.906992395084777, adam_b2: 0.9660569427560388, adam_wtdecay: 0.38729031638982425\n"
     ]
    },
    {
     "name": "stderr",
     "output_type": "stream",
     "text": [
      "                                                                                        \r"
     ]
    },
    {
     "name": "stdout",
     "output_type": "stream",
     "text": [
      "Training stopped early at 6 epochs.\n",
      "Training completed in 4m 5s\n",
      "Best validation accuracy: 0.6132\n",
      "Associated train accuracy: 0.5597\n",
      "Associated train loss: 1.2532\n",
      "\n",
      "ITERATION 4\n",
      "model: inceptionv4, batch_size: 32, epochs: 30\n",
      "adam_lr: 0.014591193857762128, adam_b1: 0.9668930032841059, adam_b2: 0.9643727097560566, adam_wtdecay: 0.7301532473898861\n"
     ]
    },
    {
     "name": "stderr",
     "output_type": "stream",
     "text": [
      "                                                                                        \r"
     ]
    },
    {
     "name": "stdout",
     "output_type": "stream",
     "text": [
      "Training stopped early at 8 epochs.\n",
      "Training completed in 5m 27s\n",
      "Best validation accuracy: 0.7594\n",
      "Associated train accuracy: 0.6984\n",
      "Associated train loss: 0.7805\n",
      "\n",
      "ITERATION 5\n",
      "model: inceptionv4, batch_size: 32, epochs: 20\n",
      "adam_lr: 0.014602022887275645, adam_b1: 0.8550195260028388, adam_b2: 0.9595435766267357, adam_wtdecay: 0.7805889101524692\n"
     ]
    },
    {
     "name": "stderr",
     "output_type": "stream",
     "text": [
      "                                                                                        \r"
     ]
    },
    {
     "name": "stdout",
     "output_type": "stream",
     "text": [
      "Training stopped early at 8 epochs.\n",
      "Training completed in 5m 27s\n",
      "Best validation accuracy: 0.7736\n",
      "Associated train accuracy: 0.7227\n",
      "Associated train loss: 0.7866\n",
      "\n",
      "ITERATION 6\n",
      "model: inceptionv4, batch_size: 32, epochs: 20\n",
      "adam_lr: 0.1, adam_b1: 0.8, adam_b2: 0.9999, adam_wtdecay: 0.0\n"
     ]
    },
    {
     "name": "stderr",
     "output_type": "stream",
     "text": [
      "                                                                                        \r"
     ]
    },
    {
     "name": "stdout",
     "output_type": "stream",
     "text": [
      "Training stopped early at 6 epochs.\n",
      "Training completed in 4m 5s\n",
      "Best validation accuracy: 0.5660\n",
      "Associated train accuracy: 0.5506\n",
      "Associated train loss: 1.3066\n",
      "\n",
      "ITERATION 7\n",
      "model: inceptionv4, batch_size: 32, epochs: 20\n",
      "adam_lr: 0.012663137841628808, adam_b1: 0.846689329299346, adam_b2: 0.957669368800945, adam_wtdecay: 0.7644439833205321\n"
     ]
    },
    {
     "name": "stderr",
     "output_type": "stream",
     "text": [
      "                                                                                         \r"
     ]
    },
    {
     "name": "stdout",
     "output_type": "stream",
     "text": [
      "Training stopped early at 15 epochs.\n",
      "Training completed in 10m 14s\n",
      "Best validation accuracy: 0.7547\n",
      "Associated train accuracy: 0.7713\n",
      "Associated train loss: 0.5917\n",
      "\n",
      "ITERATION 8\n",
      "model: inceptionv4, batch_size: 32, epochs: 20\n",
      "adam_lr: 0.023605802837741656, adam_b1: 0.8937249109610532, adam_b2: 0.9682491664514197, adam_wtdecay: 0.8556394372548768\n"
     ]
    },
    {
     "name": "stderr",
     "output_type": "stream",
     "text": [
      "                                                                                         \r"
     ]
    },
    {
     "name": "stdout",
     "output_type": "stream",
     "text": [
      "Training stopped early at 11 epochs.\n",
      "Training completed in 7m 30s\n",
      "Best validation accuracy: 0.7028\n",
      "Associated train accuracy: 0.6538\n",
      "Associated train loss: 0.8716\n",
      "\n",
      "ITERATION 9\n",
      "model: inceptionv4, batch_size: 32, epochs: 20\n",
      "adam_lr: 0.05380224138219883, adam_b1: 0.8682018789061633, adam_b2: 0.9700817184317335, adam_wtdecay: 0.7833449652122016\n"
     ]
    },
    {
     "name": "stderr",
     "output_type": "stream",
     "text": [
      "                                                                                         \r"
     ]
    },
    {
     "name": "stdout",
     "output_type": "stream",
     "text": [
      "Training stopped early at 18 epochs.\n",
      "Training completed in 12m 16s\n",
      "Best validation accuracy: 0.6981\n",
      "Associated train accuracy: 0.6903\n",
      "Associated train loss: 0.7919\n",
      "\n",
      "ITERATION 10\n",
      "model: inceptionv4, batch_size: 32, epochs: 30\n",
      "adam_lr: 0.037905864340789096, adam_b1: 0.9783645578068982, adam_b2: 0.9669179222050117, adam_wtdecay: 0.7690008714432123\n"
     ]
    },
    {
     "name": "stderr",
     "output_type": "stream",
     "text": [
      "                                                                                        \r"
     ]
    },
    {
     "name": "stdout",
     "output_type": "stream",
     "text": [
      "Training stopped early at 8 epochs.\n",
      "Training completed in 5m 26s\n",
      "Best validation accuracy: 0.6462\n",
      "Associated train accuracy: 0.6528\n",
      "Associated train loss: 0.8603\n",
      "\n",
      "ITERATION 11\n",
      "model: inceptionv4, batch_size: 32, epochs: 20\n",
      "adam_lr: 0.001, adam_b1: 0.8482732539576142, adam_b2: 0.9507729580344951, adam_wtdecay: 0.789348882671094\n"
     ]
    },
    {
     "name": "stderr",
     "output_type": "stream",
     "text": [
      "                                                                                         \r"
     ]
    },
    {
     "name": "stdout",
     "output_type": "stream",
     "text": [
      "Training stopped early at 15 epochs.\n",
      "Training completed in 10m 14s\n",
      "Best validation accuracy: 0.7264\n",
      "Associated train accuracy: 0.7227\n",
      "Associated train loss: 0.7325\n",
      "\n",
      "ITERATION 12\n",
      "model: inceptionv4, batch_size: 32, epochs: 20\n",
      "adam_lr: 0.01084433647287002, adam_b1: 0.8646820833829485, adam_b2: 0.9703969044581785, adam_wtdecay: 0.7731832640440981\n"
     ]
    },
    {
     "name": "stderr",
     "output_type": "stream",
     "text": [
      "                                                                                         \r"
     ]
    },
    {
     "name": "stdout",
     "output_type": "stream",
     "text": [
      "Training stopped early at 12 epochs.\n",
      "Training completed in 8m 11s\n",
      "Best validation accuracy: 0.7877\n",
      "Associated train accuracy: 0.7591\n",
      "Associated train loss: 0.6642\n",
      "\n",
      "ITERATION 13\n",
      "model: inceptionv4, batch_size: 32, epochs: 20\n",
      "adam_lr: 0.010963303559155101, adam_b1: 0.8789649372438123, adam_b2: 0.9563749690019316, adam_wtdecay: 0.7698138225742115\n"
     ]
    },
    {
     "name": "stderr",
     "output_type": "stream",
     "text": [
      "                                                                                         \r"
     ]
    },
    {
     "name": "stdout",
     "output_type": "stream",
     "text": [
      "Training stopped early at 15 epochs.\n",
      "Training completed in 10m 14s\n",
      "Best validation accuracy: 0.7783\n",
      "Associated train accuracy: 0.7581\n",
      "Associated train loss: 0.6565\n",
      "\n",
      "ITERATION 14\n",
      "model: inceptionv4, batch_size: 32, epochs: 30\n",
      "adam_lr: 0.001, adam_b1: 0.9576835238533804, adam_b2: 0.9623296935862807, adam_wtdecay: 0.6989653073418944\n"
     ]
    },
    {
     "name": "stderr",
     "output_type": "stream",
     "text": [
      "                                                                                         \r"
     ]
    },
    {
     "name": "stdout",
     "output_type": "stream",
     "text": [
      "Training stopped early at 15 epochs.\n",
      "Training completed in 10m 14s\n",
      "Best validation accuracy: 0.7453\n",
      "Associated train accuracy: 0.7358\n",
      "Associated train loss: 0.6992\n",
      "\n",
      "ITERATION 15\n",
      "model: inceptionv4, batch_size: 32, epochs: 30\n",
      "adam_lr: 0.001, adam_b1: 0.9779253374470334, adam_b2: 0.9999, adam_wtdecay: 0.7144638167511966\n"
     ]
    },
    {
     "name": "stderr",
     "output_type": "stream",
     "text": [
      "                                                                                         \r"
     ]
    },
    {
     "name": "stdout",
     "output_type": "stream",
     "text": [
      "Training stopped early at 17 epochs.\n",
      "Training completed in 11m 36s\n",
      "Best validation accuracy: 0.7123\n",
      "Associated train accuracy: 0.6761\n",
      "Associated train loss: 0.8122\n"
     ]
    },
    {
     "data": {
      "image/png": "[encoded data removed]",
      "text/plain": [
       "<Figure size 720x360 with 2 Axes>"
      ]
     },
     "metadata": {},
     "output_type": "display_data"
    },
    {
     "data": {
      "text/plain": [
       "0"
      ]
     },
     "execution_count": 6,
     "metadata": {},
     "output_type": "execute_result"
    },
    {
     "data": {
      "text/plain": [
       "0"
      ]
     },
     "execution_count": 6,
     "metadata": {},
     "output_type": "execute_result"
    },
    {
     "data": {
      "text/plain": [
       "0"
      ]
     },
     "execution_count": 6,
     "metadata": {},
     "output_type": "execute_result"
    },
    {
     "name": "stdout",
     "output_type": "stream",
     "text": [
      "DATA/DIE_VS_ALL_11\n",
      "\n",
      "ITERATION 1\n",
      "model: vgg16, batch_size: 32, epochs: 40\n",
      "adam_lr: 0.05413816443832108, adam_b1: 0.8693025721689481, adam_b2: 0.9511112378027855, adam_wtdecay: 0.31479440975368156\n"
     ]
    },
    {
     "name": "stderr",
     "output_type": "stream",
     "text": [
      "                                                                                        \r"
     ]
    },
    {
     "name": "stdout",
     "output_type": "stream",
     "text": [
      "Training stopped early at 7 epochs.\n",
      "Training completed in 3m 52s\n",
      "Best validation accuracy: 0.5660\n",
      "Associated train accuracy: 0.5101\n",
      "Associated train loss: 1.4542\n",
      "\n",
      "ITERATION 2\n",
      "model: vgg16, batch_size: 32, epochs: 10\n",
      "adam_lr: 0.025235153869259695, adam_b1: 0.905005095553509, adam_b2: 0.9598704774997133, adam_wtdecay: 0.267005329081368\n"
     ]
    },
    {
     "name": "stderr",
     "output_type": "stream",
     "text": [
      "                                                                              \r"
     ]
    },
    {
     "name": "stdout",
     "output_type": "stream",
     "text": [
      "Skipping because maximum recursion depth exceeded\n",
      "DATA/4_CLASS_11\n",
      "\n",
      "ITERATION 1\n",
      "model: vgg16, batch_size: 24, epochs: 10\n",
      "adam_lr: 0.028847845394353793, adam_b1: 0.925887994549666, adam_b2: 0.9987101042897127, adam_wtdecay: 0.9828519090983053\n"
     ]
    },
    {
     "name": "stderr",
     "output_type": "stream",
     "text": [
      "                                                                              \r"
     ]
    },
    {
     "name": "stdout",
     "output_type": "stream",
     "text": [
      "maximum recursion depth exceeded\n",
      "\n",
      "ITERATION 2\n",
      "model: vgg16, batch_size: 24, epochs: 40\n",
      "adam_lr: 0.023681842684651212, adam_b1: 0.9431097446596344, adam_b2: 0.9769387117710487, adam_wtdecay: 0.47724603650844766\n"
     ]
    },
    {
     "name": "stderr",
     "output_type": "stream",
     "text": [
      "                                                                              \r"
     ]
    },
    {
     "name": "stdout",
     "output_type": "stream",
     "text": [
      "Skipping because maximum recursion depth exceeded\n",
      "DATA/DIE_VS_ALL_11\n",
      "\n",
      "ITERATION 1\n",
      "model: vgg19, batch_size: 48, epochs: 10\n",
      "adam_lr: 0.07143240924628103, adam_b1: 0.9620815039562638, adam_b2: 0.9551793838706104, adam_wtdecay: 0.5580022272591425\n"
     ]
    },
    {
     "name": "stderr",
     "output_type": "stream",
     "text": [
      "Downloading: \"https://download.pytorch.org/models/vgg19-dcbb9e9d.pth\" to /home/alwood/.torch/models/vgg19-dcbb9e9d.pth\n",
      "100%|██████████| 574673361/574673361 [23:24<00:00, 409153.09it/s]  \n",
      "                                                                              \r"
     ]
    },
    {
     "name": "stdout",
     "output_type": "stream",
     "text": [
      "maximum recursion depth exceeded\n",
      "\n",
      "ITERATION 2\n",
      "model: vgg19, batch_size: 32, epochs: 40\n",
      "adam_lr: 0.0765620126450548, adam_b1: 0.9886921414358112, adam_b2: 0.9699567220452883, adam_wtdecay: 0.06124665187412881\n"
     ]
    },
    {
     "name": "stderr",
     "output_type": "stream",
     "text": [
      "                                                                              \r"
     ]
    },
    {
     "name": "stdout",
     "output_type": "stream",
     "text": [
      "Skipping because maximum recursion depth exceeded\n",
      "DATA/4_CLASS_11\n",
      "\n",
      "ITERATION 1\n",
      "model: vgg19, batch_size: 16, epochs: 40\n",
      "adam_lr: 0.06794008022573989, adam_b1: 0.866682975645059, adam_b2: 0.9849885246588992, adam_wtdecay: 0.7855192087287564\n"
     ]
    },
    {
     "name": "stderr",
     "output_type": "stream",
     "text": [
      "                                                                              \r"
     ]
    },
    {
     "name": "stdout",
     "output_type": "stream",
     "text": [
      "maximum recursion depth exceeded\n",
      "\n",
      "ITERATION 2\n",
      "model: vgg19, batch_size: 48, epochs: 20\n",
      "adam_lr: 0.04970252764021703, adam_b1: 0.81639367248642, adam_b2: 0.9690478184246039, adam_wtdecay: 0.782232052378515\n"
     ]
    },
    {
     "name": "stderr",
     "output_type": "stream",
     "text": [
      "                                                                              \r"
     ]
    },
    {
     "name": "stdout",
     "output_type": "stream",
     "text": [
      "Skipping because maximum recursion depth exceeded\n",
      "DATA/DIE_VS_ALL_11\n",
      "\n",
      "ITERATION 1\n",
      "model: resnet101, batch_size: 24, epochs: 30\n",
      "adam_lr: 0.035340930618450984, adam_b1: 0.9676175662937704, adam_b2: 0.970023437588172, adam_wtdecay: 0.5540604661137825\n"
     ]
    },
    {
     "name": "stderr",
     "output_type": "stream",
     "text": [
      "                                                                                         \r"
     ]
    },
    {
     "name": "stdout",
     "output_type": "stream",
     "text": [
      "Training stopped early at 18 epochs.\n",
      "Training completed in 8m 7s\n",
      "Best validation accuracy: 0.8302\n",
      "Associated train accuracy: 0.8401\n",
      "Associated train loss: 0.3779\n",
      "\n",
      "ITERATION 2\n",
      "model: resnet101, batch_size: 24, epochs: 30\n",
      "adam_lr: 0.06012199605899248, adam_b1: 0.8531095733301151, adam_b2: 0.9950408836249975, adam_wtdecay: 0.10675027968955009\n"
     ]
    },
    {
     "name": "stderr",
     "output_type": "stream",
     "text": [
      "                                                                                         \r"
     ]
    },
    {
     "name": "stdout",
     "output_type": "stream",
     "text": [
      "Training stopped early at 16 epochs.\n",
      "Training completed in 7m 14s\n",
      "Best validation accuracy: 0.8019\n",
      "Associated train accuracy: 0.7642\n",
      "Associated train loss: 0.5229\n",
      "\n",
      "ITERATION 3\n",
      "model: resnet101, batch_size: 32, epochs: 20\n",
      "adam_lr: 0.040051432105208264, adam_b1: 0.9059059547659501, adam_b2: 0.9527653545842585, adam_wtdecay: 0.080366299361747\n"
     ]
    },
    {
     "name": "stderr",
     "output_type": "stream",
     "text": [
      "                                                                                         \r"
     ]
    },
    {
     "name": "stdout",
     "output_type": "stream",
     "text": [
      "Training stopped early at 14 epochs.\n",
      "Training completed in 6m 19s\n",
      "Best validation accuracy: 0.7783\n",
      "Associated train accuracy: 0.7895\n",
      "Associated train loss: 0.4439\n",
      "\n",
      "ITERATION 4\n",
      "model: resnet101, batch_size: 64, epochs: 10\n",
      "adam_lr: 0.08529136616159992, adam_b1: 0.8187399003745438, adam_b2: 0.9545842135567861, adam_wtdecay: 0.6006513403500489\n"
     ]
    },
    {
     "name": "stderr",
     "output_type": "stream",
     "text": [
      "                                                                                         \r"
     ]
    },
    {
     "name": "stdout",
     "output_type": "stream",
     "text": [
      "Training completed in 4m 31s\n",
      "Best validation accuracy: 0.7972\n",
      "Associated train accuracy: 0.7773\n",
      "Associated train loss: 0.4913\n",
      "\n",
      "ITERATION 5\n",
      "model: resnet101, batch_size: 16, epochs: 30\n",
      "adam_lr: 0.02839325639396616, adam_b1: 0.9779487553302613, adam_b2: 0.9662489724156862, adam_wtdecay: 0.2825345187096371\n"
     ]
    },
    {
     "name": "stderr",
     "output_type": "stream",
     "text": [
      "                                                                                         \r"
     ]
    },
    {
     "name": "stdout",
     "output_type": "stream",
     "text": [
      "Training stopped early at 15 epochs.\n",
      "Training completed in 6m 46s\n",
      "Best validation accuracy: 0.8066\n",
      "Associated train accuracy: 0.8300\n",
      "Associated train loss: 0.4002\n",
      "\n",
      "ITERATION 6\n",
      "model: resnet101, batch_size: 24, epochs: 30\n",
      "adam_lr: 0.0343562440801246, adam_b1: 0.9693630126681544, adam_b2: 0.968219299185406, adam_wtdecay: 0.5532503277359677\n"
     ]
    },
    {
     "name": "stderr",
     "output_type": "stream",
     "text": [
      "                                                                                         \r"
     ]
    },
    {
     "name": "stdout",
     "output_type": "stream",
     "text": [
      "Training stopped early at 19 epochs.\n",
      "Training completed in 8m 35s\n",
      "Best validation accuracy: 0.8585\n",
      "Associated train accuracy: 0.8340\n",
      "Associated train loss: 0.3650\n",
      "\n",
      "ITERATION 7\n",
      "model: resnet101, batch_size: 24, epochs: 30\n",
      "adam_lr: 0.03403670833846595, adam_b1: 0.9694739532350183, adam_b2: 0.966928825353751, adam_wtdecay: 0.5532382756396249\n"
     ]
    },
    {
     "name": "stderr",
     "output_type": "stream",
     "text": [
      "                                                                                         \r"
     ]
    },
    {
     "name": "stdout",
     "output_type": "stream",
     "text": [
      "Training stopped early at 11 epochs.\n",
      "Training completed in 4m 58s\n",
      "Best validation accuracy: 0.7925\n",
      "Associated train accuracy: 0.8128\n",
      "Associated train loss: 0.4366\n",
      "\n",
      "ITERATION 8\n",
      "model: resnet101, batch_size: 16, epochs: 30\n",
      "adam_lr: 0.005982215519903287, adam_b1: 0.9674944806069221, adam_b2: 0.9692508910902096, adam_wtdecay: 0.815601822710211\n"
     ]
    },
    {
     "name": "stderr",
     "output_type": "stream",
     "text": [
      "                                                                                         \r"
     ]
    },
    {
     "name": "stdout",
     "output_type": "stream",
     "text": [
      "Training stopped early at 10 epochs.\n",
      "Training completed in 4m 32s\n",
      "Best validation accuracy: 0.8868\n",
      "Associated train accuracy: 0.8350\n",
      "Associated train loss: 0.4006\n",
      "\n",
      "ITERATION 9\n",
      "model: resnet101, batch_size: 24, epochs: 20\n",
      "adam_lr: 0.02420645399889232, adam_b1: 0.8455746984873235, adam_b2: 0.9985655826610739, adam_wtdecay: 0.693474529613687\n"
     ]
    },
    {
     "name": "stderr",
     "output_type": "stream",
     "text": [
      "                                                                                        \r"
     ]
    },
    {
     "name": "stdout",
     "output_type": "stream",
     "text": [
      "Training stopped early at 9 epochs.\n",
      "Training completed in 4m 4s\n",
      "Best validation accuracy: 0.8491\n",
      "Associated train accuracy: 0.8279\n",
      "Associated train loss: 0.4337\n",
      "\n",
      "ITERATION 10\n",
      "model: resnet101, batch_size: 64, epochs: 40\n",
      "adam_lr: 0.0026712112246805534, adam_b1: 0.913549896514472, adam_b2: 0.9851624761298505, adam_wtdecay: 0.21005772981385074\n"
     ]
    },
    {
     "name": "stderr",
     "output_type": "stream",
     "text": [
      "                                                                                        \r"
     ]
    },
    {
     "name": "stdout",
     "output_type": "stream",
     "text": [
      "Training stopped early at 9 epochs.\n",
      "Training completed in 4m 4s\n",
      "Best validation accuracy: 0.9009\n",
      "Associated train accuracy: 0.8350\n",
      "Associated train loss: 0.4122\n",
      "\n",
      "ITERATION 11\n",
      "model: resnet101, batch_size: 48, epochs: 10\n",
      "adam_lr: 0.021406538329427557, adam_b1: 0.9362870530039223, adam_b2: 0.962289345000443, adam_wtdecay: 0.648655737651364\n"
     ]
    },
    {
     "name": "stderr",
     "output_type": "stream",
     "text": [
      "                                                                                         \r"
     ]
    },
    {
     "name": "stdout",
     "output_type": "stream",
     "text": [
      "Training completed in 4m 31s\n",
      "Best validation accuracy: 0.8585\n",
      "Associated train accuracy: 0.8482\n",
      "Associated train loss: 0.3591\n",
      "\n",
      "ITERATION 12\n",
      "model: resnet101, batch_size: 48, epochs: 40\n",
      "adam_lr: 0.03954663803222476, adam_b1: 0.8179999566084836, adam_b2: 0.9639951147228843, adam_wtdecay: 0.056892024824864884\n"
     ]
    },
    {
     "name": "stderr",
     "output_type": "stream",
     "text": [
      "                                                                                         \r"
     ]
    },
    {
     "name": "stdout",
     "output_type": "stream",
     "text": [
      "Training stopped early at 15 epochs.\n",
      "Training completed in 6m 47s\n",
      "Best validation accuracy: 0.8113\n",
      "Associated train accuracy: 0.7905\n",
      "Associated train loss: 0.4742\n",
      "\n",
      "ITERATION 13\n",
      "model: resnet101, batch_size: 48, epochs: 20\n",
      "adam_lr: 0.030695977408199234, adam_b1: 0.8153707608147795, adam_b2: 0.9703938372456115, adam_wtdecay: 0.646860276780844\n"
     ]
    },
    {
     "name": "stderr",
     "output_type": "stream",
     "text": [
      "                                                                                         \r"
     ]
    },
    {
     "name": "stdout",
     "output_type": "stream",
     "text": [
      "Training stopped early at 16 epochs.\n",
      "Training completed in 7m 14s\n",
      "Best validation accuracy: 0.8160\n",
      "Associated train accuracy: 0.7996\n",
      "Associated train loss: 0.4279\n",
      "\n",
      "ITERATION 14\n",
      "model: resnet101, batch_size: 32, epochs: 30\n",
      "adam_lr: 0.03665530652838679, adam_b1: 0.8695834825291417, adam_b2: 0.9747025359787759, adam_wtdecay: 0.9437139924367148\n"
     ]
    },
    {
     "name": "stderr",
     "output_type": "stream",
     "text": [
      "                                                                                         \r"
     ]
    },
    {
     "name": "stdout",
     "output_type": "stream",
     "text": [
      "Training stopped early at 19 epochs.\n",
      "Training completed in 8m 35s\n",
      "Best validation accuracy: 0.8821\n",
      "Associated train accuracy: 0.8755\n",
      "Associated train loss: 0.3135\n",
      "\n",
      "ITERATION 15\n",
      "model: resnet101, batch_size: 16, epochs: 20\n",
      "adam_lr: 0.09811454588498503, adam_b1: 0.89908474391514, adam_b2: 0.9710221128378236, adam_wtdecay: 0.3169661506247733\n"
     ]
    },
    {
     "name": "stderr",
     "output_type": "stream",
     "text": [
      "                                                                                         \r"
     ]
    },
    {
     "name": "stdout",
     "output_type": "stream",
     "text": [
      "Training stopped early at 12 epochs.\n",
      "Training completed in 5m 25s\n",
      "Best validation accuracy: 0.7830\n",
      "Associated train accuracy: 0.7611\n",
      "Associated train loss: 0.5032\n"
     ]
    },
    {
     "data": {
      "image/png": "[encoded data removed]",
      "text/plain": [
       "<Figure size 720x360 with 2 Axes>"
      ]
     },
     "metadata": {},
     "output_type": "display_data"
    },
    {
     "data": {
      "text/plain": [
       "0"
      ]
     },
     "execution_count": 6,
     "metadata": {},
     "output_type": "execute_result"
    },
    {
     "data": {
      "text/plain": [
       "0"
      ]
     },
     "execution_count": 6,
     "metadata": {},
     "output_type": "execute_result"
    },
    {
     "data": {
      "text/plain": [
       "0"
      ]
     },
     "execution_count": 6,
     "metadata": {},
     "output_type": "execute_result"
    },
    {
     "name": "stdout",
     "output_type": "stream",
     "text": [
      "DATA/4_CLASS_11\n",
      "\n",
      "ITERATION 1\n",
      "model: resnet101, batch_size: 24, epochs: 30\n",
      "adam_lr: 0.02200610801541752, adam_b1: 0.9845489247630352, adam_b2: 0.9932108489696643, adam_wtdecay: 0.3371233506410889\n"
     ]
    },
    {
     "name": "stderr",
     "output_type": "stream",
     "text": [
      "                                                                                         \r"
     ]
    },
    {
     "name": "stdout",
     "output_type": "stream",
     "text": [
      "Training stopped early at 11 epochs.\n",
      "Training completed in 4m 58s\n",
      "Best validation accuracy: 0.6651\n",
      "Associated train accuracy: 0.6549\n",
      "Associated train loss: 0.8770\n",
      "\n",
      "ITERATION 2\n",
      "model: resnet101, batch_size: 32, epochs: 40\n",
      "adam_lr: 0.026940402941227085, adam_b1: 0.8828275801414234, adam_b2: 0.9727550446721341, adam_wtdecay: 0.48030240782919575\n"
     ]
    },
    {
     "name": "stderr",
     "output_type": "stream",
     "text": [
      "                                                                                        \r"
     ]
    },
    {
     "name": "stdout",
     "output_type": "stream",
     "text": [
      "Training stopped early at 8 epochs.\n",
      "Training completed in 3m 37s\n",
      "Best validation accuracy: 0.5991\n",
      "Associated train accuracy: 0.6184\n",
      "Associated train loss: 0.9683\n",
      "\n",
      "ITERATION 3\n",
      "model: resnet101, batch_size: 24, epochs: 40\n",
      "adam_lr: 0.07578979768381582, adam_b1: 0.8813304608511295, adam_b2: 0.9732855079965443, adam_wtdecay: 0.5521681229008819\n"
     ]
    },
    {
     "name": "stderr",
     "output_type": "stream",
     "text": [
      "                                                                                         \r"
     ]
    },
    {
     "name": "stdout",
     "output_type": "stream",
     "text": [
      "Training stopped early at 16 epochs.\n",
      "Training completed in 7m 14s\n",
      "Best validation accuracy: 0.6321\n",
      "Associated train accuracy: 0.6255\n",
      "Associated train loss: 0.9249\n",
      "\n",
      "ITERATION 4\n",
      "model: resnet101, batch_size: 16, epochs: 40\n",
      "adam_lr: 0.0971328678613633, adam_b1: 0.8957795514385078, adam_b2: 0.9951665604997355, adam_wtdecay: 0.42909665513658646\n"
     ]
    },
    {
     "name": "stderr",
     "output_type": "stream",
     "text": [
      "                                                                                        \r"
     ]
    },
    {
     "name": "stdout",
     "output_type": "stream",
     "text": [
      "Training stopped early at 7 epochs.\n",
      "Training completed in 3m 9s\n",
      "Best validation accuracy: 0.5660\n",
      "Associated train accuracy: 0.5314\n",
      "Associated train loss: 1.2828\n",
      "\n",
      "ITERATION 5\n",
      "model: resnet101, batch_size: 24, epochs: 40\n",
      "adam_lr: 0.035996120833856136, adam_b1: 0.900721459932978, adam_b2: 0.9834113873148431, adam_wtdecay: 0.3425492752688689\n"
     ]
    },
    {
     "name": "stderr",
     "output_type": "stream",
     "text": [
      "                                                                                         \r"
     ]
    },
    {
     "name": "stdout",
     "output_type": "stream",
     "text": [
      "Training stopped early at 10 epochs.\n",
      "Training completed in 4m 31s\n",
      "Best validation accuracy: 0.6226\n",
      "Associated train accuracy: 0.6468\n",
      "Associated train loss: 0.9077\n",
      "\n",
      "ITERATION 6\n",
      "model: resnet101, batch_size: 24, epochs: 30\n",
      "adam_lr: 0.0806638439329089, adam_b1: 0.9309792903455527, adam_b2: 0.9875356277951551, adam_wtdecay: 0.979644118890906\n"
     ]
    },
    {
     "name": "stderr",
     "output_type": "stream",
     "text": [
      "                                                                                         \r"
     ]
    },
    {
     "name": "stdout",
     "output_type": "stream",
     "text": [
      "Training stopped early at 16 epochs.\n",
      "Training completed in 7m 14s\n",
      "Best validation accuracy: 0.6509\n",
      "Associated train accuracy: 0.6549\n",
      "Associated train loss: 0.8856\n",
      "\n",
      "ITERATION 7\n",
      "model: resnet101, batch_size: 24, epochs: 30\n",
      "adam_lr: 0.001, adam_b1: 0.99, adam_b2: 0.9999, adam_wtdecay: 0.0\n"
     ]
    },
    {
     "name": "stderr",
     "output_type": "stream",
     "text": [
      "                                                                                        \r"
     ]
    },
    {
     "name": "stdout",
     "output_type": "stream",
     "text": [
      "Training stopped early at 6 epochs.\n",
      "Training completed in 2m 41s\n",
      "Best validation accuracy: 0.5660\n",
      "Associated train accuracy: 0.5162\n",
      "Associated train loss: 1.2445\n",
      "\n",
      "ITERATION 8\n",
      "model: resnet101, batch_size: 24, epochs: 30\n",
      "adam_lr: 0.022009588440568273, adam_b1: 0.984544975026072, adam_b2: 0.9932093063446223, adam_wtdecay: 0.33718412321908864\n"
     ]
    },
    {
     "name": "stderr",
     "output_type": "stream",
     "text": [
      "                                                                                         \r"
     ]
    },
    {
     "name": "stdout",
     "output_type": "stream",
     "text": [
      "Training stopped early at 12 epochs.\n",
      "Training completed in 5m 25s\n",
      "Best validation accuracy: 0.6415\n",
      "Associated train accuracy: 0.6549\n",
      "Associated train loss: 0.8678\n",
      "\n",
      "ITERATION 9\n",
      "model: resnet101, batch_size: 24, epochs: 30\n",
      "adam_lr: 0.021209953775839042, adam_b1: 0.9859764431286673, adam_b2: 0.993638264526538, adam_wtdecay: 0.322742061328839\n"
     ]
    },
    {
     "name": "stderr",
     "output_type": "stream",
     "text": [
      "                                                                                        \r"
     ]
    },
    {
     "name": "stdout",
     "output_type": "stream",
     "text": [
      "Training stopped early at 8 epochs.\n",
      "Training completed in 3m 37s\n",
      "Best validation accuracy: 0.6132\n",
      "Associated train accuracy: 0.6073\n",
      "Associated train loss: 1.0719\n",
      "\n",
      "ITERATION 10\n",
      "model: resnet101, batch_size: 24, epochs: 10\n",
      "adam_lr: 0.03023609742518207, adam_b1: 0.878787043568709, adam_b2: 0.9893832225010742, adam_wtdecay: 0.39663607461874273\n"
     ]
    },
    {
     "name": "stderr",
     "output_type": "stream",
     "text": [
      "                                                                                         \r"
     ]
    },
    {
     "name": "stdout",
     "output_type": "stream",
     "text": [
      "Training completed in 4m 31s\n",
      "Best validation accuracy: 0.6462\n",
      "Associated train accuracy: 0.6630\n",
      "Associated train loss: 0.8273\n",
      "\n",
      "ITERATION 11\n",
      "model: resnet101, batch_size: 16, epochs: 30\n",
      "adam_lr: 0.029425116508911504, adam_b1: 0.806268915936348, adam_b2: 0.9626627077578533, adam_wtdecay: 0.06970573984266148\n"
     ]
    },
    {
     "name": "stderr",
     "output_type": "stream",
     "text": [
      "                                                                                         \r"
     ]
    },
    {
     "name": "stdout",
     "output_type": "stream",
     "text": [
      "Training stopped early at 18 epochs.\n",
      "Training completed in 8m 8s\n",
      "Best validation accuracy: 0.6368\n",
      "Associated train accuracy: 0.6711\n",
      "Associated train loss: 0.8497\n",
      "\n",
      "ITERATION 12\n",
      "model: resnet101, batch_size: 24, epochs: 30\n",
      "adam_lr: 0.03870574954533957, adam_b1: 0.9362372831654139, adam_b2: 0.9744152253827033, adam_wtdecay: 0.6795326110369195\n"
     ]
    },
    {
     "name": "stderr",
     "output_type": "stream",
     "text": [
      "                                                                                         \r"
     ]
    },
    {
     "name": "stdout",
     "output_type": "stream",
     "text": [
      "Training stopped early at 10 epochs.\n",
      "Training completed in 4m 31s\n",
      "Best validation accuracy: 0.6557\n",
      "Associated train accuracy: 0.6457\n",
      "Associated train loss: 0.8919\n",
      "\n",
      "ITERATION 13\n",
      "model: resnet101, batch_size: 48, epochs: 10\n",
      "adam_lr: 0.06153997445366958, adam_b1: 0.8592112734804817, adam_b2: 0.9886359571738756, adam_wtdecay: 0.3905753865348697\n"
     ]
    },
    {
     "name": "stderr",
     "output_type": "stream",
     "text": [
      "                                                                                         \r"
     ]
    },
    {
     "name": "stdout",
     "output_type": "stream",
     "text": [
      "Training completed in 4m 31s\n",
      "Best validation accuracy: 0.6038\n",
      "Associated train accuracy: 0.6134\n",
      "Associated train loss: 0.9586\n",
      "\n",
      "ITERATION 14\n",
      "model: resnet101, batch_size: 32, epochs: 40\n",
      "adam_lr: 0.06918287133697383, adam_b1: 0.8235463646306508, adam_b2: 0.957989500490373, adam_wtdecay: 0.130669790403527\n"
     ]
    },
    {
     "name": "stderr",
     "output_type": "stream",
     "text": [
      "                                                                                        \r"
     ]
    },
    {
     "name": "stdout",
     "output_type": "stream",
     "text": [
      "Training stopped early at 7 epochs.\n",
      "Training completed in 3m 9s\n",
      "Best validation accuracy: 0.5849\n",
      "Associated train accuracy: 0.5668\n",
      "Associated train loss: 1.1656\n",
      "\n",
      "ITERATION 15\n",
      "model: resnet101, batch_size: 64, epochs: 20\n",
      "adam_lr: 0.0809030299068771, adam_b1: 0.916948820127125, adam_b2: 0.9951154589848472, adam_wtdecay: 0.05987786855417032\n"
     ]
    },
    {
     "name": "stderr",
     "output_type": "stream",
     "text": [
      "                                                                                        \r"
     ]
    },
    {
     "name": "stdout",
     "output_type": "stream",
     "text": [
      "Training stopped early at 7 epochs.\n",
      "Training completed in 3m 9s\n",
      "Best validation accuracy: 0.5660\n",
      "Associated train accuracy: 0.5668\n",
      "Associated train loss: 1.1602\n"
     ]
    },
    {
     "data": {
      "image/png": "[encoded data removed]",
      "text/plain": [
       "<Figure size 720x360 with 2 Axes>"
      ]
     },
     "metadata": {},
     "output_type": "display_data"
    },
    {
     "data": {
      "text/plain": [
       "0"
      ]
     },
     "execution_count": 6,
     "metadata": {},
     "output_type": "execute_result"
    },
    {
     "data": {
      "text/plain": [
       "0"
      ]
     },
     "execution_count": 6,
     "metadata": {},
     "output_type": "execute_result"
    },
    {
     "data": {
      "text/plain": [
       "0"
      ]
     },
     "execution_count": 6,
     "metadata": {},
     "output_type": "execute_result"
    },
    {
     "name": "stdout",
     "output_type": "stream",
     "text": [
      "DATA/DIE_VS_ALL_11\n",
      "\n",
      "ITERATION 1\n",
      "model: senet154, batch_size: 32, epochs: 30\n",
      "adam_lr: 0.042612265509405625, adam_b1: 0.8831312376007808, adam_b2: 0.973154859201475, adam_wtdecay: 0.8165562787177607\n"
     ]
    },
    {
     "name": "stderr",
     "output_type": "stream",
     "text": [
      "                                                                                         \r"
     ]
    },
    {
     "name": "stdout",
     "output_type": "stream",
     "text": [
      "Training stopped early at 10 epochs.\n",
      "Training completed in 23m 3s\n",
      "Best validation accuracy: 0.8915\n",
      "Associated train accuracy: 0.9008\n",
      "Associated train loss: 0.2684\n",
      "\n",
      "ITERATION 2\n",
      "model: senet154, batch_size: 32, epochs: 30\n",
      "adam_lr: 0.06719707599717342, adam_b1: 0.8208254052562843, adam_b2: 0.9965658021945144, adam_wtdecay: 0.05576654725561758\n"
     ]
    },
    {
     "name": "stderr",
     "output_type": "stream",
     "text": [
      "                                                                                         \r"
     ]
    },
    {
     "name": "stdout",
     "output_type": "stream",
     "text": [
      "Training stopped early at 23 epochs.\n",
      "Training completed in 53m 3s\n",
      "Best validation accuracy: 0.8632\n",
      "Associated train accuracy: 0.8219\n",
      "Associated train loss: 0.4039\n",
      "\n",
      "ITERATION 3\n",
      "model: senet154, batch_size: 24, epochs: 10\n",
      "adam_lr: 0.022868343030307905, adam_b1: 0.9174948523173065, adam_b2: 0.971374802372443, adam_wtdecay: 0.23872584116006124\n"
     ]
    },
    {
     "name": "stderr",
     "output_type": "stream",
     "text": [
      "                                                                                         \r"
     ]
    },
    {
     "name": "stdout",
     "output_type": "stream",
     "text": [
      "Training completed in 23m 4s\n",
      "Best validation accuracy: 0.8915\n",
      "Associated train accuracy: 0.8866\n",
      "Associated train loss: 0.2726\n",
      "\n",
      "ITERATION 4\n",
      "model: senet154, batch_size: 32, epochs: 30\n",
      "adam_lr: 0.08007514198293846, adam_b1: 0.9290063645581547, adam_b2: 0.995874151807696, adam_wtdecay: 0.31411364844329404\n"
     ]
    },
    {
     "name": "stderr",
     "output_type": "stream",
     "text": [
      "                                                                                         \r"
     ]
    },
    {
     "name": "stdout",
     "output_type": "stream",
     "text": [
      "Training stopped early at 12 epochs.\n",
      "Training completed in 27m 41s\n",
      "Best validation accuracy: 0.8632\n",
      "Associated train accuracy: 0.8360\n",
      "Associated train loss: 0.3896\n",
      "\n",
      "ITERATION 5\n",
      "model: senet154, batch_size: 16, epochs: 30\n",
      "adam_lr: 0.04359046829937102, adam_b1: 0.9486373096395895, adam_b2: 0.9527355345796862, adam_wtdecay: 0.12133455211841349\n"
     ]
    },
    {
     "name": "stderr",
     "output_type": "stream",
     "text": [
      "                                                                                         \r"
     ]
    },
    {
     "name": "stdout",
     "output_type": "stream",
     "text": [
      "Training stopped early at 18 epochs.\n",
      "Training completed in 41m 31s\n",
      "Best validation accuracy: 0.8255\n",
      "Associated train accuracy: 0.7905\n",
      "Associated train loss: 0.4597\n",
      "\n",
      "ITERATION 6\n",
      "model: senet154, batch_size: 32, epochs: 30\n",
      "adam_lr: 0.001, adam_b1: 0.8, adam_b2: 0.95, adam_wtdecay: 1.0\n"
     ]
    },
    {
     "name": "stderr",
     "output_type": "stream",
     "text": [
      "                                                                                         \r"
     ]
    },
    {
     "name": "stdout",
     "output_type": "stream",
     "text": [
      "Training stopped early at 12 epochs.\n",
      "Training completed in 27m 35s\n",
      "Best validation accuracy: 0.9057\n",
      "Associated train accuracy: 0.8532\n",
      "Associated train loss: 0.3331\n",
      "\n",
      "ITERATION 7\n",
      "model: senet154, batch_size: 16, epochs: 10\n",
      "adam_lr: 0.014622539634994075, adam_b1: 0.8889506404596013, adam_b2: 0.9646436643137063, adam_wtdecay: 0.2454566891980582\n"
     ]
    },
    {
     "name": "stderr",
     "output_type": "stream",
     "text": [
      "                                                                                         \r"
     ]
    },
    {
     "name": "stdout",
     "output_type": "stream",
     "text": [
      "Training completed in 23m 3s\n",
      "Best validation accuracy: 0.9057\n",
      "Associated train accuracy: 0.8826\n",
      "Associated train loss: 0.2875\n",
      "\n",
      "ITERATION 8\n",
      "model: senet154, batch_size: 16, epochs: 10\n",
      "adam_lr: 0.1, adam_b1: 0.99, adam_b2: 0.9999, adam_wtdecay: 1.0\n"
     ]
    },
    {
     "name": "stderr",
     "output_type": "stream",
     "text": [
      "                                                                                         \r"
     ]
    },
    {
     "name": "stdout",
     "output_type": "stream",
     "text": [
      "Training completed in 23m 3s\n",
      "Best validation accuracy: 0.9151\n",
      "Associated train accuracy: 0.8907\n",
      "Associated train loss: 0.2613\n",
      "\n",
      "ITERATION 9\n",
      "model: senet154, batch_size: 32, epochs: 10\n",
      "adam_lr: 0.04158872415282812, adam_b1: 0.884582632332992, adam_b2: 0.9680447708586629, adam_wtdecay: 0.2655604953292896\n"
     ]
    },
    {
     "name": "stderr",
     "output_type": "stream",
     "text": [
      "                                                                                         \r"
     ]
    },
    {
     "name": "stdout",
     "output_type": "stream",
     "text": [
      "Training completed in 23m 4s\n",
      "Best validation accuracy: 0.9009\n",
      "Associated train accuracy: 0.8482\n",
      "Associated train loss: 0.3742\n",
      "\n",
      "ITERATION 10\n",
      "model: senet154, batch_size: 32, epochs: 20\n",
      "adam_lr: 0.007408694831047764, adam_b1: 0.9359435746815885, adam_b2: 0.9554470352519345, adam_wtdecay: 0.9682849935557133\n"
     ]
    },
    {
     "name": "stderr",
     "output_type": "stream",
     "text": [
      "                                                                                         \r"
     ]
    },
    {
     "name": "stdout",
     "output_type": "stream",
     "text": [
      "Training stopped early at 17 epochs.\n",
      "Training completed in 39m 11s\n",
      "Best validation accuracy: 0.9387\n",
      "Associated train accuracy: 0.9372\n",
      "Associated train loss: 0.1782\n",
      "\n",
      "ITERATION 11\n",
      "model: senet154, batch_size: 32, epochs: 20\n",
      "adam_lr: 0.0766712115750438, adam_b1: 0.8, adam_b2: 0.9521922457046564, adam_wtdecay: 0.2516230384198813\n"
     ]
    },
    {
     "name": "stderr",
     "output_type": "stream",
     "text": [
      "                                                                                         \r"
     ]
    },
    {
     "name": "stdout",
     "output_type": "stream",
     "text": [
      "Training stopped early at 19 epochs.\n",
      "Training completed in 43m 49s\n",
      "Best validation accuracy: 0.8349\n",
      "Associated train accuracy: 0.8016\n",
      "Associated train loss: 0.4432\n",
      "\n",
      "ITERATION 12\n",
      "model: senet154, batch_size: 32, epochs: 20\n",
      "adam_lr: 0.1, adam_b1: 0.8, adam_b2: 0.9999, adam_wtdecay: 1.0\n"
     ]
    },
    {
     "name": "stderr",
     "output_type": "stream",
     "text": [
      "                                                                                         \r"
     ]
    },
    {
     "name": "stdout",
     "output_type": "stream",
     "text": [
      "Training stopped early at 12 epochs.\n",
      "Training completed in 27m 38s\n",
      "Best validation accuracy: 0.9198\n",
      "Associated train accuracy: 0.8877\n",
      "Associated train loss: 0.2648\n",
      "\n",
      "ITERATION 13\n",
      "model: senet154, batch_size: 32, epochs: 20\n",
      "adam_lr: 0.001, adam_b1: 0.99, adam_b2: 0.9999, adam_wtdecay: 1.0\n"
     ]
    },
    {
     "name": "stderr",
     "output_type": "stream",
     "text": [
      "                                                                                         \r"
     ]
    },
    {
     "name": "stdout",
     "output_type": "stream",
     "text": [
      "Training completed in 46m 8s\n",
      "Best validation accuracy: 0.9057\n",
      "Associated train accuracy: 0.8664\n",
      "Associated train loss: 0.3175\n",
      "\n",
      "ITERATION 14\n",
      "model: senet154, batch_size: 32, epochs: 20\n",
      "adam_lr: 0.001, adam_b1: 0.8397552251199872, adam_b2: 0.95, adam_wtdecay: 1.0\n"
     ]
    },
    {
     "name": "stderr",
     "output_type": "stream",
     "text": [
      "                                                                                         \r"
     ]
    },
    {
     "name": "stdout",
     "output_type": "stream",
     "text": [
      "Training stopped early at 15 epochs.\n",
      "Training completed in 34m 37s\n",
      "Best validation accuracy: 0.9104\n",
      "Associated train accuracy: 0.8522\n",
      "Associated train loss: 0.3200\n",
      "\n",
      "ITERATION 15\n",
      "model: senet154, batch_size: 32, epochs: 20\n",
      "adam_lr: 0.1, adam_b1: 0.9346311161718492, adam_b2: 0.95, adam_wtdecay: 1.0\n"
     ]
    },
    {
     "name": "stderr",
     "output_type": "stream",
     "text": [
      "                                                                                         \r"
     ]
    },
    {
     "name": "stdout",
     "output_type": "stream",
     "text": [
      "Training stopped early at 12 epochs.\n",
      "Training completed in 27m 38s\n",
      "Best validation accuracy: 0.8585\n",
      "Associated train accuracy: 0.8117\n",
      "Associated train loss: 0.4239\n"
     ]
    },
    {
     "data": {
      "image/png": "[encoded data removed]",
      "text/plain": [
       "<Figure size 720x360 with 2 Axes>"
      ]
     },
     "metadata": {},
     "output_type": "display_data"
    },
    {
     "data": {
      "text/plain": [
       "0"
      ]
     },
     "execution_count": 6,
     "metadata": {},
     "output_type": "execute_result"
    },
    {
     "data": {
      "text/plain": [
       "0"
      ]
     },
     "execution_count": 6,
     "metadata": {},
     "output_type": "execute_result"
    },
    {
     "data": {
      "text/plain": [
       "0"
      ]
     },
     "execution_count": 6,
     "metadata": {},
     "output_type": "execute_result"
    },
    {
     "name": "stdout",
     "output_type": "stream",
     "text": [
      "DATA/4_CLASS_11\n",
      "\n",
      "ITERATION 1\n",
      "model: senet154, batch_size: 64, epochs: 10\n",
      "adam_lr: 0.010175212291049292, adam_b1: 0.8983341666133667, adam_b2: 0.9599585675837361, adam_wtdecay: 0.09336680232990613\n"
     ]
    },
    {
     "name": "stderr",
     "output_type": "stream",
     "text": [
      "                                                                                         \r"
     ]
    },
    {
     "name": "stdout",
     "output_type": "stream",
     "text": [
      "Training completed in 23m 3s\n",
      "Best validation accuracy: 0.6840\n",
      "Associated train accuracy: 0.7277\n",
      "Associated train loss: 0.6835\n",
      "\n",
      "ITERATION 2\n",
      "model: senet154, batch_size: 24, epochs: 30\n",
      "adam_lr: 0.06889896008374176, adam_b1: 0.8242115776914478, adam_b2: 0.9744249025263858, adam_wtdecay: 0.8065762220587628\n"
     ]
    },
    {
     "name": "stderr",
     "output_type": "stream",
     "text": [
      "                                                                                         \r"
     ]
    },
    {
     "name": "stdout",
     "output_type": "stream",
     "text": [
      "Training stopped early at 12 epochs.\n",
      "Training completed in 27m 36s\n",
      "Best validation accuracy: 0.7500\n",
      "Associated train accuracy: 0.7540\n",
      "Associated train loss: 0.6355\n",
      "\n",
      "ITERATION 3\n",
      "model: senet154, batch_size: 48, epochs: 30\n",
      "adam_lr: 0.006484825127102757, adam_b1: 0.821935559613404, adam_b2: 0.9870509775851591, adam_wtdecay: 0.2757040997992951\n"
     ]
    },
    {
     "name": "stderr",
     "output_type": "stream",
     "text": [
      "                                                                                        \r"
     ]
    },
    {
     "name": "stdout",
     "output_type": "stream",
     "text": [
      "Training stopped early at 8 epochs.\n",
      "Training completed in 18m 27s\n",
      "Best validation accuracy: 0.7783\n",
      "Associated train accuracy: 0.7591\n",
      "Associated train loss: 0.6436\n",
      "\n",
      "ITERATION 4\n",
      "model: senet154, batch_size: 16, epochs: 10\n",
      "adam_lr: 0.07648547324227238, adam_b1: 0.8191328312244931, adam_b2: 0.9963444323170697, adam_wtdecay: 0.454171500997679\n"
     ]
    },
    {
     "name": "stderr",
     "output_type": "stream",
     "text": [
      "                                                                                         \r"
     ]
    },
    {
     "name": "stdout",
     "output_type": "stream",
     "text": [
      "Training completed in 22m 57s\n",
      "Best validation accuracy: 0.7358\n",
      "Associated train accuracy: 0.7105\n",
      "Associated train loss: 0.7266\n",
      "\n",
      "ITERATION 5\n",
      "model: senet154, batch_size: 24, epochs: 30\n",
      "adam_lr: 0.04519084272508491, adam_b1: 0.8037265567240028, adam_b2: 0.9847966028099092, adam_wtdecay: 0.2717269235667975\n"
     ]
    },
    {
     "name": "stderr",
     "output_type": "stream",
     "text": [
      "                                                                                        \r"
     ]
    },
    {
     "name": "stdout",
     "output_type": "stream",
     "text": [
      "Training stopped early at 8 epochs.\n",
      "Training completed in 18m 18s\n",
      "Best validation accuracy: 0.6462\n",
      "Associated train accuracy: 0.6559\n",
      "Associated train loss: 0.8820\n",
      "\n",
      "ITERATION 6\n",
      "model: senet154, batch_size: 48, epochs: 30\n",
      "adam_lr: 0.03597045910453349, adam_b1: 0.8266961591386691, adam_b2: 0.9863608442581743, adam_wtdecay: 0.2735024974460774\n"
     ]
    },
    {
     "name": "stderr",
     "output_type": "stream",
     "text": [
      "                                                                                         \r"
     ]
    },
    {
     "name": "stdout",
     "output_type": "stream",
     "text": [
      "Training stopped early at 14 epochs.\n",
      "Training completed in 32m 9s\n",
      "Best validation accuracy: 0.7358\n",
      "Associated train accuracy: 0.7824\n",
      "Associated train loss: 0.5939\n",
      "\n",
      "ITERATION 7\n",
      "model: senet154, batch_size: 48, epochs: 30\n",
      "adam_lr: 0.001, adam_b1: 0.8068543839227219, adam_b2: 0.9892372237429939, adam_wtdecay: 0.2826785943858816\n"
     ]
    },
    {
     "name": "stderr",
     "output_type": "stream",
     "text": [
      "                                                                                         \r"
     ]
    },
    {
     "name": "stdout",
     "output_type": "stream",
     "text": [
      "Training stopped early at 12 epochs.\n",
      "Training completed in 27m 33s\n",
      "Best validation accuracy: 0.7783\n",
      "Associated train accuracy: 0.7743\n",
      "Associated train loss: 0.5853\n",
      "\n",
      "ITERATION 8\n",
      "model: senet154, batch_size: 48, epochs: 30\n",
      "adam_lr: 0.001, adam_b1: 0.8341129842608951, adam_b2: 0.9887712890528453, adam_wtdecay: 0.30198170718239314\n"
     ]
    },
    {
     "name": "stderr",
     "output_type": "stream",
     "text": [
      "                                                                                         \r"
     ]
    },
    {
     "name": "stdout",
     "output_type": "stream",
     "text": [
      "Training stopped early at 17 epochs.\n",
      "Training completed in 39m 11s\n",
      "Best validation accuracy: 0.7830\n",
      "Associated train accuracy: 0.7986\n",
      "Associated train loss: 0.5048\n",
      "\n",
      "ITERATION 9\n",
      "model: senet154, batch_size: 48, epochs: 30\n",
      "adam_lr: 0.001, adam_b1: 0.8777970733236836, adam_b2: 0.9999, adam_wtdecay: 0.274181793931091\n"
     ]
    },
    {
     "name": "stderr",
     "output_type": "stream",
     "text": [
      "                                                                                         \r"
     ]
    },
    {
     "name": "stdout",
     "output_type": "stream",
     "text": [
      "Training stopped early at 29 epochs.\n",
      "Training completed in 66m 53s\n",
      "Best validation accuracy: 0.8066\n",
      "Associated train accuracy: 0.8370\n",
      "Associated train loss: 0.4483\n",
      "\n",
      "ITERATION 10\n",
      "model: senet154, batch_size: 48, epochs: 30\n",
      "adam_lr: 0.001, adam_b1: 0.9413952567509075, adam_b2: 0.9999, adam_wtdecay: 0.2488696733906589\n"
     ]
    },
    {
     "name": "stderr",
     "output_type": "stream",
     "text": [
      "                                                                                         \r"
     ]
    },
    {
     "name": "stdout",
     "output_type": "stream",
     "text": [
      "Training stopped early at 22 epochs.\n",
      "Training completed in 50m 48s\n",
      "Best validation accuracy: 0.8019\n",
      "Associated train accuracy: 0.8168\n",
      "Associated train loss: 0.4986\n",
      "\n",
      "ITERATION 11\n",
      "model: senet154, batch_size: 48, epochs: 30\n",
      "adam_lr: 0.001, adam_b1: 0.8906532613851593, adam_b2: 0.9999, adam_wtdecay: 0.17704240385380646\n"
     ]
    },
    {
     "name": "stderr",
     "output_type": "stream",
     "text": [
      "                                                                                         \r"
     ]
    },
    {
     "name": "stdout",
     "output_type": "stream",
     "text": [
      "Training stopped early at 24 epochs.\n",
      "Training completed in 55m 23s\n",
      "Best validation accuracy: 0.7972\n",
      "Associated train accuracy: 0.8128\n",
      "Associated train loss: 0.4692\n",
      "\n",
      "ITERATION 12\n",
      "model: senet154, batch_size: 24, epochs: 20\n",
      "adam_lr: 0.04288559570228402, adam_b1: 0.8555517383182444, adam_b2: 0.9882918982795994, adam_wtdecay: 0.6774852412835175\n"
     ]
    },
    {
     "name": "stderr",
     "output_type": "stream",
     "text": [
      "                                                                                         \r"
     ]
    },
    {
     "name": "stdout",
     "output_type": "stream",
     "text": [
      "Training stopped early at 15 epochs.\n",
      "Training completed in 34m 37s\n",
      "Best validation accuracy: 0.7783\n",
      "Associated train accuracy: 0.8016\n",
      "Associated train loss: 0.5047\n",
      "\n",
      "ITERATION 13\n",
      "model: senet154, batch_size: 48, epochs: 30\n",
      "adam_lr: 0.001, adam_b1: 0.99, adam_b2: 0.9999, adam_wtdecay: 0.37414798833694624\n"
     ]
    },
    {
     "name": "stderr",
     "output_type": "stream",
     "text": [
      "                                                                                         \r"
     ]
    },
    {
     "name": "stdout",
     "output_type": "stream",
     "text": [
      "Training stopped early at 21 epochs.\n",
      "Training completed in 48m 26s\n",
      "Best validation accuracy: 0.7877\n",
      "Associated train accuracy: 0.8107\n",
      "Associated train loss: 0.5250\n",
      "\n",
      "ITERATION 14\n",
      "model: senet154, batch_size: 24, epochs: 20\n",
      "adam_lr: 0.07514381863511345, adam_b1: 0.9508035589327176, adam_b2: 0.979938302099346, adam_wtdecay: 0.842933295954754\n"
     ]
    },
    {
     "name": "stderr",
     "output_type": "stream",
     "text": [
      "                                                                                         \r"
     ]
    },
    {
     "name": "stdout",
     "output_type": "stream",
     "text": [
      "Training stopped early at 17 epochs.\n",
      "Training completed in 39m 16s\n",
      "Best validation accuracy: 0.7264\n",
      "Associated train accuracy: 0.7783\n",
      "Associated train loss: 0.5494\n",
      "\n",
      "ITERATION 15\n",
      "model: senet154, batch_size: 48, epochs: 30\n",
      "adam_lr: 0.001, adam_b1: 0.99, adam_b2: 0.9999, adam_wtdecay: 0.08012626567109343\n"
     ]
    },
    {
     "name": "stderr",
     "output_type": "stream",
     "text": [
      "                                                                                         \r"
     ]
    },
    {
     "name": "stdout",
     "output_type": "stream",
     "text": [
      "Training stopped early at 21 epochs.\n",
      "Training completed in 48m 27s\n",
      "Best validation accuracy: 0.8066\n",
      "Associated train accuracy: 0.8441\n",
      "Associated train loss: 0.4106\n"
     ]
    },
    {
     "data": {
      "image/png": "[encoded data removed]",
      "text/plain": [
       "<Figure size 720x360 with 2 Axes>"
      ]
     },
     "metadata": {},
     "output_type": "display_data"
    },
    {
     "data": {
      "text/plain": [
       "0"
      ]
     },
     "execution_count": 6,
     "metadata": {},
     "output_type": "execute_result"
    },
    {
     "data": {
      "text/plain": [
       "0"
      ]
     },
     "execution_count": 6,
     "metadata": {},
     "output_type": "execute_result"
    },
    {
     "data": {
      "text/plain": [
       "0"
      ]
     },
     "execution_count": 6,
     "metadata": {},
     "output_type": "execute_result"
    }
   ],
   "source": [
    "from GPyOpt.methods import BayesianOptimization\n",
    "import subprocess\n",
    "import sys\n",
    "sys.setrecursionlimit(1500)\n",
    "\n",
    "for i in range(len(models)):\n",
    "    model_num = i\n",
    "    for data_index, datadir in enumerate(('data/die_vs_all_11', 'data/4_class_11')):\n",
    "        global iteration\n",
    "        iteration = 0  # reset to 0\n",
    "        \n",
    "        DATA_DIR = datadir\n",
    "        print(datadir.upper())\n",
    "        NUM_CLASSES = 2 * (data_index+1)\n",
    "    \n",
    "        try:\n",
    "            problem = BayesianOptimization(\n",
    "                f=f,\n",
    "                domain=domain\n",
    "            )\n",
    "            problem.run_optimization(max_iter=10)\n",
    "            problem.plot_acquisition()\n",
    "            problem.plot_convergence()\n",
    "        \n",
    "        except Exception as e:\n",
    "            print('Skipping because', e)\n",
    "#             import traceback\n",
    "#             traceback.print_exc()\n",
    "            continue\n",
    "            \n",
    "        # commit & push only if we can connect to internet\n",
    "        subprocess.check_call(['git', 'add', 'experiments'])\n",
    "        subprocess.check_call(['git', 'commit', '-am', f'Results from {str(models[i]).split()[1]} {datadir}'])\n",
    "        subprocess.check_call(['git', 'push'])"
   ]
  },
  {
   "cell_type": "code",
   "execution_count": 9,
   "metadata": {},
   "outputs": [
    {
     "data": {
      "text/plain": [
       "0"
      ]
     },
     "execution_count": 9,
     "metadata": {},
     "output_type": "execute_result"
    },
    {
     "data": {
      "text/plain": [
       "0"
      ]
     },
     "execution_count": 9,
     "metadata": {},
     "output_type": "execute_result"
    },
    {
     "data": {
      "text/plain": [
       "0"
      ]
     },
     "execution_count": 9,
     "metadata": {},
     "output_type": "execute_result"
    }
   ],
   "source": [
    "subprocess.check_call([\"spd-say\", \"Your code has finished running\"])\n",
    "subprocess.check_call(['git', 'commit', '-am', \"BO final commit\"])\n",
    "subprocess.check_call(['git', 'push'])\n"
   ]
  },
  {
   "cell_type": "code",
   "execution_count": null,
   "metadata": {},
   "outputs": [],
   "source": []
  }
 ],
 "metadata": {
  "kernelspec": {
   "display_name": "Python 3",
   "language": "python",
   "name": "python3"
  },
  "language_info": {
   "codemirror_mode": {
    "name": "ipython",
    "version": 3
   },
   "file_extension": ".py",
   "mimetype": "text/x-python",
   "name": "python",
   "nbconvert_exporter": "python",
   "pygments_lexer": "ipython3",
   "version": "3.6.6"
  }
 },
 "nbformat": 4,
 "nbformat_minor": 2
}
