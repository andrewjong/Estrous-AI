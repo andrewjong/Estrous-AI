{
 "cells": [
  {
   "cell_type": "markdown",
   "metadata": {},
   "source": [
    "# Constants and Setup"
   ]
  },
  {
   "cell_type": "code",
   "execution_count": 1,
   "metadata": {},
   "outputs": [],
   "source": [
    "import os\n",
    "\n",
    "# whether to commit and push to git after each optimization. intended for long runs\n",
    "PUSH_TO_GIT = True\n",
    "\n",
    "# parent output directory\n",
    "EXPERIMENTS_DIR = os.path.join(\"experiments\", \"bayes_opt_2\")"
   ]
  },
  {
   "cell_type": "markdown",
   "metadata": {},
   "source": [
    "Bayesian Optimization and train parameters"
   ]
  },
  {
   "cell_type": "code",
   "execution_count": 2,
   "metadata": {},
   "outputs": [],
   "source": [
    "MAX_ITERATIONS = 10     # max iterations for bayesian optimization\n",
    "\n",
    "NUM_TRAIN_EPOCHS = 50   # total number of epochs tot rain for\n",
    "EARLY_STOP = 6          # give up training if validation accuracy doesn't improve after this many epochs"
   ]
  },
  {
   "cell_type": "markdown",
   "metadata": {},
   "source": [
    "Optimizer to use. Choose by commenting. Supposedly by Wilson et al. 2018, SGD generalizes better."
   ]
  },
  {
   "cell_type": "code",
   "execution_count": 3,
   "metadata": {},
   "outputs": [],
   "source": [
    "import torch.optim as optim\n",
    "\n",
    "OPTIMIZERS = (\n",
    "    optim.Adam,\n",
    "    optim.SGD,\n",
    ")"
   ]
  },
  {
   "cell_type": "markdown",
   "metadata": {},
   "source": [
    "Models to test for BO. All in the list will be optimized."
   ]
  },
  {
   "cell_type": "code",
   "execution_count": 4,
   "metadata": {},
   "outputs": [],
   "source": [
    "from torchvision import models as tvm\n",
    "import pretrainedmodels as ptm\n",
    "\n",
    "# The models we will test\n",
    "MODELS = (\n",
    "#     ptm.alexnet, # gets maximum recursion limit exceeded exceptions\n",
    "#     se_resnext101_32x4d, # input size doesn't work\n",
    "    ptm.nasnetamobile,\n",
    "    ptm.se_resnet50,\n",
    "    ptm.se_resnet101,\n",
    "    ptm.inceptionresnetv2,\n",
    "    ptm.inceptionv4,\n",
    "    tvm.resnet101,\n",
    "    tvm.resnet152,\n",
    "    ptm.senet154,\n",
    "    ptm.pnasnet5large,  # CUDA out of memory errors. only works batch_size <= 12\n",
    "    ptm.polynet,  # CUDA out of memory. only works batch_size <= 16\n",
    "    ptm.nasnetalarge, # only works batch_size <= 12\n",
    "    ptm.vgg16,\n",
    "    ptm.vgg19,\n",
    ")\n",
    "\n",
    "REQUIRES_SMALL_BATCH = {ptm.pnasnet5large, ptm.polynet, ptm.nasnetalarge}"
   ]
  },
  {
   "cell_type": "markdown",
   "metadata": {},
   "source": [
    "Setup: Make sure Jupyter shows all output"
   ]
  },
  {
   "cell_type": "code",
   "execution_count": 5,
   "metadata": {
    "scrolled": true
   },
   "outputs": [
    {
     "data": {
      "text/html": [
       "<style>.container { width: 100% !important; }</style>"
      ],
      "text/plain": [
       "<IPython.core.display.HTML object>"
      ]
     },
     "metadata": {},
     "output_type": "display_data"
    }
   ],
   "source": [
    "# show more than one output in cell\n",
    "from IPython.core.interactiveshell import InteractiveShell\n",
    "InteractiveShell.ast_node_interactivity = \"all\"\n",
    "# display full width\n",
    "from IPython.core.display import display, HTML\n",
    "display(HTML(\"<style>.container { width: 100% !important; }</style>\"))\n",
    "\n",
    "# plot charts in our notebook\n",
    "%matplotlib inline\n",
    "\n",
    "import subprocess  # for command line control, git\n",
    "import sys\n",
    "sys.setrecursionlimit(3000) # for some reason AlexNet requires more recursive depth"
   ]
  },
  {
   "cell_type": "markdown",
   "metadata": {},
   "source": [
    "## Helper Functions"
   ]
  },
  {
   "cell_type": "code",
   "execution_count": 6,
   "metadata": {
    "scrolled": true
   },
   "outputs": [],
   "source": [
    "import src.utils as utils\n",
    "from src.trainable import Trainable\n",
    "import torch\n",
    "\n",
    "\n",
    "CRITERION = torch.nn.CrossEntropyLoss() # we'll always use CE for the loss function\n",
    " \n",
    "\n",
    "def train(params, is_best=False):\n",
    "    \"\"\"\n",
    "    Set up a trainable and train it using the given parameters.\n",
    "    \"\"\"\n",
    "    global iteration\n",
    "    iteration += 1\n",
    "    print('Iteration', iteration if not is_best else \"BEST\", end=', ')\n",
    "    print(params_to_meta_dict(params))  # print the input\n",
    "    batch_size, lr_factor, optim_params = parse_train_params(params)\n",
    "    \n",
    "    # make an output directory using the dataset name, model name, and BO iteration\n",
    "    outdir = make_outdir_name(\n",
    "        data_dir, \n",
    "        utils.get_model_name(chosen_model), \n",
    "        chosen_optimizer.__name__,\n",
    "        str(iteration) if not is_best else \"BEST\",\n",
    "        prepend=EXPERIMENTS_DIR\n",
    "    )\n",
    "    \n",
    "    # make our data loaders based on the image size\n",
    "    image_size = utils.determine_image_size(utils.get_model_name(chosen_model))\n",
    "    # get_train_val_dataloaders() makes a stratified random partitions of a train and validation set\n",
    "    dataloaders = utils.get_train_val_dataloaders(\n",
    "        datadir=data_dir,\n",
    "        val_proportion=0.15,\n",
    "        image_size=image_size, \n",
    "        batch_size=batch_size\n",
    "    )\n",
    "    # build our model\n",
    "    model = build_model(chosen_model)\n",
    "    utils.fit_model_last_to_dataset(model, dataloaders['train'].dataset)\n",
    "    # build the optimizer\n",
    "    optimizer = chosen_optimizer(model.parameters(), *optim_params)\n",
    "    # \"ReduceOnPlateau\" is \"dev-decay\" as recommended by Wilson et al. 2018 \n",
    "    # \"The Marginal Value of Adaptive Gradient Methods\"\n",
    "    lr_scheduler = torch.optim.lr_scheduler.ReduceLROnPlateau(\n",
    "        optimizer, \n",
    "        mode='max', \n",
    "        factor=lr_factor, \n",
    "        patience=1\n",
    "    )\n",
    "    \n",
    "    trainable = Trainable(dataloaders, model, CRITERION, optimizer, lr_scheduler, outdir=outdir)\n",
    "    early_stop = None if is_best else EARLY_STOP  # only early stop if BO. else if training our best, do the full thing\n",
    "    trainable.train(num_epochs=NUM_TRAIN_EPOCHS, early_stop_limit=early_stop, verbose=False)\n",
    "\n",
    "    return trainable\n",
    "\n",
    "\n",
    "def parse_train_params(params):\n",
    "    \"\"\"\n",
    "    Parses train parameters by converting batch size to an int, and the betas to a tuple for Adam.\n",
    "    \"\"\"\n",
    "    batch_size, lr_factor, optim_params = int(params[0]), params[1], params[2:]\n",
    "    if chosen_optimizer is torch.optim.Adam:  # turn b1 and b2 into a tuple\n",
    "        # NOTE the below indexes are based on purely ADAM_DOMAin\n",
    "        optim_params = (optim_params[0], tuple(optim_params[1:3]), optim_params[3])\n",
    "#         print('OPTIM_PARAMS', optim_params)\n",
    "    return batch_size, lr_factor, optim_params\n",
    "\n",
    "    \n",
    "def build_model(model_fn):\n",
    "    \"\"\"\n",
    "    Build a pretrained model class from a model function. Passes \n",
    "    in the appropriate pretrained arg based on the model function's \n",
    "    parent module.\n",
    "    \"\"\"\n",
    "    if 'pretrainedmodels' in model_fn.__module__:\n",
    "        model = model_fn(num_classes=1000, pretrained='imagenet')\n",
    "    else:\n",
    "        model = model_fn(pretrained=True)\n",
    "    return model\n",
    "\n",
    "\n",
    "def make_key_from_params(params):\n",
    "    \"\"\"\n",
    "    Makes a unique key (as a tuple) from a given list of parameters.\n",
    "    For storing associated Trainable objects.\n",
    "    \n",
    "    \"\"\"\n",
    "    return tuple(round(param, 10) for param in params)\n",
    "\n",
    "\n",
    "def make_outdir_name(data_dir, *append, prepend=\"\"):\n",
    "    \"\"\"\n",
    "    Make the output directory name based on dataset, model name, and any extra info.\n",
    "    \"\"\"\n",
    "    dataset_name = os.path.basename(data_dir)\n",
    "    return os.path.join(prepend, dataset_name, *append) \n"
   ]
  },
  {
   "cell_type": "code",
   "execution_count": 7,
   "metadata": {},
   "outputs": [],
   "source": [
    "from IPython.display import Javascript\n",
    "\n",
    "script = '''\n",
    "require([\"base/js/namespace\"],function(Jupyter) {\n",
    "    Jupyter.notebook.save_checkpoint();\n",
    "});\n",
    "'''\n",
    "def save_notebook():\n",
    "    \"\"\"Save the Jupyter notebook\"\"\"\n",
    "    Javascript(script)\n",
    "\n",
    "def push_to_git(message=\"Commit\"):\n",
    "    save_notebook()\n",
    "    try:\n",
    "        _ = subprocess.check_call(['git', 'add', '-u'])\n",
    "        _ = subprocess.check_call(['git', 'add', EXPERIMENTS_DIR])\n",
    "        _ = subprocess.check_call(['git', 'commit', '-am', message])\n",
    "        _ = subprocess.check_call(['git', 'push'])\n",
    "    except Error as e:\n",
    "        print(\"ERROR: Could not push to git.\", e)"
   ]
  },
  {
   "cell_type": "markdown",
   "metadata": {},
   "source": [
    "# Bayesian Optimization"
   ]
  },
  {
   "cell_type": "markdown",
   "metadata": {},
   "source": [
    "## Define the Problem"
   ]
  },
  {
   "cell_type": "markdown",
   "metadata": {},
   "source": [
    "### Domain"
   ]
  },
  {
   "cell_type": "code",
   "execution_count": 8,
   "metadata": {
    "scrolled": true
   },
   "outputs": [],
   "source": [
    "SMALL_BATCH = (1, 4, 8, 12)\n",
    "MEDIUM_BATCH = (16, 24, 32, 48, 64)\n",
    "\n",
    "BASE_DOMAIN = [\n",
    "#     {'name': 'batch_size', 'type': 'discrete', 'domain': (1, 4, 8, 12)},  # DEBUG for GPUs with insufficient memory\n",
    "    {'name': 'batch_size', 'type': 'discrete', 'domain': MEDIUM_BATCH},\n",
    "    {'name': 'lr_decay', 'type': 'continuous', 'domain': (0.03, 0.3)},\n",
    "]\n",
    "\n",
    "ADAM_DOMAIN = BASE_DOMAIN + [\n",
    "    {'name': 'adam_lr', 'type': 'continuous', 'domain': (0.001, 0.1)},\n",
    "    {'name': 'adam_beta1', 'type': 'continuous', 'domain': (0.8, .99)},\n",
    "    {'name': 'adam_beta2', 'type': 'continuous', 'domain': (0.95, .9999)},\n",
    "    {'name': 'adam_wtdecay', 'type': 'continuous', 'domain': (0, 1)}\n",
    "]\n",
    "# TODO: have to figure out how to set a starting default\n",
    "# default_input = [32, 0.001, 0.9, 0.999, 0] \n",
    "\n",
    "SGD_DOMAIN = BASE_DOMAIN + [\n",
    "    {'name': 'lr', 'type': 'continuous', 'domain': (0.001, 0.1)},\n",
    "    {'name': 'momentum', 'type': 'continuous', 'domain': (0.5, .99)},\n",
    "    {'name': 'weight_decay', 'type': 'continuous', 'domain': (0, 1)}\n",
    "]"
   ]
  },
  {
   "cell_type": "markdown",
   "metadata": {},
   "source": [
    "### Function to optimize"
   ]
  },
  {
   "cell_type": "code",
   "execution_count": 9,
   "metadata": {},
   "outputs": [],
   "source": [
    "def f(x):\n",
    "    \"\"\" Value function to maximize for bayesian optimization \"\"\"\n",
    "    params = x.flatten()\n",
    "#     print('PARAMS', params)\n",
    "    \n",
    "    trainable = train(params)\n",
    "    val_acc = trainable.best_val_accuracy\n",
    "    \n",
    "    return val_acc"
   ]
  },
  {
   "cell_type": "markdown",
   "metadata": {},
   "source": [
    "## Do BO on all models on both datasets."
   ]
  },
  {
   "cell_type": "code",
   "execution_count": 10,
   "metadata": {},
   "outputs": [],
   "source": [
    "from GPyOpt.methods import BayesianOptimization\n",
    "from predict import create_predictions\n",
    "from metrics import create_all_metrics"
   ]
  },
  {
   "cell_type": "markdown",
   "metadata": {},
   "source": [
    "### BO helper functions"
   ]
  },
  {
   "cell_type": "code",
   "execution_count": 11,
   "metadata": {},
   "outputs": [],
   "source": [
    "def reset_globals(datadir):\n",
    "    \"\"\"\n",
    "    Reset the iteration and set the data directory\n",
    "    \"\"\"\n",
    "    global iteration  # keep track of our optimization iterations for directory output\n",
    "    iteration = 0   # but reset to 0 each train run\n",
    "    global data_dir\n",
    "    data_dir = datadir\n",
    "    \n",
    "\n",
    "def get_domain():\n",
    "    \"\"\"\n",
    "    Get the domain parameters given the chosen optimizer\n",
    "    \"\"\"\n",
    "    domain = ADAM_DOMAIN if chosen_optimizer is torch.optim.Adam else SGD_DOMAIN\n",
    "    # some models are too big to fit on our NVIDIA Quadro P5000 GPU. if the\n",
    "    # chosen model is on eof these, decrease the batch size\n",
    "    if chosen_model in REQUIRES_SMALL_BATCH:\n",
    "        domain[0]['domain'] = SMALL_BATCH  # domain[0] is batch_size\n",
    "        \n",
    "    return domain\n",
    "    \n",
    "def perform_bayesian_optimization():\n",
    "    \"\"\"\n",
    "    Construct the problem and run the optimization.\n",
    "    \"\"\"\n",
    "    domain = get_domain()\n",
    "    problem = BayesianOptimization(\n",
    "        f=f,\n",
    "        domain=domain,\n",
    "        maximize=True\n",
    "    )\n",
    "    problem.run_optimization(max_iter=MAX_ITERATIONS)\n",
    "    return problem\n",
    "\n",
    "def plot_bo_results(problem):\n",
    "    \"\"\"\n",
    "    Graph the acquisition function and convergence\n",
    "    \"\"\"\n",
    "    print('Best params:', problem.x_opt)\n",
    "    problem.plot_acquisition()\n",
    "    problem.plot_convergence()\n",
    "    \n",
    "    \n",
    "def params_to_meta_dict(params):\n",
    "    \"\"\"\n",
    "    Takes a list and returns a dictionary of named parameters based on domain index\n",
    "    \"\"\"\n",
    "    domain = get_domain()\n",
    "    meta = { d['name']: float(params[i]) for i, d in enumerate(domain)}\n",
    "    return meta\n",
    "\n",
    "\n",
    "def generate_test_metrics(trainable):\n",
    "    \"\"\"\n",
    "    Create an itemized predictions file and metrics for the test set.\n",
    "    \"\"\"\n",
    "    predictions_file = create_predictions(\n",
    "        outdir=trainable.outdir,\n",
    "        subset='test',\n",
    "        data_dir=data_dir,\n",
    "        model=best_trainable.model\n",
    "    )\n",
    "    create_all_metrics(predictions_file, trainable.outdir, 'test')"
   ]
  },
  {
   "cell_type": "markdown",
   "metadata": {},
   "source": [
    "### Main loop"
   ]
  },
  {
   "cell_type": "code",
   "execution_count": null,
   "metadata": {
    "scrolled": false
   },
   "outputs": [
    {
     "name": "stdout",
     "output_type": "stream",
     "text": [
      "nasnetamobile Adam data/die_vs_all_tt\n",
      "Iteration 1, {'batch_size': 48.0, 'lr_decay': 0.13606525397353542, 'adam_lr': 0.06531645144718246, 'adam_beta1': 0.8247192391926832, 'adam_beta2': 0.9700064907438666, 'adam_wtdecay': 0.8645788394673907}\n"
     ]
    },
    {
     "name": "stderr",
     "output_type": "stream",
     "text": [
      "                                                                                                              \r"
     ]
    },
    {
     "name": "stdout",
     "output_type": "stream",
     "text": [
      "Training stopped early at 11 epochs.\n",
      "Best validation accuracy: 0.8944; Associated train accuracy: 0.9126\n",
      "Iteration 2, {'batch_size': 16.0, 'lr_decay': 0.11741362142150999, 'adam_lr': 0.00521236652670609, 'adam_beta1': 0.8299715586062101, 'adam_beta2': 0.9995055749425191, 'adam_wtdecay': 0.18602089332358263}\n"
     ]
    },
    {
     "name": "stderr",
     "output_type": "stream",
     "text": [
      "                                                                                                              \r"
     ]
    },
    {
     "name": "stdout",
     "output_type": "stream",
     "text": [
      "Training stopped early at 21 epochs.\n",
      "Best validation accuracy: 0.8222; Associated train accuracy: 0.9145\n",
      "Iteration 3, {'batch_size': 16.0, 'lr_decay': 0.270681415967258, 'adam_lr': 0.06732472645562533, 'adam_beta1': 0.9474761502552853, 'adam_beta2': 0.9938210617577792, 'adam_wtdecay': 0.04335047879108145}\n"
     ]
    },
    {
     "name": "stderr",
     "output_type": "stream",
     "text": [
      "                                                                                                             \r"
     ]
    },
    {
     "name": "stdout",
     "output_type": "stream",
     "text": [
      "Training stopped early at 8 epochs.\n",
      "Best validation accuracy: 0.5722; Associated train accuracy: 0.5501\n",
      "Iteration 4, {'batch_size': 32.0, 'lr_decay': 0.052713297141560825, 'adam_lr': 0.08480504155927175, 'adam_beta1': 0.8932094423950917, 'adam_beta2': 0.9998927908209623, 'adam_wtdecay': 0.9416322057281397}\n"
     ]
    },
    {
     "name": "stderr",
     "output_type": "stream",
     "text": [
      "                                                                                                              \r"
     ]
    },
    {
     "name": "stdout",
     "output_type": "stream",
     "text": [
      "Training stopped early at 22 epochs.\n",
      "Best validation accuracy: 0.8667; Associated train accuracy: 0.9106\n",
      "Iteration 5, {'batch_size': 16.0, 'lr_decay': 0.04012164538015247, 'adam_lr': 0.08546931480059347, 'adam_beta1': 0.9104800666654932, 'adam_beta2': 0.976898118068372, 'adam_wtdecay': 0.5724790895195455}\n"
     ]
    },
    {
     "name": "stderr",
     "output_type": "stream",
     "text": [
      "                                                                                                             \r"
     ]
    },
    {
     "name": "stdout",
     "output_type": "stream",
     "text": [
      "Training stopped early at 8 epochs.\n",
      "Best validation accuracy: 0.8722; Associated train accuracy: 0.8713\n",
      "Iteration 6, {'batch_size': 48.0, 'lr_decay': 0.14040122590326942, 'adam_lr': 0.05960909542557366, 'adam_beta1': 0.8132875439325197, 'adam_beta2': 0.9702166691443174, 'adam_wtdecay': 0.8619438838107064}\n"
     ]
    },
    {
     "name": "stderr",
     "output_type": "stream",
     "text": [
      "                                                                                                             \r"
     ]
    },
    {
     "name": "stdout",
     "output_type": "stream",
     "text": [
      "Training stopped early at 8 epochs.\n",
      "Best validation accuracy: 0.8944; Associated train accuracy: 0.8664\n",
      "Iteration 7, {'batch_size': 48.0, 'lr_decay': 0.08171776884782313, 'adam_lr': 0.0691905368898733, 'adam_beta1': 0.836053328070918, 'adam_beta2': 0.9661867109001778, 'adam_wtdecay': 0.6814055239042898}\n"
     ]
    },
    {
     "name": "stderr",
     "output_type": "stream",
     "text": [
      "                                                                                                              \r"
     ]
    },
    {
     "name": "stdout",
     "output_type": "stream",
     "text": [
      "Training stopped early at 13 epochs.\n",
      "Best validation accuracy: 0.8944; Associated train accuracy: 0.9204\n",
      "Iteration 8, {'batch_size': 48.0, 'lr_decay': 0.2869770462256526, 'adam_lr': 0.015673634809715554, 'adam_beta1': 0.9307955348815274, 'adam_beta2': 0.9787357960964644, 'adam_wtdecay': 0.7250539502451895}\n"
     ]
    },
    {
     "name": "stderr",
     "output_type": "stream",
     "text": [
      "                                                                                                              \r"
     ]
    },
    {
     "name": "stdout",
     "output_type": "stream",
     "text": [
      "Training stopped early at 15 epochs.\n",
      "Best validation accuracy: 0.8778; Associated train accuracy: 0.9224\n",
      "Iteration 9, {'batch_size': 48.0, 'lr_decay': 0.22431914137355102, 'adam_lr': 0.1, 'adam_beta1': 0.8, 'adam_beta2': 0.9999, 'adam_wtdecay': 0.4109315606288394}\n"
     ]
    },
    {
     "name": "stderr",
     "output_type": "stream",
     "text": [
      "                                                                                                              \r"
     ]
    },
    {
     "name": "stdout",
     "output_type": "stream",
     "text": [
      "Training stopped early at 13 epochs.\n",
      "Best validation accuracy: 0.9056; Associated train accuracy: 0.9037\n",
      "Iteration 10, {'batch_size': 48.0, 'lr_decay': 0.032128306440695906, 'adam_lr': 0.1, 'adam_beta1': 0.9788055705415829, 'adam_beta2': 0.9999, 'adam_wtdecay': 0.3400202090181088}\n"
     ]
    },
    {
     "name": "stderr",
     "output_type": "stream",
     "text": [
      "                                                                                                              \r"
     ]
    },
    {
     "name": "stdout",
     "output_type": "stream",
     "text": [
      "Training stopped early at 16 epochs.\n",
      "Best validation accuracy: 0.8944; Associated train accuracy: 0.9244\n",
      "Iteration 11, {'batch_size': 48.0, 'lr_decay': 0.19577720990440586, 'adam_lr': 0.001, 'adam_beta1': 0.8, 'adam_beta2': 0.95, 'adam_wtdecay': 0.12418383119757687}\n"
     ]
    },
    {
     "name": "stderr",
     "output_type": "stream",
     "text": [
      "                                                                                                              \r"
     ]
    },
    {
     "name": "stdout",
     "output_type": "stream",
     "text": [
      "Training stopped early at 17 epochs.\n",
      "Best validation accuracy: 0.8722; Associated train accuracy: 0.9077\n",
      "Iteration 12, {'batch_size': 48.0, 'lr_decay': 0.3, 'adam_lr': 0.001, 'adam_beta1': 0.99, 'adam_beta2': 0.95, 'adam_wtdecay': 0.36571864704234663}\n"
     ]
    },
    {
     "name": "stderr",
     "output_type": "stream",
     "text": [
      "                                                                                                              \r"
     ]
    },
    {
     "name": "stdout",
     "output_type": "stream",
     "text": [
      "Training stopped early at 11 epochs.\n",
      "Best validation accuracy: 0.7833; Associated train accuracy: 0.8271\n",
      "Iteration 13, {'batch_size': 48.0, 'lr_decay': 0.03, 'adam_lr': 0.1, 'adam_beta1': 0.8, 'adam_beta2': 0.9999, 'adam_wtdecay': 0.3966377054320075}\n"
     ]
    },
    {
     "name": "stderr",
     "output_type": "stream",
     "text": [
      "                                                                                                              \r"
     ]
    },
    {
     "name": "stdout",
     "output_type": "stream",
     "text": [
      "Training stopped early at 15 epochs.\n",
      "Best validation accuracy: 0.8722; Associated train accuracy: 0.9136\n",
      "Iteration 14, {'batch_size': 16.0, 'lr_decay': 0.03, 'adam_lr': 0.001, 'adam_beta1': 0.8, 'adam_beta2': 0.9999, 'adam_wtdecay': 0.9214615520190845}\n"
     ]
    },
    {
     "name": "stderr",
     "output_type": "stream",
     "text": [
      "                                                                                                              \r"
     ]
    },
    {
     "name": "stdout",
     "output_type": "stream",
     "text": [
      "Training stopped early at 22 epochs.\n",
      "Best validation accuracy: 0.6167; Associated train accuracy: 0.7043\n",
      "Iteration 15, {'batch_size': 16.0, 'lr_decay': 0.03, 'adam_lr': 0.001, 'adam_beta1': 0.8, 'adam_beta2': 0.95, 'adam_wtdecay': 0.388589286408351}\n"
     ]
    },
    {
     "name": "stderr",
     "output_type": "stream",
     "text": [
      "                                                                                                              \r"
     ]
    },
    {
     "name": "stdout",
     "output_type": "stream",
     "text": [
      "Training stopped early at 14 epochs.\n",
      "Best validation accuracy: 0.8389; Associated train accuracy: 0.8861\n",
      "Best params: [48.          0.22431914  0.1         0.8         0.9999      0.41093156]\n"
     ]
    },
    {
     "data": {
      "image/png": "[encoded data removed]",
      "text/plain": [
       "<Figure size 720x360 with 2 Axes>"
      ]
     },
     "metadata": {},
     "output_type": "display_data"
    },
    {
     "name": "stdout",
     "output_type": "stream",
     "text": [
      "Best params: {'batch_size': 48.0, 'lr_decay': 0.22431914137355102, 'adam_lr': 0.1, 'adam_beta1': 0.8, 'adam_beta2': 0.9999, 'adam_wtdecay': 0.4109315606288394}\n",
      "Iteration BEST, {'batch_size': 48.0, 'lr_decay': 0.22431914137355102, 'adam_lr': 0.1, 'adam_beta1': 0.8, 'adam_beta2': 0.9999, 'adam_wtdecay': 0.4109315606288394}\n"
     ]
    },
    {
     "name": "stderr",
     "output_type": "stream",
     "text": [
      " /home/alwood/Development/Estrous-AI/predict.py:114: DeprecationWarning:Call to deprecated function (or staticmethod) get_datasets_and_loaders.\n",
      "Predict:   0%|          | 0/214 [00:00<?, ?it/s]"
     ]
    },
    {
     "name": "stdout",
     "output_type": "stream",
     "text": [
      "Best validation accuracy: 0.9000; Associated train accuracy: 0.9244\n",
      "Writing results to experiments/bayes_opt_2/die_vs_all_tt/nasnetamobile/Adam/BEST/test_predictions.csv\n"
     ]
    },
    {
     "name": "stderr",
     "output_type": "stream",
     "text": [
      "Predict: 100%|██████████| 214/214 [00:02<00:00, 79.06it/s]\n"
     ]
    },
    {
     "data": {
      "text/plain": [
       "7632"
      ]
     },
     "execution_count": 12,
     "metadata": {},
     "output_type": "execute_result"
    },
    {
     "name": "stdout",
     "output_type": "stream",
     "text": [
      "nasnetamobile Adam data/4_class_tt\n",
      "Iteration 1, {'batch_size': 64.0, 'lr_decay': 0.2074873586720293, 'adam_lr': 0.06827900450183877, 'adam_beta1': 0.8135392954580289, 'adam_beta2': 0.9797039365452088, 'adam_wtdecay': 0.3718909715491657}\n"
     ]
    },
    {
     "name": "stderr",
     "output_type": "stream",
     "text": [
      "                                                                                                              \r"
     ]
    },
    {
     "name": "stdout",
     "output_type": "stream",
     "text": [
      "Training stopped early at 26 epochs.\n",
      "Best validation accuracy: 0.8122; Associated train accuracy: 0.8958\n",
      "Iteration 2, {'batch_size': 24.0, 'lr_decay': 0.16893792684202216, 'adam_lr': 0.07688214830297105, 'adam_beta1': 0.8721713857031376, 'adam_beta2': 0.974396883531274, 'adam_wtdecay': 0.6030318453909005}\n"
     ]
    },
    {
     "name": "stderr",
     "output_type": "stream",
     "text": [
      "                                                                                                              \r"
     ]
    },
    {
     "name": "stdout",
     "output_type": "stream",
     "text": [
      "Training stopped early at 11 epochs.\n",
      "Best validation accuracy: 0.7459; Associated train accuracy: 0.7965\n",
      "Iteration 3, {'batch_size': 16.0, 'lr_decay': 0.1883518007824801, 'adam_lr': 0.01674135504644675, 'adam_beta1': 0.8912398228919808, 'adam_beta2': 0.9832655706088085, 'adam_wtdecay': 0.9718766693084016}\n"
     ]
    },
    {
     "name": "stderr",
     "output_type": "stream",
     "text": [
      "                                                                                                              \r"
     ]
    },
    {
     "name": "stdout",
     "output_type": "stream",
     "text": [
      "Training stopped early at 17 epochs.\n",
      "Best validation accuracy: 0.7072; Associated train accuracy: 0.7679\n",
      "Iteration 4, {'batch_size': 32.0, 'lr_decay': 0.2861020789408656, 'adam_lr': 0.022218180533153106, 'adam_beta1': 0.9627250031464613, 'adam_beta2': 0.9627321119345444, 'adam_wtdecay': 0.4189640090470992}\n"
     ]
    },
    {
     "name": "stderr",
     "output_type": "stream",
     "text": [
      "                                                                                                              \r"
     ]
    },
    {
     "name": "stdout",
     "output_type": "stream",
     "text": [
      "Training stopped early at 14 epochs.\n",
      "Best validation accuracy: 0.7680; Associated train accuracy: 0.8269\n",
      "Iteration 5, {'batch_size': 64.0, 'lr_decay': 0.07185340708057975, 'adam_lr': 0.012050707322062183, 'adam_beta1': 0.821089738803795, 'adam_beta2': 0.9548461465307395, 'adam_wtdecay': 0.8168245900467844}\n"
     ]
    },
    {
     "name": "stderr",
     "output_type": "stream",
     "text": [
      "                                                                                                              \r"
     ]
    },
    {
     "name": "stdout",
     "output_type": "stream",
     "text": [
      "Training stopped early at 19 epochs.\n",
      "Best validation accuracy: 0.7238; Associated train accuracy: 0.8092\n",
      "Iteration 6, {'batch_size': 64.0, 'lr_decay': 0.20578841197256792, 'adam_lr': 0.07614636778577458, 'adam_beta1': 0.8074391703468916, 'adam_beta2': 0.9833644349815581, 'adam_wtdecay': 0.3509639187005327}\n"
     ]
    },
    {
     "name": "stderr",
     "output_type": "stream",
     "text": [
      "                                                                                                             \r"
     ]
    },
    {
     "name": "stdout",
     "output_type": "stream",
     "text": [
      "Training stopped early at 8 epochs.\n",
      "Best validation accuracy: 0.7293; Associated train accuracy: 0.7443\n",
      "Iteration 7, {'batch_size': 32.0, 'lr_decay': 0.2689977994454577, 'adam_lr': 0.032900208588493365, 'adam_beta1': 0.9313858324817013, 'adam_beta2': 0.9531971940989582, 'adam_wtdecay': 0.4249208280170039}\n"
     ]
    },
    {
     "name": "stderr",
     "output_type": "stream",
     "text": [
      "                                                                                                              \r"
     ]
    },
    {
     "name": "stdout",
     "output_type": "stream",
     "text": [
      "Training stopped early at 12 epochs.\n",
      "Best validation accuracy: 0.8177; Associated train accuracy: 0.7915\n",
      "Iteration 8, {'batch_size': 32.0, 'lr_decay': 0.23903347804572367, 'adam_lr': 0.02194710027772355, 'adam_beta1': 0.9400902493028914, 'adam_beta2': 0.9719399786305071, 'adam_wtdecay': 0.44210981336085486}\n"
     ]
    },
    {
     "name": "stderr",
     "output_type": "stream",
     "text": [
      "                                                                                                              \r"
     ]
    },
    {
     "name": "stdout",
     "output_type": "stream",
     "text": [
      "Training stopped early at 15 epochs.\n",
      "Best validation accuracy: 0.7624; Associated train accuracy: 0.8181\n",
      "Iteration 9, {'batch_size': 32.0, 'lr_decay': 0.2776983331009463, 'adam_lr': 0.03284581962312098, 'adam_beta1': 0.9744290914093459, 'adam_beta2': 0.9601509136808664, 'adam_wtdecay': 0.4550302237942837}\n"
     ]
    },
    {
     "name": "stderr",
     "output_type": "stream",
     "text": [
      "                                                                                                              \r"
     ]
    },
    {
     "name": "stdout",
     "output_type": "stream",
     "text": [
      "Training stopped early at 12 epochs.\n",
      "Best validation accuracy: 0.7569; Associated train accuracy: 0.8171\n",
      "Iteration 10, {'batch_size': 32.0, 'lr_decay': 0.2671774903958143, 'adam_lr': 0.0562282835157836, 'adam_beta1': 0.9215175792804485, 'adam_beta2': 0.9701921262375354, 'adam_wtdecay': 0.46447576358853493}\n"
     ]
    },
    {
     "name": "stderr",
     "output_type": "stream",
     "text": [
      "                                                                                                              \r"
     ]
    },
    {
     "name": "stdout",
     "output_type": "stream",
     "text": [
      "Training stopped early at 16 epochs.\n",
      "Best validation accuracy: 0.7901; Associated train accuracy: 0.8564\n",
      "Iteration 11, {'batch_size': 32.0, 'lr_decay': 0.2689266524437413, 'adam_lr': 0.03954282494221237, 'adam_beta1': 0.9279462355337511, 'adam_beta2': 0.9588416155688978, 'adam_wtdecay': 0.4354350441621356}\n"
     ]
    },
    {
     "name": "stderr",
     "output_type": "stream",
     "text": [
      "                                                                                                              \r"
     ]
    },
    {
     "name": "stdout",
     "output_type": "stream",
     "text": [
      "Training stopped early at 14 epochs.\n",
      "Best validation accuracy: 0.7680; Associated train accuracy: 0.8309\n",
      "Iteration 12, {'batch_size': 32.0, 'lr_decay': 0.26910724119492935, 'adam_lr': 0.04029686424332507, 'adam_beta1': 0.9258340092042655, 'adam_beta2': 0.958226774442113, 'adam_wtdecay': 0.43474964076205125}\n"
     ]
    },
    {
     "name": "stderr",
     "output_type": "stream",
     "text": [
      "                                                                                                              \r"
     ]
    },
    {
     "name": "stdout",
     "output_type": "stream",
     "text": [
      "Training stopped early at 14 epochs.\n",
      "Best validation accuracy: 0.7624; Associated train accuracy: 0.8151\n",
      "Iteration 13, {'batch_size': 32.0, 'lr_decay': 0.26908610994755555, 'adam_lr': 0.040216126947208594, 'adam_beta1': 0.926060019739156, 'adam_beta2': 0.9582949383936162, 'adam_wtdecay': 0.4348249436642214}\n"
     ]
    },
    {
     "name": "stderr",
     "output_type": "stream",
     "text": [
      "                                                                                                              \r"
     ]
    },
    {
     "name": "stdout",
     "output_type": "stream",
     "text": [
      "Training stopped early at 10 epochs.\n",
      "Best validation accuracy: 0.7624; Associated train accuracy: 0.7876\n",
      "Iteration 14, {'batch_size': 32.0, 'lr_decay': 0.26907191286150905, 'adam_lr': 0.04016076279986002, 'adam_beta1': 0.926214396307101, 'adam_beta2': 0.9583410395479559, 'adam_wtdecay': 0.4348760273922985}\n"
     ]
    },
    {
     "name": "stderr",
     "output_type": "stream",
     "text": [
      "                                                                                                              \r"
     ]
    },
    {
     "name": "stdout",
     "output_type": "stream",
     "text": [
      "Training stopped early at 18 epochs.\n",
      "Best validation accuracy: 0.7403; Associated train accuracy: 0.8594\n",
      "Iteration 15, {'batch_size': 32.0, 'lr_decay': 0.26981192146839716, 'adam_lr': 0.03384966147520425, 'adam_beta1': 0.9267634169134636, 'adam_beta2': 0.9907131359194199, 'adam_wtdecay': 0.4193261816118199}\n"
     ]
    },
    {
     "name": "stderr",
     "output_type": "stream",
     "text": [
      "                                                                                                              \r"
     ]
    },
    {
     "name": "stdout",
     "output_type": "stream",
     "text": [
      "Training stopped early at 17 epochs.\n",
      "Best validation accuracy: 0.7790; Associated train accuracy: 0.8348\n",
      "Best params: [32.          0.2689978   0.03290021  0.93138583  0.95319719  0.42492083]\n"
     ]
    },
    {
     "data": {
      "image/png": "[encoded data removed]",
      "text/plain": [
       "<Figure size 720x504 with 2 Axes>"
      ]
     },
     "metadata": {},
     "output_type": "display_data"
    },
    {
     "data": {
      "image/png": "[encoded data removed]",
      "text/plain": [
       "<Figure size 720x504 with 2 Axes>"
      ]
     },
     "metadata": {},
     "output_type": "display_data"
    },
    {
     "data": {
      "image/png": "[encoded data removed]",
      "text/plain": [
       "<Figure size 720x360 with 2 Axes>"
      ]
     },
     "metadata": {},
     "output_type": "display_data"
    },
    {
     "name": "stdout",
     "output_type": "stream",
     "text": [
      "Best params: {'batch_size': 32.0, 'lr_decay': 0.2689977994454577, 'adam_lr': 0.032900208588493365, 'adam_beta1': 0.9313858324817013, 'adam_beta2': 0.9531971940989582, 'adam_wtdecay': 0.4249208280170039}\n",
      "Iteration BEST, {'batch_size': 32.0, 'lr_decay': 0.2689977994454577, 'adam_lr': 0.032900208588493365, 'adam_beta1': 0.9313858324817013, 'adam_beta2': 0.9531971940989582, 'adam_wtdecay': 0.4249208280170039}\n"
     ]
    },
    {
     "name": "stderr",
     "output_type": "stream",
     "text": [
      " /home/alwood/Development/Estrous-AI/predict.py:114: DeprecationWarning:Call to deprecated function (or staticmethod) get_datasets_and_loaders.\n",
      "Predict:   0%|          | 0/214 [00:00<?, ?it/s]"
     ]
    },
    {
     "name": "stdout",
     "output_type": "stream",
     "text": [
      "Best validation accuracy: 0.8066; Associated train accuracy: 0.8564\n",
      "Writing results to experiments/bayes_opt_2/4_class_tt/nasnetamobile/Adam/BEST/test_predictions.csv\n"
     ]
    },
    {
     "name": "stderr",
     "output_type": "stream",
     "text": [
      "Predict: 100%|██████████| 214/214 [00:02<00:00, 76.72it/s]\n"
     ]
    },
    {
     "data": {
      "text/plain": [
       "3023"
      ]
     },
     "execution_count": 12,
     "metadata": {},
     "output_type": "execute_result"
    },
    {
     "name": "stdout",
     "output_type": "stream",
     "text": [
      "nasnetamobile SGD data/die_vs_all_tt\n",
      "Iteration 1, {'batch_size': 48.0, 'lr_decay': 0.25553808565029124, 'lr': 0.07408944273042967, 'momentum': 0.9304744024464859, 'weight_decay': 0.7163250305646756}\n"
     ]
    },
    {
     "name": "stderr",
     "output_type": "stream",
     "text": [
      "                                                                                                              \r"
     ]
    },
    {
     "name": "stdout",
     "output_type": "stream",
     "text": [
      "Training stopped early at 11 epochs.\n",
      "Best validation accuracy: 0.8944; Associated train accuracy: 0.8929\n",
      "Iteration 2, {'batch_size': 16.0, 'lr_decay': 0.18568608506253093, 'lr': 0.022878061212391554, 'momentum': 0.6015812850459249, 'weight_decay': 0.8493189182843212}\n"
     ]
    },
    {
     "name": "stderr",
     "output_type": "stream",
     "text": [
      "                                                                                                              \r"
     ]
    },
    {
     "name": "stdout",
     "output_type": "stream",
     "text": [
      "Training stopped early at 13 epochs.\n",
      "Best validation accuracy: 0.8556; Associated train accuracy: 0.9037\n",
      "Iteration 3, {'batch_size': 64.0, 'lr_decay': 0.17168589725710584, 'lr': 0.03850210688225062, 'momentum': 0.7338411136245877, 'weight_decay': 0.6820621183257138}\n"
     ]
    },
    {
     "name": "stderr",
     "output_type": "stream",
     "text": [
      "                                                                                                              \r"
     ]
    },
    {
     "name": "stdout",
     "output_type": "stream",
     "text": [
      "Training stopped early at 13 epochs.\n",
      "Best validation accuracy: 0.9056; Associated train accuracy: 0.9214\n",
      "Iteration 4, {'batch_size': 64.0, 'lr_decay': 0.09051522494769365, 'lr': 0.053943750802569024, 'momentum': 0.5789621125026766, 'weight_decay': 0.4437354127905031}\n"
     ]
    },
    {
     "name": "stderr",
     "output_type": "stream",
     "text": [
      "                                                                                                             \r"
     ]
    },
    {
     "name": "stdout",
     "output_type": "stream",
     "text": [
      "Training stopped early at 9 epochs.\n",
      "Best validation accuracy: 0.8833; Associated train accuracy: 0.8969\n",
      "Iteration 5, {'batch_size': 16.0, 'lr_decay': 0.10090951618580828, 'lr': 0.03544467783175976, 'momentum': 0.7518670109212123, 'weight_decay': 0.8375629345301728}\n"
     ]
    },
    {
     "name": "stderr",
     "output_type": "stream",
     "text": [
      "                                                                                                             \r"
     ]
    },
    {
     "name": "stdout",
     "output_type": "stream",
     "text": [
      "Training stopped early at 8 epochs.\n",
      "Best validation accuracy: 0.8778; Associated train accuracy: 0.8752\n",
      "Iteration 6, {'batch_size': 64.0, 'lr_decay': 0.19181441975211558, 'lr': 0.03466996328957739, 'momentum': 0.7722650174601935, 'weight_decay': 0.7411870970826265}\n"
     ]
    },
    {
     "name": "stderr",
     "output_type": "stream",
     "text": [
      "                                                                                                              \r"
     ]
    },
    {
     "name": "stdout",
     "output_type": "stream",
     "text": [
      "Training stopped early at 14 epochs.\n",
      "Best validation accuracy: 0.8500; Associated train accuracy: 0.9253\n",
      "Iteration 7, {'batch_size': 48.0, 'lr_decay': 0.2535824514974284, 'lr': 0.041140781048340874, 'momentum': 0.91952454213061, 'weight_decay': 0.7277719549244231}\n"
     ]
    },
    {
     "name": "stderr",
     "output_type": "stream",
     "text": [
      "                                                                                                              \r"
     ]
    },
    {
     "name": "stdout",
     "output_type": "stream",
     "text": [
      "Training stopped early at 10 epochs.\n",
      "Best validation accuracy: 0.9278; Associated train accuracy: 0.9057\n",
      "Iteration 8, {'batch_size': 48.0, 'lr_decay': 0.24342611712010226, 'lr': 0.013011776070567426, 'momentum': 0.9009947787968193, 'weight_decay': 0.751241839162972}\n"
     ]
    },
    {
     "name": "stderr",
     "output_type": "stream",
     "text": [
      "                                                                                                              \r"
     ]
    },
    {
     "name": "stdout",
     "output_type": "stream",
     "text": [
      "Training stopped early at 16 epochs.\n",
      "Best validation accuracy: 0.8944; Associated train accuracy: 0.9165\n",
      "Iteration 9, {'batch_size': 48.0, 'lr_decay': 0.2582650578015403, 'lr': 0.03232621431724384, 'momentum': 0.9222364129254108, 'weight_decay': 0.7224309463123731}\n"
     ]
    },
    {
     "name": "stderr",
     "output_type": "stream",
     "text": [
      "                                                                                                              \r"
     ]
    },
    {
     "name": "stdout",
     "output_type": "stream",
     "text": [
      "Training stopped early at 17 epochs.\n",
      "Best validation accuracy: 0.9000; Associated train accuracy: 0.9303\n",
      "Iteration 10, {'batch_size': 48.0, 'lr_decay': 0.2525880824644555, 'lr': 0.04622670912354485, 'momentum': 0.919814519085846, 'weight_decay': 0.7281017629086777}\n"
     ]
    },
    {
     "name": "stderr",
     "output_type": "stream",
     "text": [
      "                                                                                                              \r"
     ]
    },
    {
     "name": "stdout",
     "output_type": "stream",
     "text": [
      "Training stopped early at 11 epochs.\n",
      "Best validation accuracy: 0.8889; Associated train accuracy: 0.9145\n",
      "Iteration 11, {'batch_size': 48.0, 'lr_decay': 0.2549370600298969, 'lr': 0.03826625641387388, 'momentum': 0.9202260054587098, 'weight_decay': 0.7263086577634505}\n"
     ]
    },
    {
     "name": "stderr",
     "output_type": "stream",
     "text": [
      "                                                                                                              \r"
     ]
    },
    {
     "name": "stdout",
     "output_type": "stream",
     "text": [
      "Training stopped early at 15 epochs.\n",
      "Best validation accuracy: 0.9056; Associated train accuracy: 0.9145\n",
      "Iteration 12, {'batch_size': 48.0, 'lr_decay': 0.2571346827147982, 'lr': 0.03550304978749679, 'momentum': 0.9216842087356633, 'weight_decay': 0.7237913214277928}\n"
     ]
    },
    {
     "name": "stderr",
     "output_type": "stream",
     "text": [
      "                                                                                                              \r"
     ]
    },
    {
     "name": "stdout",
     "output_type": "stream",
     "text": [
      "Training stopped early at 10 epochs.\n",
      "Best validation accuracy: 0.9000; Associated train accuracy: 0.9018\n",
      "Iteration 13, {'batch_size': 48.0, 'lr_decay': 0.2589141871376309, 'lr': 0.03275878593701361, 'momentum': 0.9230096265022197, 'weight_decay': 0.7210745704300693}\n"
     ]
    },
    {
     "name": "stderr",
     "output_type": "stream",
     "text": [
      "                                                                                                             \r"
     ]
    },
    {
     "name": "stdout",
     "output_type": "stream",
     "text": [
      "Training stopped early at 8 epochs.\n",
      "Best validation accuracy: 0.9000; Associated train accuracy: 0.9037\n",
      "Iteration 14, {'batch_size': 48.0, 'lr_decay': 0.2622243394143578, 'lr': 0.028357502738865732, 'momentum': 0.9252692614568722, 'weight_decay': 0.7173258478020194}\n"
     ]
    },
    {
     "name": "stderr",
     "output_type": "stream",
     "text": [
      "                                                                                                              \r"
     ]
    },
    {
     "name": "stdout",
     "output_type": "stream",
     "text": [
      "Training stopped early at 11 epochs.\n",
      "Best validation accuracy: 0.9333; Associated train accuracy: 0.9145\n",
      "Iteration 15, {'batch_size': 48.0, 'lr_decay': 0.3, 'lr': 0.001, 'momentum': 0.9576729496020941, 'weight_decay': 0.6600373183728796}\n"
     ]
    },
    {
     "name": "stderr",
     "output_type": "stream",
     "text": [
      "                                                                                                              \r"
     ]
    },
    {
     "name": "stdout",
     "output_type": "stream",
     "text": [
      "Training stopped early at 16 epochs.\n",
      "Best validation accuracy: 0.8833; Associated train accuracy: 0.8949\n",
      "Best params: [4.80000000e+01 2.62224339e-01 2.83575027e-02 9.25269261e-01\n",
      " 7.17325848e-01]\n"
     ]
    },
    {
     "data": {
      "image/png": "[encoded data removed]",
      "text/plain": [
       "<Figure size 720x504 with 2 Axes>"
      ]
     },
     "metadata": {},
     "output_type": "display_data"
    },
    {
     "data": {
      "image/png": "[encoded data removed]",
      "text/plain": [
       "<Figure size 720x504 with 2 Axes>"
      ]
     },
     "metadata": {},
     "output_type": "display_data"
    },
    {
     "data": {
      "image/png": "[encoded data removed]",
      "text/plain": [
       "<Figure size 720x360 with 2 Axes>"
      ]
     },
     "metadata": {},
     "output_type": "display_data"
    },
    {
     "name": "stdout",
     "output_type": "stream",
     "text": [
      "Best params: {'batch_size': 48.0, 'lr_decay': 0.2622243394143578, 'lr': 0.028357502738865732, 'momentum': 0.9252692614568722, 'weight_decay': 0.7173258478020194}\n",
      "Iteration BEST, {'batch_size': 48.0, 'lr_decay': 0.2622243394143578, 'lr': 0.028357502738865732, 'momentum': 0.9252692614568722, 'weight_decay': 0.7173258478020194}\n"
     ]
    },
    {
     "name": "stderr",
     "output_type": "stream",
     "text": [
      "Epoch 41, Train, best val=0.9222:  80%|████████  | 816/1018 [00:14<00:03, 60.52images/s] "
     ]
    }
   ],
   "source": [
    "import gc # for manual garbage collection, reduce memory consumption\n",
    "\n",
    "for chosen_model in MODELS:  # iterate over all models\n",
    "    for chosen_optimizer in OPTIMIZERS: # iterate over all optimizers\n",
    "\n",
    "        # iterate over both binary and quaternary datasets\n",
    "        for data_dir in (\n",
    "            os.path.join('data', 'die_vs_all_tt'), \n",
    "            os.path.join('data', '4_class_tt')\n",
    "        ):\n",
    "            print(utils.get_model_name(chosen_model), chosen_optimizer.__name__, data_dir)\n",
    "            reset_globals(data_dir)  # reset some globals used for iteration tracking\n",
    "\n",
    "            commit_message = f'Results for {data_dir} {utils.get_model_name(chosen_model)} {chosen_optimizer.__name__}.'\n",
    "            try:\n",
    "                # define and optimize the problem\n",
    "                optimized = perform_bayesian_optimization()\n",
    "                # plot the results\n",
    "                plot_bo_results(optimized)\n",
    "                # get and save the best trainable\n",
    "                best_params = optimized.x_opt.flatten()\n",
    "                print('Best params:', (params_to_meta_dict(best_params)))\n",
    "                best_trainable = train(best_params, is_best=True)\n",
    "                best_trainable.save(extra_meta=params_to_meta_dict(best_params))\n",
    "                # evalute on the test set using the best model\n",
    "                generate_test_metrics(best_trainable)\n",
    "                commit_message += f' Best val: {best_trainable.best_val_accuracy:.4f}; Train: {best_trainable.associated_train_accuracy:.4f}'\n",
    "                \n",
    "            # if something bad happens, skip it so we can let the others run\n",
    "            except Exception as e:\n",
    "                print('Skipping because', e)\n",
    "                _ = subprocess.check_call([\"spd-say\", \"Uh-oh, something bad happened. \"])\n",
    "                _ = subprocess.check_call([\"spd-say\", f'{utils.get_model_name(chosen_model)}. {str(e).split()[:4]}.'])\n",
    "                    \n",
    "                import traceback  # DEBUG\n",
    "                traceback.print_exc()\n",
    "                commit_message += f' EXCEPTION {e}.'\n",
    "    \n",
    "            gc.collect()  # reduce memory usage\n",
    "\n",
    "            # commit & push\n",
    "            if PUSH_TO_GIT:\n",
    "                push_to_git(commit_message)"
   ]
  },
  {
   "cell_type": "markdown",
   "metadata": {},
   "source": [
    "# Final Commit and Push"
   ]
  },
  {
   "cell_type": "code",
   "execution_count": null,
   "metadata": {},
   "outputs": [],
   "source": [
    "if PUSH_TO_GIT:\n",
    "    import time\n",
    "    time.sleep(120) # wait for two minutes to let everything render\n",
    "    _ = subprocess.check_call([\"spd-say\", \"Your code has finished running\"])\n",
    "    push_to_git(\"BO Final Commit\")\n",
    "    \n",
    "print(\"Done\")"
   ]
  }
 ],
 "metadata": {
  "kernelspec": {
   "display_name": "Python 3",
   "language": "python",
   "name": "python3"
  },
  "language_info": {
   "codemirror_mode": {
    "name": "ipython",
    "version": 3
   },
   "file_extension": ".py",
   "mimetype": "text/x-python",
   "name": "python",
   "nbconvert_exporter": "python",
   "pygments_lexer": "ipython3",
   "version": "3.6.6"
  }
 },
 "nbformat": 4,
 "nbformat_minor": 2
}
