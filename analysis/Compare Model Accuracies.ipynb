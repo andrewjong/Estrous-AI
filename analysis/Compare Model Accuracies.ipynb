{
 "cells": [
  {
   "cell_type": "code",
   "execution_count": 1,
   "metadata": {},
   "outputs": [],
   "source": [
    "from IPython.display import display, HTML\n",
    "import pandas as pd\n",
    "import os\n",
    "import glob"
   ]
  },
  {
   "cell_type": "markdown",
   "metadata": {},
   "source": [
    "Helper functions."
   ]
  },
  {
   "cell_type": "code",
   "execution_count": 2,
   "metadata": {},
   "outputs": [],
   "source": [
    "def get_name_parts(pred_file):\n",
    "    return os.path.dirname(pred_file).split(os.path.sep)\n",
    "\n",
    "def get_exp_name(pred_file):\n",
    "    parts = get_name_parts(pred_file)\n",
    "#     experiment_name = parts[-3]\n",
    "    from_index = parts.index('experiments') + 1\n",
    "    experiment_name = \"/\".join(parts[from_index:])\n",
    "    return experiment_name\n",
    "\n",
    "def get_dataset(pred_file):\n",
    "    parts = os.path.dirname(pred_file).split(os.path.sep)\n",
    "    dataset = '_'.join(parts[-2].split('_')[:2])\n",
    "    return dataset\n",
    "\n",
    "def calculate_accuracy(pred_file):\n",
    "    df = pd.read_csv(pred_file)\n",
    "    df['correct'] = df['label'] == df['predicted']\n",
    "    accuracy = df['correct'].sum() / len(df['correct'])\n",
    "    return accuracy"
   ]
  },
  {
   "cell_type": "markdown",
   "metadata": {},
   "source": [
    "Calculate validation accuracy using the experiment's prediction.csv files."
   ]
  },
  {
   "cell_type": "code",
   "execution_count": 3,
   "metadata": {},
   "outputs": [],
   "source": [
    "pred_files = glob.glob(\"../experiments/**/*prediction*.csv\", recursive=True)\n",
    "\n",
    "summary_df = pd.DataFrame(index=None, columns=['dataset', 'val_accuracy', 'experiment'])\n",
    "\n",
    "for pred_file in pred_files:\n",
    "    dataset = get_dataset(pred_file)\n",
    "    exp_name = get_exp_name(pred_file)\n",
    "    acc = calculate_accuracy(pred_file)\n",
    "    summary_df = summary_df.append({'dataset': dataset, 'experiment': exp_name, 'val_accuracy': acc}, \n",
    "                      ignore_index=True)"
   ]
  },
  {
   "cell_type": "code",
   "execution_count": 4,
   "metadata": {},
   "outputs": [
    {
     "data": {
      "text/html": [
       "<table border=\"1\" class=\"dataframe\">\n",
       "  <thead>\n",
       "    <tr style=\"text-align: right;\">\n",
       "      <th>dataset</th>\n",
       "      <th>val_accuracy</th>\n",
       "      <th>experiment</th>\n",
       "    </tr>\n",
       "  </thead>\n",
       "  <tbody>\n",
       "    <tr>\n",
       "      <td>pro-est_vs</td>\n",
       "      <td>0.895735</td>\n",
       "      <td>data_augmentation/runtime/add_color_jitter_augment/pro-est_vs_met-die_11/resnet_transfer-101-finetune</td>\n",
       "    </tr>\n",
       "    <tr>\n",
       "      <td>multistage_experiment</td>\n",
       "      <td>0.781991</td>\n",
       "      <td>multistage_experiment/BEST_diestrus-colorjitter_transfer-4-to-3</td>\n",
       "    </tr>\n",
       "    <tr>\n",
       "      <td>die_vs</td>\n",
       "      <td>0.914692</td>\n",
       "      <td>data_augmentation/runtime/add_color_jitter_augment/die_vs_all_11/resnet_transfer-101-finetune</td>\n",
       "    </tr>\n",
       "    <tr>\n",
       "      <td>die_vs</td>\n",
       "      <td>0.909953</td>\n",
       "      <td>data_augmentation/runtime/random_affine_crop/die_vs_all_11/resnet_transfer-101-finetune</td>\n",
       "    </tr>\n",
       "    <tr>\n",
       "      <td>die_vs</td>\n",
       "      <td>0.909953</td>\n",
       "      <td>data_augmentation/runtime/add_color_jitter_augment/die_vs_all_11/resnet_transfer-152-finetune</td>\n",
       "    </tr>\n",
       "    <tr>\n",
       "      <td>die_vs</td>\n",
       "      <td>0.878571</td>\n",
       "      <td>add_exp11a_images/die_vs_all_11+11a_filtered/resnet_transfer-101-finetune</td>\n",
       "    </tr>\n",
       "    <tr>\n",
       "      <td>die_vs</td>\n",
       "      <td>0.796209</td>\n",
       "      <td>model_architecture/num_layers_redo/die_vs_all_11/resnet_transfer-18-finetune</td>\n",
       "    </tr>\n",
       "    <tr>\n",
       "      <td>4_class</td>\n",
       "      <td>0.791469</td>\n",
       "      <td>data_augmentation/runtime/random_affine_crop/4_class_11/resnet_transfer-101-finetune</td>\n",
       "    </tr>\n",
       "    <tr>\n",
       "      <td>4_class</td>\n",
       "      <td>0.781991</td>\n",
       "      <td>data_augmentation/runtime/add_color_jitter_augment_2/4_class_11/resnet_transfer-101-finetune</td>\n",
       "    </tr>\n",
       "    <tr>\n",
       "      <td>4_class</td>\n",
       "      <td>0.781991</td>\n",
       "      <td>multistage_experiment/4_class_11/diestrus-colorjitter_transfer-4-to-3</td>\n",
       "    </tr>\n",
       "    <tr>\n",
       "      <td>4_class</td>\n",
       "      <td>0.781991</td>\n",
       "      <td>data_augmentation/runtime/random_affine_crop_3/4_class_11/resnet_transfer-101-finetune</td>\n",
       "    </tr>\n",
       "    <tr>\n",
       "      <td>4_class</td>\n",
       "      <td>0.777251</td>\n",
       "      <td>data_augmentation/runtime/random_affine_crop/4_class_11/resnet_transfer-152-finetune</td>\n",
       "    </tr>\n",
       "    <tr>\n",
       "      <td>4_class</td>\n",
       "      <td>0.777251</td>\n",
       "      <td>multistage_experiment/4_class_11/diestrus-imagenet_transfer-4-to-3</td>\n",
       "    </tr>\n",
       "    <tr>\n",
       "      <td>4_class</td>\n",
       "      <td>0.758294</td>\n",
       "      <td>data_augmentation/runtime/add_color_jitter_augment/4_class_11/resnet_transfer-101-finetune</td>\n",
       "    </tr>\n",
       "    <tr>\n",
       "      <td>4_class</td>\n",
       "      <td>0.758294</td>\n",
       "      <td>multistage_experiment/4_class_11/both_models_from_imagenet</td>\n",
       "    </tr>\n",
       "    <tr>\n",
       "      <td>4_class</td>\n",
       "      <td>0.750000</td>\n",
       "      <td>add_exp11a_images/4_class_11+11a_filtered/resnet_transfer-101-finetune</td>\n",
       "    </tr>\n",
       "    <tr>\n",
       "      <td>4_class</td>\n",
       "      <td>0.748815</td>\n",
       "      <td>data_augmentation/runtime/random_affine_crop_2/4_class_11/resnet_transfer-101-finetune</td>\n",
       "    </tr>\n",
       "    <tr>\n",
       "      <td>4_class</td>\n",
       "      <td>0.739336</td>\n",
       "      <td>data_augmentation/runtime/random_affine_crop/4_class_11/resnet_transfer-34-finetune</td>\n",
       "    </tr>\n",
       "    <tr>\n",
       "      <td>4_class</td>\n",
       "      <td>0.733119</td>\n",
       "      <td>add_exp11a_images/4_class_11+11a/resnet_transfer-101-finetune</td>\n",
       "    </tr>\n",
       "    <tr>\n",
       "      <td>4_class</td>\n",
       "      <td>0.696682</td>\n",
       "      <td>model_architecture/num_layers_redo/4_class_11/resnet_transfer-34-finetune</td>\n",
       "    </tr>\n",
       "    <tr>\n",
       "      <td>4_class</td>\n",
       "      <td>0.644550</td>\n",
       "      <td>model_architecture/num_layers_redo/4_class_11/resnet_transfer-101-finetune</td>\n",
       "    </tr>\n",
       "    <tr>\n",
       "      <td>4_class</td>\n",
       "      <td>0.644550</td>\n",
       "      <td>model_architecture/num_layers_redo/4_class_11/resnet_transfer-18-finetune</td>\n",
       "    </tr>\n",
       "    <tr>\n",
       "      <td>4_class</td>\n",
       "      <td>0.597156</td>\n",
       "      <td>model_architecture/num_layers_redo/4_class_11/resnet_transfer-50-finetune</td>\n",
       "    </tr>\n",
       "    <tr>\n",
       "      <td>3_class</td>\n",
       "      <td>0.659341</td>\n",
       "      <td>data_augmentation/runtime/add_color_jitter_transfer/3_class_11/resnet_transfer-101-finetune</td>\n",
       "    </tr>\n",
       "    <tr>\n",
       "      <td>3_class</td>\n",
       "      <td>0.659341</td>\n",
       "      <td>data_augmentation/runtime/random_affine_crop/3_class_11/transfer_from_4_class/3_class_11/resnet_transfer-101-finetune</td>\n",
       "    </tr>\n",
       "    <tr>\n",
       "      <td>3_class</td>\n",
       "      <td>0.626374</td>\n",
       "      <td>data_augmentation/runtime/add_color_jitter_transfer_2/3_class_11/resnet_transfer-101-finetune</td>\n",
       "    </tr>\n",
       "    <tr>\n",
       "      <td>3_class</td>\n",
       "      <td>0.604396</td>\n",
       "      <td>data_augmentation/runtime/add_color_jitter_augment/3_class_11/resnet_transfer-101-finetune</td>\n",
       "    </tr>\n",
       "    <tr>\n",
       "      <td>3_class</td>\n",
       "      <td>0.604396</td>\n",
       "      <td>data_augmentation/runtime/random_affine_crop/3_class_11/resnet_transfer-101-finetune</td>\n",
       "    </tr>\n",
       "  </tbody>\n",
       "</table>"
      ],
      "text/plain": [
       "<IPython.core.display.HTML object>"
      ]
     },
     "metadata": {},
     "output_type": "display_data"
    }
   ],
   "source": [
    "summary_df = summary_df[summary_df.experiment.str.contains(\"_archived\") == False]\n",
    "sorted_df = summary_df.sort_values(['val_accuracy'], ascending=False).sort_values(['dataset'], ascending=False, kind='mergesort')\n",
    "\n",
    "pd.set_option('display.max_colwidth', -1)\n",
    "display(HTML(sorted_df.to_html(index=False)))"
   ]
  },
  {
   "cell_type": "code",
   "execution_count": 5,
   "metadata": {},
   "outputs": [],
   "source": [
    "sorted_df.to_csv('accumulated_accuracies.csv', index=False)"
   ]
  },
  {
   "cell_type": "markdown",
   "metadata": {},
   "source": [
    "For the user: Filter the above table for a specific experiment search string."
   ]
  },
  {
   "cell_type": "code",
   "execution_count": 12,
   "metadata": {},
   "outputs": [
    {
     "data": {
      "text/html": [
       "<table border=\"1\" class=\"dataframe\">\n",
       "  <thead>\n",
       "    <tr style=\"text-align: right;\">\n",
       "      <th>dataset</th>\n",
       "      <th>val_accuracy</th>\n",
       "      <th>experiment</th>\n",
       "    </tr>\n",
       "  </thead>\n",
       "  <tbody>\n",
       "    <tr>\n",
       "      <td>die_vs</td>\n",
       "      <td>0.878571</td>\n",
       "      <td>add_exp11a_images/die_vs_all_11+11a_filtered/resnet_transfer-101-finetune</td>\n",
       "    </tr>\n",
       "    <tr>\n",
       "      <td>4_class</td>\n",
       "      <td>0.750000</td>\n",
       "      <td>add_exp11a_images/4_class_11+11a_filtered/resnet_transfer-101-finetune</td>\n",
       "    </tr>\n",
       "    <tr>\n",
       "      <td>4_class</td>\n",
       "      <td>0.733119</td>\n",
       "      <td>add_exp11a_images/4_class_11+11a/resnet_transfer-101-finetune</td>\n",
       "    </tr>\n",
       "  </tbody>\n",
       "</table>"
      ],
      "text/plain": [
       "<IPython.core.display.HTML object>"
      ]
     },
     "metadata": {},
     "output_type": "display_data"
    }
   ],
   "source": [
    "search_string = \"11a\"\n",
    "filtered = sorted_df[sorted_df.experiment.str.contains(search_string) == True]\n",
    "display(HTML(filtered.to_html(index=False)))"
   ]
  },
  {
   "cell_type": "code",
   "execution_count": null,
   "metadata": {},
   "outputs": [],
   "source": []
  }
 ],
 "metadata": {
  "kernelspec": {
   "display_name": "Python 3",
   "language": "python",
   "name": "python3"
  },
  "language_info": {
   "codemirror_mode": {
    "name": "ipython",
    "version": 3
   },
   "file_extension": ".py",
   "mimetype": "text/x-python",
   "name": "python",
   "nbconvert_exporter": "python",
   "pygments_lexer": "ipython3",
   "version": "3.6.6"
  }
 },
 "nbformat": 4,
 "nbformat_minor": 2
}
