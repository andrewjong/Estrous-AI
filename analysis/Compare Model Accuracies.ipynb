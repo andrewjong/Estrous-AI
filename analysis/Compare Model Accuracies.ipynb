{
 "cells": [
  {
   "cell_type": "code",
   "execution_count": 3,
   "metadata": {},
   "outputs": [],
   "source": [
    "import pandas as pd\n",
    "import os\n",
    "import glob"
   ]
  },
  {
   "cell_type": "code",
   "execution_count": 32,
   "metadata": {},
   "outputs": [
    {
     "data": {
      "text/plain": [
       "['../experiments/add_exp11a_images/4_class_11+11a_filtered/resnet_transfer-101-finetune/train.csv',\n",
       " '../experiments/add_exp11a_images/4_class_11+11a/resnet_transfer-101-finetune/train.csv',\n",
       " '../experiments/add_exp11a_images/die_vs_all_11+11a/resnet_transfer-101-finetune/train.csv',\n",
       " '../experiments/_archived_experiments/dataset_filtering/remove_art_names_from_dataset/remove_art_resnet_transfer_18_finetune_threshold_train.csv',\n",
       " '../experiments/_archived_experiments/batch_size/batchsize_32/4_class_11+11a/resnet_transfer-101-finetune/train.csv',\n",
       " '../experiments/_archived_experiments/batch_size/batchsize_64/4_class_11+11a/resnet_transfer-101-finetune/train.csv',\n",
       " '../experiments/_archived_experiments/model_architecture/resnet_transfer_num_layers/4class/resnet-152/4class_resnet_transfer_152_finetune_train.csv',\n",
       " '../experiments/_archived_experiments/model_architecture/resnet_transfer_num_layers/4class/resnet-101/4class_resnet_transfer_101_finetune_train.csv',\n",
       " '../experiments/_archived_experiments/model_architecture/resnet_transfer_num_layers/4class/resnet-18/4class_resnet_transfer_18_finetune_train.csv',\n",
       " '../experiments/_archived_experiments/model_architecture/resnet_transfer_num_layers/4class/resnet-18/4class_resnet_transfer_18_fixed_train.csv',\n",
       " '../experiments/_archived_experiments/model_architecture/resnet_transfer_num_layers/pro-est_met-die/resnet-152/pro-est_vs_die-met_resnet_transfer_152_finetune_train.csv',\n",
       " '../experiments/_archived_experiments/model_architecture/resnet_transfer_num_layers/pro-est_met-die/resnet-18/pro-est_vs_die-met_resnet_transfer_18_finetune_train.csv',\n",
       " '../experiments/_archived_experiments/model_architecture/resnet_transfer_num_layers/die_vs_all/resnet-152/die_vs_all_resnet_transfer_152_finetune_train.csv',\n",
       " '../experiments/_archived_experiments/model_architecture/resnet_transfer_num_layers/die_vs_all/resnet-101/die_vs_all_resnet_transfer_101_finetune_train.csv',\n",
       " '../experiments/_archived_experiments/model_architecture/resnet_transfer_num_layers/die_vs_all/resnet-18/die_vs_all_resnet_transfer_18_finetune_train.csv',\n",
       " '../experiments/_archived_experiments/model_architecture/resnet_transfer_num_layers/die_vs_all/resnet-34/die_vs_all_resnet_transfer_34_finetune_train.csv',\n",
       " '../experiments/_archived_experiments/data_augmentation_runtime/no_scale/4_class_11+11a/resnet_transfer-101-finetune/train.csv',\n",
       " '../experiments/_archived_experiments/data_augmentation_runtime/random_cropping_only/4_class_11+11a/resnet_transfer-101-finetune/train.csv',\n",
       " '../experiments/data_augmentation/runtime/BEST_random_affine_crop/3_class_11/resnet_transfer-101-finetune/train.csv',\n",
       " '../experiments/data_augmentation/runtime/BEST_random_affine_crop/3_class_11/transfer_from_4_class/3_class_11/resnet_transfer-101-finetune/train.csv',\n",
       " '../experiments/data_augmentation/runtime/BEST_random_affine_crop/die_vs_all_11/resnet_transfer-101-finetune/train.csv',\n",
       " '../experiments/data_augmentation/runtime/BEST_random_affine_crop/4_class/resnet_transfer-101-finetune/train.csv',\n",
       " '../experiments/data_augmentation/runtime/add_color_jitter_augment/4_class_11/resnet_transfer-101-finetune/train.csv',\n",
       " '../experiments/data_augmentation/runtime/add_color_jitter_augment/pro-est_vs_met-die_11/resnet_transfer-101-finetune/train.csv',\n",
       " '../experiments/data_augmentation/runtime/add_color_jitter_augment/3_class_11/resnet_transfer-101-finetune/train.csv',\n",
       " '../experiments/data_augmentation/runtime/add_color_jitter_augment/die_vs_all_11/resnet_transfer-101-finetune/train.csv']"
      ]
     },
     "execution_count": 32,
     "metadata": {},
     "output_type": "execute_result"
    }
   ],
   "source": [
    "train_files = glob.glob(\"../experiments/**/*train*.csv\", recursive=True)\n",
    "train_files"
   ]
  },
  {
   "cell_type": "code",
   "execution_count": 28,
   "metadata": {},
   "outputs": [],
   "source": [
    "summary_df = pd.DataFrame(index=None, columns=['experiment', 'val_accuracy'])\n",
    "\n",
    "def get_exp_name(pred_file):\n",
    "    parts = os.path.dirname(pred_file).split(os.path.sep)\n",
    "    from_index = parts.index('experiments') + 1\n",
    "    experiment_name = \"/\".join(parts[from_index:])\n",
    "    return experiment_name\n",
    "\n",
    "def calculate_accuracy(pred_file):\n",
    "    df = pd.read_csv(pred_file)\n",
    "    df['correct'] = df['label'] == df['predicted']\n",
    "    accuracy = df['correct'].sum() / len(df['correct'])\n",
    "    return accuracy\n",
    "\n",
    "for pred_file in prediction_files:\n",
    "    exp_name = get_exp_name(pred_file)\n",
    "    acc = calculate_accuracy(pred_file)\n",
    "    summary_df = summary_df.append({'experiment': exp_name, 'val_accuracy': acc}, \n",
    "                      ignore_index=True)\n",
    "\n"
   ]
  },
  {
   "cell_type": "code",
   "execution_count": 29,
   "metadata": {},
   "outputs": [
    {
     "data": {
      "text/html": [
       "<div>\n",
       "<style scoped>\n",
       "    .dataframe tbody tr th:only-of-type {\n",
       "        vertical-align: middle;\n",
       "    }\n",
       "\n",
       "    .dataframe tbody tr th {\n",
       "        vertical-align: top;\n",
       "    }\n",
       "\n",
       "    .dataframe thead th {\n",
       "        text-align: right;\n",
       "    }\n",
       "</style>\n",
       "<table border=\"1\" class=\"dataframe\">\n",
       "  <thead>\n",
       "    <tr style=\"text-align: right;\">\n",
       "      <th></th>\n",
       "      <th>experiment</th>\n",
       "      <th>val_accuracy</th>\n",
       "    </tr>\n",
       "  </thead>\n",
       "  <tbody>\n",
       "    <tr>\n",
       "      <th>0</th>\n",
       "      <td>add_exp11a_images/4_class_11+11a_filtered/resn...</td>\n",
       "      <td>0.750000</td>\n",
       "    </tr>\n",
       "    <tr>\n",
       "      <th>1</th>\n",
       "      <td>add_exp11a_images/4_class_11+11a/resnet_transf...</td>\n",
       "      <td>0.733119</td>\n",
       "    </tr>\n",
       "    <tr>\n",
       "      <th>2</th>\n",
       "      <td>_archived_experiments/data_augmentation_runtim...</td>\n",
       "      <td>0.703571</td>\n",
       "    </tr>\n",
       "    <tr>\n",
       "      <th>3</th>\n",
       "      <td>multistage_experiment/diestrus-imagenet_transf...</td>\n",
       "      <td>0.777251</td>\n",
       "    </tr>\n",
       "    <tr>\n",
       "      <th>4</th>\n",
       "      <td>multistage_experiment/diestrus-colorjitter_tra...</td>\n",
       "      <td>0.781991</td>\n",
       "    </tr>\n",
       "    <tr>\n",
       "      <th>5</th>\n",
       "      <td>multistage_experiment/both_models_from_imagenet</td>\n",
       "      <td>0.758294</td>\n",
       "    </tr>\n",
       "    <tr>\n",
       "      <th>6</th>\n",
       "      <td>data_augmentation/runtime/BEST_random_affine_c...</td>\n",
       "      <td>0.604396</td>\n",
       "    </tr>\n",
       "    <tr>\n",
       "      <th>7</th>\n",
       "      <td>data_augmentation/runtime/BEST_random_affine_c...</td>\n",
       "      <td>0.659341</td>\n",
       "    </tr>\n",
       "    <tr>\n",
       "      <th>8</th>\n",
       "      <td>data_augmentation/runtime/BEST_random_affine_c...</td>\n",
       "      <td>0.909953</td>\n",
       "    </tr>\n",
       "    <tr>\n",
       "      <th>9</th>\n",
       "      <td>data_augmentation/runtime/BEST_random_affine_c...</td>\n",
       "      <td>0.791469</td>\n",
       "    </tr>\n",
       "    <tr>\n",
       "      <th>10</th>\n",
       "      <td>data_augmentation/runtime/add_color_jitter_aug...</td>\n",
       "      <td>0.758294</td>\n",
       "    </tr>\n",
       "    <tr>\n",
       "      <th>11</th>\n",
       "      <td>data_augmentation/runtime/add_color_jitter_aug...</td>\n",
       "      <td>0.895735</td>\n",
       "    </tr>\n",
       "    <tr>\n",
       "      <th>12</th>\n",
       "      <td>data_augmentation/runtime/add_color_jitter_aug...</td>\n",
       "      <td>0.604396</td>\n",
       "    </tr>\n",
       "    <tr>\n",
       "      <th>13</th>\n",
       "      <td>data_augmentation/runtime/add_color_jitter_aug...</td>\n",
       "      <td>0.914692</td>\n",
       "    </tr>\n",
       "  </tbody>\n",
       "</table>\n",
       "</div>"
      ],
      "text/plain": [
       "                                           experiment  val_accuracy\n",
       "0   add_exp11a_images/4_class_11+11a_filtered/resn...      0.750000\n",
       "1   add_exp11a_images/4_class_11+11a/resnet_transf...      0.733119\n",
       "2   _archived_experiments/data_augmentation_runtim...      0.703571\n",
       "3   multistage_experiment/diestrus-imagenet_transf...      0.777251\n",
       "4   multistage_experiment/diestrus-colorjitter_tra...      0.781991\n",
       "5     multistage_experiment/both_models_from_imagenet      0.758294\n",
       "6   data_augmentation/runtime/BEST_random_affine_c...      0.604396\n",
       "7   data_augmentation/runtime/BEST_random_affine_c...      0.659341\n",
       "8   data_augmentation/runtime/BEST_random_affine_c...      0.909953\n",
       "9   data_augmentation/runtime/BEST_random_affine_c...      0.791469\n",
       "10  data_augmentation/runtime/add_color_jitter_aug...      0.758294\n",
       "11  data_augmentation/runtime/add_color_jitter_aug...      0.895735\n",
       "12  data_augmentation/runtime/add_color_jitter_aug...      0.604396\n",
       "13  data_augmentation/runtime/add_color_jitter_aug...      0.914692"
      ]
     },
     "execution_count": 29,
     "metadata": {},
     "output_type": "execute_result"
    }
   ],
   "source": [
    "summary_df"
   ]
  },
  {
   "cell_type": "code",
   "execution_count": 31,
   "metadata": {},
   "outputs": [],
   "source": [
    "summary_df.to_csv('accumulated_accuracies.csv', index=False)"
   ]
  },
  {
   "cell_type": "code",
   "execution_count": null,
   "metadata": {},
   "outputs": [],
   "source": []
  }
 ],
 "metadata": {
  "kernelspec": {
   "display_name": "Python 3",
   "language": "python",
   "name": "python3"
  },
  "language_info": {
   "codemirror_mode": {
    "name": "ipython",
    "version": 3
   },
   "file_extension": ".py",
   "mimetype": "text/x-python",
   "name": "python",
   "nbconvert_exporter": "python",
   "pygments_lexer": "ipython3",
   "version": "3.6.6"
  }
 },
 "nbformat": 4,
 "nbformat_minor": 2
}
