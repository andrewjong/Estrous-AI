{
 "cells": [
  {
   "cell_type": "code",
   "execution_count": null,
   "metadata": {},
   "outputs": [],
   "source": [
    "import torch\n",
    "from multistage_classifier import *"
   ]
  },
  {
   "cell_type": "code",
   "execution_count": null,
   "metadata": {},
   "outputs": [],
   "source": [
    "num_gpus = torch.cuda.device_count()\n",
    "device = get_device()\n",
    "device, num_gpus"
   ]
  },
  {
   "cell_type": "code",
   "execution_count": null,
   "metadata": {},
   "outputs": [],
   "source": [
    "new_groups = ((\"proestrus\", \"estrus\", \"metestrus\"), (\"diestrus\", ))\n",
    "GROUP1, GROUP2 = new_groups"
   ]
  },
  {
   "cell_type": "code",
   "execution_count": null,
   "metadata": {},
   "outputs": [],
   "source": [
    "four_dataset, _ = get_subset_dataset_and_loader(\"data/4_class_11\", \"val\", batch_size=1)\n",
    "# four_dataset.samples"
   ]
  },
  {
   "cell_type": "code",
   "execution_count": null,
   "metadata": {},
   "outputs": [],
   "source": [
    "binary_dataset = regroup_dataset_classes(four_dataset, (GROUP1, GROUP2))\n",
    "\n",
    "binary_dataloader = torch.utils.data.DataLoader(binary_dataset,\n",
    "                                                batch_size=1, shuffle=True,\n",
    "                                                num_workers=num_gpus * 4)"
   ]
  },
  {
   "cell_type": "code",
   "execution_count": null,
   "metadata": {},
   "outputs": [],
   "source": [
    "binary_dataset.samples"
   ]
  },
  {
   "cell_type": "code",
   "execution_count": null,
   "metadata": {},
   "outputs": [],
   "source": [
    "base = \"models/random_affine_augment/\"\n",
    "model = \"/resnet_transfer-101-finetune/model.pth\"\n",
    "model_paths = (base + \"die_vs_all\" + model, base + \"3_class\" + model)\n",
    "model_paths"
   ]
  },
  {
   "cell_type": "code",
   "execution_count": null,
   "metadata": {},
   "outputs": [],
   "source": [
    "binary_model_path = model_paths[0]\n",
    "\n",
    "binary_meta_dict = get_meta_dict_from_model_path(binary_model_path)\n",
    "\n",
    "binary_model = load_model(binary_model_path, binary_meta_dict, 2, device)"
   ]
  },
  {
   "cell_type": "code",
   "execution_count": null,
   "metadata": {},
   "outputs": [],
   "source": [
    "trinary_model_path = model_paths[1]\n",
    "trinary_meta_dict = get_meta_dict_from_model_path(trinary_model_path)\n",
    "trinary_model = load_model(trinary_model_path, trinary_meta_dict, 3, device)"
   ]
  },
  {
   "cell_type": "markdown",
   "metadata": {},
   "source": [
    "# Load Input"
   ]
  },
  {
   "cell_type": "code",
   "execution_count": null,
   "metadata": {},
   "outputs": [],
   "source": [
    "# for all the inputs, make a prediction\n",
    "input_tensor, label, path_tuple = next(iter(binary_dataloader))\n",
    "\n",
    "input_tensor = input_tensor.to(device)\n",
    "label = label.to(device)"
   ]
  },
  {
   "cell_type": "code",
   "execution_count": null,
   "metadata": {},
   "outputs": [],
   "source": [
    "input_tensor.shape"
   ]
  },
  {
   "cell_type": "code",
   "execution_count": null,
   "metadata": {},
   "outputs": [],
   "source": [
    "label"
   ]
  },
  {
   "cell_type": "code",
   "execution_count": null,
   "metadata": {},
   "outputs": [],
   "source": [
    "# make prediction by passing forward through the model\n",
    "with torch.set_grad_enabled(False):\n",
    "    binary_raw_output = binary_model(input_tensor)\n",
    "    binary_output = torch.nn.Softmax(dim=1)(binary_raw_output)\n",
    "\n",
    "_, prediction = torch.max(binary_output, 1)\n",
    "\n",
    "prediction"
   ]
  },
  {
   "cell_type": "code",
   "execution_count": null,
   "metadata": {},
   "outputs": [],
   "source": [
    "# if prediction is the group of pro est met, do the 3 class classifier\n",
    "if prediction == 1:\n",
    "    class_names = binary_dataset.classes\n",
    "    \n",
    "else:\n",
    "    class_names = GROUP1\n",
    "    with torch.set_grad_enabled(False):\n",
    "        trinary_output = torch.nn.Softmax(dim=1)(trinary_model(input_tensor))\n",
    "        _, prediction = torch.max(trinary_output, 1)\n",
    "\n",
    "prediction"
   ]
  },
  {
   "cell_type": "code",
   "execution_count": null,
   "metadata": {},
   "outputs": [],
   "source": [
    "image_name = os.path.basename(path_tuple[0])\n",
    "# get the actual string names of the class\n",
    "label_class = class_names[label]\n",
    "predicted_class = class_names[prediction]\n",
    "\n",
    "image_name, label_class, predicted_class"
   ]
  },
  {
   "cell_type": "code",
   "execution_count": null,
   "metadata": {},
   "outputs": [],
   "source": [
    "binary_output, binary_output.shape"
   ]
  },
  {
   "cell_type": "code",
   "execution_count": null,
   "metadata": {},
   "outputs": [],
   "source": [
    "trinary_output, trinary_output.shape"
   ]
  },
  {
   "cell_type": "code",
   "execution_count": null,
   "metadata": {},
   "outputs": [],
   "source": [
    "torch.cat((torch.t(binary_output), torch.t(trinary_output)))"
   ]
  },
  {
   "cell_type": "code",
   "execution_count": null,
   "metadata": {},
   "outputs": [],
   "source": [
    "torch.zeros(1, 3)"
   ]
  },
  {
   "cell_type": "code",
   "execution_count": null,
   "metadata": {},
   "outputs": [],
   "source": []
  }
 ],
 "metadata": {
  "kernelspec": {
   "display_name": "Python 3",
   "language": "python",
   "name": "python3"
  },
  "language_info": {
   "codemirror_mode": {
    "name": "ipython",
    "version": 3
   },
   "file_extension": ".py",
   "mimetype": "text/x-python",
   "name": "python",
   "nbconvert_exporter": "python",
   "pygments_lexer": "ipython3",
   "version": "3.6.6"
  }
 },
 "nbformat": 4,
 "nbformat_minor": 2
}
